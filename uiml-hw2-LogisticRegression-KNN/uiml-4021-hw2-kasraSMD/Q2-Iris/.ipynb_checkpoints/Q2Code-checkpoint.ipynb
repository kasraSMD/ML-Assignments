{
 "cells": [
  {
   "cell_type": "markdown",
   "id": "2e43c1b4",
   "metadata": {},
   "source": [
    "# Kasra Samadi 993623030"
   ]
  },
  {
   "cell_type": "code",
   "execution_count": 116,
   "id": "9c1f5e20",
   "metadata": {},
   "outputs": [],
   "source": [
    "import numpy as np\n",
    "import pandas as pd\n",
    "import matplotlib.pyplot as plt\n",
    "import seaborn as sns\n",
    "from sklearn.metrics import mean_squared_error\n",
    "%matplotlib inline"
   ]
  },
  {
   "cell_type": "markdown",
   "id": "25221532",
   "metadata": {},
   "source": [
    "### reading train.csv and test.csv"
   ]
  },
  {
   "cell_type": "code",
   "execution_count": 117,
   "id": "b3c5491d",
   "metadata": {},
   "outputs": [],
   "source": [
    "df_train = pd.read_csv(\"train.csv\")\n",
    "df_test = pd.read_csv(\"test.csv\")"
   ]
  },
  {
   "cell_type": "code",
   "execution_count": 118,
   "id": "e1e21668",
   "metadata": {},
   "outputs": [
    {
     "data": {
      "text/html": [
       "<div>\n",
       "<style scoped>\n",
       "    .dataframe tbody tr th:only-of-type {\n",
       "        vertical-align: middle;\n",
       "    }\n",
       "\n",
       "    .dataframe tbody tr th {\n",
       "        vertical-align: top;\n",
       "    }\n",
       "\n",
       "    .dataframe thead th {\n",
       "        text-align: right;\n",
       "    }\n",
       "</style>\n",
       "<table border=\"1\" class=\"dataframe\">\n",
       "  <thead>\n",
       "    <tr style=\"text-align: right;\">\n",
       "      <th></th>\n",
       "      <th>Id</th>\n",
       "      <th>SepalLengthCm</th>\n",
       "      <th>SepalWidthCm</th>\n",
       "      <th>PetalLengthCm</th>\n",
       "      <th>PetalWidthCm</th>\n",
       "      <th>Species</th>\n",
       "    </tr>\n",
       "  </thead>\n",
       "  <tbody>\n",
       "    <tr>\n",
       "      <th>0</th>\n",
       "      <td>85</td>\n",
       "      <td>5.4</td>\n",
       "      <td>3.0</td>\n",
       "      <td>4.5</td>\n",
       "      <td>1.5</td>\n",
       "      <td>Iris-versicolor</td>\n",
       "    </tr>\n",
       "    <tr>\n",
       "      <th>1</th>\n",
       "      <td>123</td>\n",
       "      <td>7.7</td>\n",
       "      <td>2.8</td>\n",
       "      <td>6.7</td>\n",
       "      <td>2.0</td>\n",
       "      <td>Iris-virginica</td>\n",
       "    </tr>\n",
       "    <tr>\n",
       "      <th>2</th>\n",
       "      <td>29</td>\n",
       "      <td>5.2</td>\n",
       "      <td>3.4</td>\n",
       "      <td>1.4</td>\n",
       "      <td>0.2</td>\n",
       "      <td>Iris-setosa</td>\n",
       "    </tr>\n",
       "    <tr>\n",
       "      <th>3</th>\n",
       "      <td>25</td>\n",
       "      <td>4.8</td>\n",
       "      <td>3.4</td>\n",
       "      <td>1.9</td>\n",
       "      <td>0.2</td>\n",
       "      <td>Iris-setosa</td>\n",
       "    </tr>\n",
       "    <tr>\n",
       "      <th>4</th>\n",
       "      <td>76</td>\n",
       "      <td>6.6</td>\n",
       "      <td>3.0</td>\n",
       "      <td>4.4</td>\n",
       "      <td>1.4</td>\n",
       "      <td>Iris-versicolor</td>\n",
       "    </tr>\n",
       "    <tr>\n",
       "      <th>...</th>\n",
       "      <td>...</td>\n",
       "      <td>...</td>\n",
       "      <td>...</td>\n",
       "      <td>...</td>\n",
       "      <td>...</td>\n",
       "      <td>...</td>\n",
       "    </tr>\n",
       "    <tr>\n",
       "      <th>115</th>\n",
       "      <td>118</td>\n",
       "      <td>7.7</td>\n",
       "      <td>3.8</td>\n",
       "      <td>6.7</td>\n",
       "      <td>2.2</td>\n",
       "      <td>Iris-virginica</td>\n",
       "    </tr>\n",
       "    <tr>\n",
       "      <th>116</th>\n",
       "      <td>60</td>\n",
       "      <td>5.2</td>\n",
       "      <td>2.7</td>\n",
       "      <td>3.9</td>\n",
       "      <td>1.4</td>\n",
       "      <td>Iris-versicolor</td>\n",
       "    </tr>\n",
       "    <tr>\n",
       "      <th>117</th>\n",
       "      <td>46</td>\n",
       "      <td>4.8</td>\n",
       "      <td>3.0</td>\n",
       "      <td>1.4</td>\n",
       "      <td>0.3</td>\n",
       "      <td>Iris-setosa</td>\n",
       "    </tr>\n",
       "    <tr>\n",
       "      <th>118</th>\n",
       "      <td>33</td>\n",
       "      <td>5.2</td>\n",
       "      <td>4.1</td>\n",
       "      <td>1.5</td>\n",
       "      <td>0.1</td>\n",
       "      <td>Iris-setosa</td>\n",
       "    </tr>\n",
       "    <tr>\n",
       "      <th>119</th>\n",
       "      <td>32</td>\n",
       "      <td>5.4</td>\n",
       "      <td>3.4</td>\n",
       "      <td>1.5</td>\n",
       "      <td>0.4</td>\n",
       "      <td>Iris-setosa</td>\n",
       "    </tr>\n",
       "  </tbody>\n",
       "</table>\n",
       "<p>120 rows × 6 columns</p>\n",
       "</div>"
      ],
      "text/plain": [
       "      Id  SepalLengthCm  SepalWidthCm  PetalLengthCm  PetalWidthCm  \\\n",
       "0     85            5.4           3.0            4.5           1.5   \n",
       "1    123            7.7           2.8            6.7           2.0   \n",
       "2     29            5.2           3.4            1.4           0.2   \n",
       "3     25            4.8           3.4            1.9           0.2   \n",
       "4     76            6.6           3.0            4.4           1.4   \n",
       "..   ...            ...           ...            ...           ...   \n",
       "115  118            7.7           3.8            6.7           2.2   \n",
       "116   60            5.2           2.7            3.9           1.4   \n",
       "117   46            4.8           3.0            1.4           0.3   \n",
       "118   33            5.2           4.1            1.5           0.1   \n",
       "119   32            5.4           3.4            1.5           0.4   \n",
       "\n",
       "             Species  \n",
       "0    Iris-versicolor  \n",
       "1     Iris-virginica  \n",
       "2        Iris-setosa  \n",
       "3        Iris-setosa  \n",
       "4    Iris-versicolor  \n",
       "..               ...  \n",
       "115   Iris-virginica  \n",
       "116  Iris-versicolor  \n",
       "117      Iris-setosa  \n",
       "118      Iris-setosa  \n",
       "119      Iris-setosa  \n",
       "\n",
       "[120 rows x 6 columns]"
      ]
     },
     "execution_count": 118,
     "metadata": {},
     "output_type": "execute_result"
    }
   ],
   "source": [
    "df_train"
   ]
  },
  {
   "cell_type": "code",
   "execution_count": 119,
   "id": "90a78eba",
   "metadata": {},
   "outputs": [
    {
     "name": "stdout",
     "output_type": "stream",
     "text": [
      "Id               0\n",
      "SepalLengthCm    0\n",
      "SepalWidthCm     0\n",
      "PetalLengthCm    0\n",
      "PetalWidthCm     0\n",
      "Species          0\n",
      "dtype: int64\n",
      "Id               0\n",
      "SepalLengthCm    0\n",
      "SepalWidthCm     0\n",
      "PetalLengthCm    0\n",
      "PetalWidthCm     0\n",
      "Species          0\n",
      "dtype: int64\n"
     ]
    }
   ],
   "source": [
    "print(df_train.isna().sum())\n",
    "print(df_test.isna().sum())"
   ]
  },
  {
   "cell_type": "markdown",
   "id": "1755db96",
   "metadata": {},
   "source": [
    "### define x_train , y_train and x_test "
   ]
  },
  {
   "cell_type": "code",
   "execution_count": 120,
   "id": "810c85dc",
   "metadata": {},
   "outputs": [],
   "source": [
    "y_train = df_train[\"Species\"]\n",
    "y_test = df_test[\"Species\"]\n",
    "x_train = df_train.drop([\"Id\",\"Species\"], axis=1)\n",
    "x_test = df_test.drop([\"Id\",\"Species\"], axis=1)\n"
   ]
  },
  {
   "cell_type": "code",
   "execution_count": 121,
   "id": "c346af0d",
   "metadata": {
    "scrolled": false
   },
   "outputs": [
    {
     "name": "stdout",
     "output_type": "stream",
     "text": [
      "Iris-setosa        42\n",
      "Iris-versicolor    40\n",
      "Iris-virginica     38\n",
      "Name: Species, dtype: int64\n",
      "Iris-virginica     12\n",
      "Iris-versicolor    10\n",
      "Iris-setosa         8\n",
      "Name: Species, dtype: int64\n"
     ]
    }
   ],
   "source": [
    "print(y_train.value_counts())\n",
    "print(y_test.value_counts())"
   ]
  },
  {
   "cell_type": "code",
   "execution_count": 122,
   "id": "98a8b5fb",
   "metadata": {},
   "outputs": [],
   "source": [
    "# y_train = pd.DataFrame(y_train)\n",
    "# y_test = pd.DataFrame(y_test)\n"
   ]
  },
  {
   "cell_type": "code",
   "execution_count": 123,
   "id": "ed9ef4da",
   "metadata": {
    "scrolled": true
   },
   "outputs": [
    {
     "data": {
      "text/plain": [
       "0      Iris-versicolor\n",
       "1       Iris-virginica\n",
       "2          Iris-setosa\n",
       "3          Iris-setosa\n",
       "4      Iris-versicolor\n",
       "            ...       \n",
       "115     Iris-virginica\n",
       "116    Iris-versicolor\n",
       "117        Iris-setosa\n",
       "118        Iris-setosa\n",
       "119        Iris-setosa\n",
       "Name: Species, Length: 120, dtype: object"
      ]
     },
     "execution_count": 123,
     "metadata": {},
     "output_type": "execute_result"
    }
   ],
   "source": [
    "y_train"
   ]
  },
  {
   "cell_type": "markdown",
   "id": "7e092577",
   "metadata": {},
   "source": [
    "### convert Species column to numerical values"
   ]
  },
  {
   "cell_type": "code",
   "execution_count": 124,
   "id": "b3ca200b",
   "metadata": {},
   "outputs": [],
   "source": [
    "# Species = {\"Iris-setosa\": 2,\"Iris-versicolor\": 1 ,\"Iris-virginica\" : 0} \n",
    "# y_train[\"Species\"] = [Species[i] for i in y_train[\"Species\"]]\n",
    "# y_test[\"Species\"] = [Species[i] for i in y_test[\"Species\"]]"
   ]
  },
  {
   "cell_type": "code",
   "execution_count": 125,
   "id": "c9200bd4",
   "metadata": {
    "scrolled": true
   },
   "outputs": [
    {
     "data": {
      "text/plain": [
       "0      Iris-versicolor\n",
       "1       Iris-virginica\n",
       "2          Iris-setosa\n",
       "3          Iris-setosa\n",
       "4      Iris-versicolor\n",
       "            ...       \n",
       "115     Iris-virginica\n",
       "116    Iris-versicolor\n",
       "117        Iris-setosa\n",
       "118        Iris-setosa\n",
       "119        Iris-setosa\n",
       "Name: Species, Length: 120, dtype: object"
      ]
     },
     "execution_count": 125,
     "metadata": {},
     "output_type": "execute_result"
    }
   ],
   "source": [
    "y_train"
   ]
  },
  {
   "cell_type": "markdown",
   "id": "88d6f1a7",
   "metadata": {},
   "source": [
    "### convert y_train to pandas.core.series.Series"
   ]
  },
  {
   "cell_type": "code",
   "execution_count": 126,
   "id": "332bc118",
   "metadata": {},
   "outputs": [],
   "source": [
    "# y_train = y_train.squeeze()\n",
    "# y_test = y_test.squeeze()"
   ]
  },
  {
   "cell_type": "code",
   "execution_count": 127,
   "id": "313eebe4",
   "metadata": {
    "scrolled": false
   },
   "outputs": [
    {
     "data": {
      "text/plain": [
       "0         Iris-setosa\n",
       "1         Iris-setosa\n",
       "2         Iris-setosa\n",
       "3         Iris-setosa\n",
       "4         Iris-setosa\n",
       "5         Iris-setosa\n",
       "6         Iris-setosa\n",
       "7         Iris-setosa\n",
       "8     Iris-versicolor\n",
       "9     Iris-versicolor\n",
       "10    Iris-versicolor\n",
       "11    Iris-versicolor\n",
       "12    Iris-versicolor\n",
       "13    Iris-versicolor\n",
       "14    Iris-versicolor\n",
       "15    Iris-versicolor\n",
       "16    Iris-versicolor\n",
       "17    Iris-versicolor\n",
       "18     Iris-virginica\n",
       "19     Iris-virginica\n",
       "20     Iris-virginica\n",
       "21     Iris-virginica\n",
       "22     Iris-virginica\n",
       "23     Iris-virginica\n",
       "24     Iris-virginica\n",
       "25     Iris-virginica\n",
       "26     Iris-virginica\n",
       "27     Iris-virginica\n",
       "28     Iris-virginica\n",
       "29     Iris-virginica\n",
       "Name: Species, dtype: object"
      ]
     },
     "execution_count": 127,
     "metadata": {},
     "output_type": "execute_result"
    }
   ],
   "source": [
    "y_test"
   ]
  },
  {
   "cell_type": "code",
   "execution_count": 128,
   "id": "05f5cb82",
   "metadata": {
    "scrolled": true
   },
   "outputs": [
    {
     "name": "stdout",
     "output_type": "stream",
     "text": [
      "SepalLengthCm    0\n",
      "SepalWidthCm     0\n",
      "PetalLengthCm    0\n",
      "PetalWidthCm     0\n",
      "dtype: int64\n",
      "SepalLengthCm    0\n",
      "SepalWidthCm     0\n",
      "PetalLengthCm    0\n",
      "PetalWidthCm     0\n",
      "dtype: int64\n",
      "0\n",
      "0\n"
     ]
    }
   ],
   "source": [
    "print(x_train.isna().sum())\n",
    "print(x_test.isna().sum())\n",
    "print(y_train.isna().sum())\n",
    "print(y_test.isna().sum())"
   ]
  },
  {
   "cell_type": "markdown",
   "id": "9c730b95",
   "metadata": {},
   "source": [
    "### x_train and x_test normalizing "
   ]
  },
  {
   "cell_type": "code",
   "execution_count": 129,
   "id": "8ac60434",
   "metadata": {},
   "outputs": [],
   "source": [
    "from sklearn.preprocessing import StandardScaler, MinMaxScaler\n",
    "\n",
    "# x_train normalizing\n",
    "x_train_values = x_train.values\n",
    "min_max_scaler = StandardScaler()\n",
    "x_scaled_train = min_max_scaler.fit_transform(x_train_values)\n",
    "x_train = pd.DataFrame(x_scaled_train,columns = x_train.columns)\n",
    "\n",
    "# x_test normalizing\n",
    "x_test_values = x_test.values\n",
    "min_max_scaler = StandardScaler()\n",
    "x_scaled_test = min_max_scaler.fit_transform(x_test_values)\n",
    "x_test = pd.DataFrame(x_scaled_test,columns = x_test.columns)"
   ]
  },
  {
   "cell_type": "code",
   "execution_count": 130,
   "id": "6610b9ad",
   "metadata": {},
   "outputs": [],
   "source": [
    "# Define a function to calculate the Euclidean distance between two points\n",
    "def euclidean_distance(x1, x2):\n",
    "    return np.sqrt(np.sum((x1 - x2)**2))"
   ]
  },
  {
   "cell_type": "code",
   "execution_count": 131,
   "id": "50f46d16",
   "metadata": {},
   "outputs": [],
   "source": [
    "def knn(X_train, y_train, X_test, K):\n",
    "  # Initialize an empty list to store the predictions\n",
    "  y_pred = []\n",
    "  # Loop through each test data point\n",
    "  for x_test in X_test:\n",
    "    # Initialize an empty list to store the distances and labels\n",
    "    distances = []\n",
    "    # Loop through each train data point\n",
    "    for x_train, y_train in zip(X_train, y_train):\n",
    "      # Calculate the distance between the test and train data points\n",
    "      distance = euclidean_distance(x_test, x_train)\n",
    "      # Append the distance and label to the list\n",
    "      distances.append((distance, y_train))\n",
    "    # Sort the list by the distance in ascending order\n",
    "    distances.sort()\n",
    "    # Get the first K elements from the list\n",
    "    k_nearest = distances[:K]\n",
    "    # Get the labels of the K nearest neighbors\n",
    "    k_nearest_labels = [label for _, label in k_nearest]\n",
    "    # Get the most common label among the K nearest neighbors\n",
    "    most_common = max(set(k_nearest_labels), key=k_nearest_labels.count)\n",
    "    # Append the most common label to the predictions list\n",
    "    y_pred.append(most_common)\n",
    "  # Return the predictions list\n",
    "  return y_pred"
   ]
  },
  {
   "cell_type": "code",
   "execution_count": null,
   "id": "a6dd6817",
   "metadata": {},
   "outputs": [],
   "source": [
    "# Import pandas for data frame operations\n",
    "import pandas as pd\n",
    "# Import numpy for array operations\n",
    "import numpy as np\n",
    "\n",
    "# Define a function to calculate the Euclidean distance between two points\n",
    "def euclidean_distance(x1, x2):\n",
    "  return np.sqrt(np.sum((x1 - x2)**2))\n",
    "\n",
    "# Define a function to implement the KNN algorithm\n",
    "def knn(df_train, df_test, K):\n",
    "  # Convert the data frames to numpy arrays\n",
    "  X_train = df_train[['x1', 'x2']].to_numpy()\n",
    "  y_train = df_train['y'].to_numpy()\n",
    "  X_test = df_test[['x1', 'x2']].to_numpy()\n",
    "  y_test = df_test['y'].to_numpy()\n",
    "  # Initialize an empty list to store the predictions\n",
    "  y_pred = []\n",
    "  # Loop through each test data point\n",
    "  for x_test in X_test:\n",
    "    # Initialize an empty list to store the distances and labels\n",
    "    distances = []\n",
    "    # Loop through each train data point\n",
    "    for x_train, y_train in zip(X_train, y_train):\n",
    "      # Calculate the distance between the test and train data points\n",
    "      distance = euclidean_distance(x_test, x_train)\n",
    "      # Append the distance and label to the list\n",
    "      distances.append((distance, y_train))\n",
    "    # Sort the list by the distance in ascending order\n",
    "    distances.sort()\n",
    "    # Get the first K elements from the list\n",
    "    k_nearest = distances[:K]\n",
    "    # Get the labels of the K nearest neighbors\n",
    "    k_nearest_labels = [label for _, label in k_nearest]\n",
    "    # Get the most common label among the K nearest neighbors\n",
    "    most_common = max(set(k_nearest_labels), key=k_nearest_labels.count)\n",
    "    # Append the most common label to the predictions list\n",
    "    y_pred.append(most_common)\n",
    "  # Return the predictions list\n",
    "  return y_pred\n",
    "\n"
   ]
  },
  {
   "cell_type": "code",
   "execution_count": null,
   "id": "60e10e89",
   "metadata": {},
   "outputs": [],
   "source": []
  },
  {
   "cell_type": "markdown",
   "id": "83aabd8e",
   "metadata": {},
   "source": [
    "### predict y_pred"
   ]
  },
  {
   "cell_type": "code",
   "execution_count": 133,
   "id": "7f9c3723",
   "metadata": {},
   "outputs": [
    {
     "ename": "TypeError",
     "evalue": "unsupported operand type(s) for -: 'str' and 'str'",
     "output_type": "error",
     "traceback": [
      "\u001b[1;31m---------------------------------------------------------------------------\u001b[0m",
      "\u001b[1;31mTypeError\u001b[0m                                 Traceback (most recent call last)",
      "Input \u001b[1;32mIn [133]\u001b[0m, in \u001b[0;36m<cell line: 2>\u001b[1;34m()\u001b[0m\n\u001b[0;32m      1\u001b[0m k\u001b[38;5;241m=\u001b[39m\u001b[38;5;241m5\u001b[39m\n\u001b[1;32m----> 2\u001b[0m y_pred \u001b[38;5;241m=\u001b[39m \u001b[43mknn\u001b[49m\u001b[43m(\u001b[49m\u001b[43mx_train\u001b[49m\u001b[43m,\u001b[49m\u001b[43m \u001b[49m\u001b[43my_train\u001b[49m\u001b[43m,\u001b[49m\u001b[43m \u001b[49m\u001b[43mx_test\u001b[49m\u001b[43m,\u001b[49m\u001b[43m \u001b[49m\u001b[43mk\u001b[49m\u001b[43m)\u001b[49m\n",
      "Input \u001b[1;32mIn [131]\u001b[0m, in \u001b[0;36mknn\u001b[1;34m(X_train, y_train, X_test, K)\u001b[0m\n\u001b[0;32m      8\u001b[0m \u001b[38;5;66;03m# Loop through each train data point\u001b[39;00m\n\u001b[0;32m      9\u001b[0m \u001b[38;5;28;01mfor\u001b[39;00m x_train, y_train \u001b[38;5;129;01min\u001b[39;00m \u001b[38;5;28mzip\u001b[39m(X_train, y_train):\n\u001b[0;32m     10\u001b[0m   \u001b[38;5;66;03m# Calculate the distance between the test and train data points\u001b[39;00m\n\u001b[1;32m---> 11\u001b[0m   distance \u001b[38;5;241m=\u001b[39m \u001b[43meuclidean_distance\u001b[49m\u001b[43m(\u001b[49m\u001b[43mx_test\u001b[49m\u001b[43m,\u001b[49m\u001b[43m \u001b[49m\u001b[43mx_train\u001b[49m\u001b[43m)\u001b[49m\n\u001b[0;32m     12\u001b[0m   \u001b[38;5;66;03m# Append the distance and label to the list\u001b[39;00m\n\u001b[0;32m     13\u001b[0m   distances\u001b[38;5;241m.\u001b[39mappend((distance, y_train))\n",
      "Input \u001b[1;32mIn [130]\u001b[0m, in \u001b[0;36meuclidean_distance\u001b[1;34m(x1, x2)\u001b[0m\n\u001b[0;32m      2\u001b[0m \u001b[38;5;28;01mdef\u001b[39;00m \u001b[38;5;21meuclidean_distance\u001b[39m(x1, x2):\n\u001b[1;32m----> 3\u001b[0m     \u001b[38;5;28;01mreturn\u001b[39;00m np\u001b[38;5;241m.\u001b[39msqrt(np\u001b[38;5;241m.\u001b[39msum((\u001b[43mx1\u001b[49m\u001b[43m \u001b[49m\u001b[38;5;241;43m-\u001b[39;49m\u001b[43m \u001b[49m\u001b[43mx2\u001b[49m)\u001b[38;5;241m*\u001b[39m\u001b[38;5;241m*\u001b[39m\u001b[38;5;241m2\u001b[39m))\n",
      "\u001b[1;31mTypeError\u001b[0m: unsupported operand type(s) for -: 'str' and 'str'"
     ]
    }
   ],
   "source": [
    "k=5\n",
    "y_pred = knn(x_train, y_train, x_test, k)"
   ]
  },
  {
   "cell_type": "code",
   "execution_count": 21,
   "id": "8a6c74dd",
   "metadata": {},
   "outputs": [
    {
     "data": {
      "text/plain": [
       "0      False\n",
       "1       True\n",
       "2      False\n",
       "3      False\n",
       "4       True\n",
       "       ...  \n",
       "413    False\n",
       "414     True\n",
       "415    False\n",
       "416    False\n",
       "417    False\n",
       "Length: 418, dtype: bool"
      ]
     },
     "execution_count": 21,
     "metadata": {},
     "output_type": "execute_result"
    }
   ],
   "source": [
    "y_pred"
   ]
  },
  {
   "cell_type": "markdown",
   "id": "20be1159",
   "metadata": {},
   "source": [
    "### Convert boolean to integer"
   ]
  },
  {
   "cell_type": "code",
   "execution_count": 22,
   "id": "c8fb454b",
   "metadata": {},
   "outputs": [],
   "source": [
    "y_pred = y_pred.astype(int) "
   ]
  },
  {
   "cell_type": "markdown",
   "id": "a0b901a9",
   "metadata": {},
   "source": [
    "### create y_pred and PassengerId dataFrames"
   ]
  },
  {
   "cell_type": "code",
   "execution_count": 23,
   "id": "332dbec8",
   "metadata": {},
   "outputs": [],
   "source": [
    "y_pred_df = pd.DataFrame(y_pred,columns=['Survived'])"
   ]
  },
  {
   "cell_type": "code",
   "execution_count": 24,
   "id": "1fa21fdc",
   "metadata": {},
   "outputs": [],
   "source": [
    "PassengerId_df = pd.DataFrame(df_test[\"PassengerId\"],columns=['PassengerId'])"
   ]
  },
  {
   "cell_type": "markdown",
   "id": "aaf33f46",
   "metadata": {},
   "source": [
    "### create storing result dataFrame"
   ]
  },
  {
   "cell_type": "code",
   "execution_count": 25,
   "id": "3324615c",
   "metadata": {},
   "outputs": [],
   "source": [
    "result = pd.concat([PassengerId_df, y_pred_df], axis=1)\n"
   ]
  },
  {
   "cell_type": "markdown",
   "id": "801ba59c",
   "metadata": {},
   "source": [
    "### save to csv"
   ]
  },
  {
   "cell_type": "code",
   "execution_count": 26,
   "id": "8dae9e5b",
   "metadata": {},
   "outputs": [],
   "source": [
    "result.to_csv(\"Q1.csv\",index=False)"
   ]
  }
 ],
 "metadata": {
  "kernelspec": {
   "display_name": "Python 3 (ipykernel)",
   "language": "python",
   "name": "python3"
  },
  "language_info": {
   "codemirror_mode": {
    "name": "ipython",
    "version": 3
   },
   "file_extension": ".py",
   "mimetype": "text/x-python",
   "name": "python",
   "nbconvert_exporter": "python",
   "pygments_lexer": "ipython3",
   "version": "3.9.12"
  }
 },
 "nbformat": 4,
 "nbformat_minor": 5
}
