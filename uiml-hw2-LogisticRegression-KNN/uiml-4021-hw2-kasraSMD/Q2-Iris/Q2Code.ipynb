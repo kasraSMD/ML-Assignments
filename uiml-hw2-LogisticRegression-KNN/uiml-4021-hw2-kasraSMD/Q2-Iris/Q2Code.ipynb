{
 "cells": [
  {
   "cell_type": "markdown",
   "id": "2e43c1b4",
   "metadata": {},
   "source": [
    "# Kasra Samadi 993623030"
   ]
  },
  {
   "cell_type": "code",
   "execution_count": 1,
   "id": "9c1f5e20",
   "metadata": {},
   "outputs": [],
   "source": [
    "import numpy as np\n",
    "import pandas as pd\n",
    "import matplotlib.pyplot as plt\n",
    "import seaborn as sns\n",
    "from sklearn.metrics import mean_squared_error\n",
    "%matplotlib inline"
   ]
  },
  {
   "cell_type": "markdown",
   "id": "25221532",
   "metadata": {},
   "source": [
    "### reading train.csv and test.csv"
   ]
  },
  {
   "cell_type": "code",
   "execution_count": 2,
   "id": "b3c5491d",
   "metadata": {},
   "outputs": [],
   "source": [
    "df_train = pd.read_csv(\"train.csv\")\n",
    "df_test = pd.read_csv(\"test.csv\")"
   ]
  },
  {
   "cell_type": "code",
   "execution_count": 3,
   "id": "e1e21668",
   "metadata": {},
   "outputs": [
    {
     "data": {
      "text/html": [
       "<div>\n",
       "<style scoped>\n",
       "    .dataframe tbody tr th:only-of-type {\n",
       "        vertical-align: middle;\n",
       "    }\n",
       "\n",
       "    .dataframe tbody tr th {\n",
       "        vertical-align: top;\n",
       "    }\n",
       "\n",
       "    .dataframe thead th {\n",
       "        text-align: right;\n",
       "    }\n",
       "</style>\n",
       "<table border=\"1\" class=\"dataframe\">\n",
       "  <thead>\n",
       "    <tr style=\"text-align: right;\">\n",
       "      <th></th>\n",
       "      <th>Id</th>\n",
       "      <th>SepalLengthCm</th>\n",
       "      <th>SepalWidthCm</th>\n",
       "      <th>PetalLengthCm</th>\n",
       "      <th>PetalWidthCm</th>\n",
       "      <th>Species</th>\n",
       "    </tr>\n",
       "  </thead>\n",
       "  <tbody>\n",
       "    <tr>\n",
       "      <th>0</th>\n",
       "      <td>85</td>\n",
       "      <td>5.4</td>\n",
       "      <td>3.0</td>\n",
       "      <td>4.5</td>\n",
       "      <td>1.5</td>\n",
       "      <td>Iris-versicolor</td>\n",
       "    </tr>\n",
       "    <tr>\n",
       "      <th>1</th>\n",
       "      <td>123</td>\n",
       "      <td>7.7</td>\n",
       "      <td>2.8</td>\n",
       "      <td>6.7</td>\n",
       "      <td>2.0</td>\n",
       "      <td>Iris-virginica</td>\n",
       "    </tr>\n",
       "    <tr>\n",
       "      <th>2</th>\n",
       "      <td>29</td>\n",
       "      <td>5.2</td>\n",
       "      <td>3.4</td>\n",
       "      <td>1.4</td>\n",
       "      <td>0.2</td>\n",
       "      <td>Iris-setosa</td>\n",
       "    </tr>\n",
       "    <tr>\n",
       "      <th>3</th>\n",
       "      <td>25</td>\n",
       "      <td>4.8</td>\n",
       "      <td>3.4</td>\n",
       "      <td>1.9</td>\n",
       "      <td>0.2</td>\n",
       "      <td>Iris-setosa</td>\n",
       "    </tr>\n",
       "    <tr>\n",
       "      <th>4</th>\n",
       "      <td>76</td>\n",
       "      <td>6.6</td>\n",
       "      <td>3.0</td>\n",
       "      <td>4.4</td>\n",
       "      <td>1.4</td>\n",
       "      <td>Iris-versicolor</td>\n",
       "    </tr>\n",
       "    <tr>\n",
       "      <th>...</th>\n",
       "      <td>...</td>\n",
       "      <td>...</td>\n",
       "      <td>...</td>\n",
       "      <td>...</td>\n",
       "      <td>...</td>\n",
       "      <td>...</td>\n",
       "    </tr>\n",
       "    <tr>\n",
       "      <th>115</th>\n",
       "      <td>118</td>\n",
       "      <td>7.7</td>\n",
       "      <td>3.8</td>\n",
       "      <td>6.7</td>\n",
       "      <td>2.2</td>\n",
       "      <td>Iris-virginica</td>\n",
       "    </tr>\n",
       "    <tr>\n",
       "      <th>116</th>\n",
       "      <td>60</td>\n",
       "      <td>5.2</td>\n",
       "      <td>2.7</td>\n",
       "      <td>3.9</td>\n",
       "      <td>1.4</td>\n",
       "      <td>Iris-versicolor</td>\n",
       "    </tr>\n",
       "    <tr>\n",
       "      <th>117</th>\n",
       "      <td>46</td>\n",
       "      <td>4.8</td>\n",
       "      <td>3.0</td>\n",
       "      <td>1.4</td>\n",
       "      <td>0.3</td>\n",
       "      <td>Iris-setosa</td>\n",
       "    </tr>\n",
       "    <tr>\n",
       "      <th>118</th>\n",
       "      <td>33</td>\n",
       "      <td>5.2</td>\n",
       "      <td>4.1</td>\n",
       "      <td>1.5</td>\n",
       "      <td>0.1</td>\n",
       "      <td>Iris-setosa</td>\n",
       "    </tr>\n",
       "    <tr>\n",
       "      <th>119</th>\n",
       "      <td>32</td>\n",
       "      <td>5.4</td>\n",
       "      <td>3.4</td>\n",
       "      <td>1.5</td>\n",
       "      <td>0.4</td>\n",
       "      <td>Iris-setosa</td>\n",
       "    </tr>\n",
       "  </tbody>\n",
       "</table>\n",
       "<p>120 rows × 6 columns</p>\n",
       "</div>"
      ],
      "text/plain": [
       "      Id  SepalLengthCm  SepalWidthCm  PetalLengthCm  PetalWidthCm  \\\n",
       "0     85            5.4           3.0            4.5           1.5   \n",
       "1    123            7.7           2.8            6.7           2.0   \n",
       "2     29            5.2           3.4            1.4           0.2   \n",
       "3     25            4.8           3.4            1.9           0.2   \n",
       "4     76            6.6           3.0            4.4           1.4   \n",
       "..   ...            ...           ...            ...           ...   \n",
       "115  118            7.7           3.8            6.7           2.2   \n",
       "116   60            5.2           2.7            3.9           1.4   \n",
       "117   46            4.8           3.0            1.4           0.3   \n",
       "118   33            5.2           4.1            1.5           0.1   \n",
       "119   32            5.4           3.4            1.5           0.4   \n",
       "\n",
       "             Species  \n",
       "0    Iris-versicolor  \n",
       "1     Iris-virginica  \n",
       "2        Iris-setosa  \n",
       "3        Iris-setosa  \n",
       "4    Iris-versicolor  \n",
       "..               ...  \n",
       "115   Iris-virginica  \n",
       "116  Iris-versicolor  \n",
       "117      Iris-setosa  \n",
       "118      Iris-setosa  \n",
       "119      Iris-setosa  \n",
       "\n",
       "[120 rows x 6 columns]"
      ]
     },
     "execution_count": 3,
     "metadata": {},
     "output_type": "execute_result"
    }
   ],
   "source": [
    "df_train"
   ]
  },
  {
   "cell_type": "code",
   "execution_count": 4,
   "id": "90a78eba",
   "metadata": {},
   "outputs": [
    {
     "name": "stdout",
     "output_type": "stream",
     "text": [
      "Id               0\n",
      "SepalLengthCm    0\n",
      "SepalWidthCm     0\n",
      "PetalLengthCm    0\n",
      "PetalWidthCm     0\n",
      "Species          0\n",
      "dtype: int64\n",
      "Id               0\n",
      "SepalLengthCm    0\n",
      "SepalWidthCm     0\n",
      "PetalLengthCm    0\n",
      "PetalWidthCm     0\n",
      "Species          0\n",
      "dtype: int64\n"
     ]
    }
   ],
   "source": [
    "print(df_train.isna().sum())\n",
    "print(df_test.isna().sum())"
   ]
  },
  {
   "cell_type": "markdown",
   "id": "1755db96",
   "metadata": {},
   "source": [
    "### define train_df , test_df"
   ]
  },
  {
   "cell_type": "code",
   "execution_count": 5,
   "id": "810c85dc",
   "metadata": {},
   "outputs": [],
   "source": [
    "train_df = df_train.drop([\"Id\"], axis=1)\n",
    "test_df = df_test.drop([\"Id\"], axis=1)"
   ]
  },
  {
   "cell_type": "markdown",
   "id": "6158d37e",
   "metadata": {},
   "source": [
    "### plot PetalLengthCm - PetalWidthCm for train_df"
   ]
  },
  {
   "cell_type": "code",
   "execution_count": 6,
   "id": "2a2989ad",
   "metadata": {
    "scrolled": true
   },
   "outputs": [
    {
     "data": {
      "text/plain": [
       "<seaborn.axisgrid.FacetGrid at 0x24fd3c9beb0>"
      ]
     },
     "execution_count": 6,
     "metadata": {},
     "output_type": "execute_result"
    },
    {
     "data": {
      "image/png": "[encoded data removed]",
      "text/plain": [
       "<Figure size 1003.25x360 with 1 Axes>"
      ]
     },
     "metadata": {
      "needs_background": "light"
     },
     "output_type": "display_data"
    }
   ],
   "source": [
    "sns.catplot(x='PetalLengthCm', y='PetalWidthCm', data=train_df, hue='Species', aspect=2.5).set(title='train df with y_true')"
   ]
  },
  {
   "cell_type": "markdown",
   "id": "c1a81453",
   "metadata": {},
   "source": [
    "### plot PetalLengthCm - PetalWidthCm for test_df"
   ]
  },
  {
   "cell_type": "code",
   "execution_count": 7,
   "id": "ac18a06e",
   "metadata": {
    "scrolled": false
   },
   "outputs": [
    {
     "data": {
      "text/plain": [
       "<seaborn.axisgrid.FacetGrid at 0x24fd4002220>"
      ]
     },
     "execution_count": 7,
     "metadata": {},
     "output_type": "execute_result"
    },
    {
     "data": {
      "image/png": "[encoded data removed]",
      "text/plain": [
       "<Figure size 1003.25x360 with 1 Axes>"
      ]
     },
     "metadata": {
      "needs_background": "light"
     },
     "output_type": "display_data"
    }
   ],
   "source": [
    "sns.catplot(x='PetalLengthCm', y='PetalWidthCm', data=test_df, hue='Species', aspect=2.5).set(title='test df with y_true')"
   ]
  },
  {
   "cell_type": "markdown",
   "id": "25fb024d",
   "metadata": {},
   "source": [
    "### define x_train , y_train , x_test and y_test   "
   ]
  },
  {
   "cell_type": "code",
   "execution_count": 8,
   "id": "e446b93d",
   "metadata": {},
   "outputs": [],
   "source": [
    "y_train = df_train[\"Species\"]\n",
    "y_test = df_test[\"Species\"]\n",
    "x_train = df_train.drop([\"Id\", \"Species\"], axis=1)\n",
    "x_test = df_test.drop([\"Id\", \"Species\"], axis=1)"
   ]
  },
  {
   "cell_type": "code",
   "execution_count": 9,
   "id": "c346af0d",
   "metadata": {
    "scrolled": false
   },
   "outputs": [
    {
     "name": "stdout",
     "output_type": "stream",
     "text": [
      "Iris-setosa        42\n",
      "Iris-versicolor    40\n",
      "Iris-virginica     38\n",
      "Name: Species, dtype: int64\n",
      "Iris-virginica     12\n",
      "Iris-versicolor    10\n",
      "Iris-setosa         8\n",
      "Name: Species, dtype: int64\n"
     ]
    }
   ],
   "source": [
    "print(y_train.value_counts())\n",
    "print(y_test.value_counts())"
   ]
  },
  {
   "cell_type": "code",
   "execution_count": 10,
   "id": "05f5cb82",
   "metadata": {
    "scrolled": false
   },
   "outputs": [
    {
     "name": "stdout",
     "output_type": "stream",
     "text": [
      "SepalLengthCm    0\n",
      "SepalWidthCm     0\n",
      "PetalLengthCm    0\n",
      "PetalWidthCm     0\n",
      "dtype: int64\n",
      "SepalLengthCm    0\n",
      "SepalWidthCm     0\n",
      "PetalLengthCm    0\n",
      "PetalWidthCm     0\n",
      "dtype: int64\n",
      "0\n",
      "0\n"
     ]
    }
   ],
   "source": [
    "print(x_train.isna().sum())\n",
    "print(x_test.isna().sum())\n",
    "print(y_train.isna().sum())\n",
    "print(y_test.isna().sum())"
   ]
  },
  {
   "cell_type": "markdown",
   "id": "3bef38dd",
   "metadata": {},
   "source": [
    "### define a function to calculate the Euclidean distance between two points"
   ]
  },
  {
   "cell_type": "code",
   "execution_count": 11,
   "id": "6610b9ad",
   "metadata": {},
   "outputs": [],
   "source": [
    "def euclidean_distance(x1, x2):\n",
    "    return np.sqrt(np.sum((x1 - x2)**2))"
   ]
  },
  {
   "cell_type": "code",
   "execution_count": 12,
   "id": "6e1b0a48",
   "metadata": {
    "scrolled": true
   },
   "outputs": [
    {
     "name": "stdout",
     "output_type": "stream",
     "text": [
      "<class 'pandas.core.frame.DataFrame'>\n",
      "<class 'pandas.core.frame.DataFrame'>\n",
      "<class 'pandas.core.series.Series'>\n",
      "<class 'pandas.core.series.Series'>\n"
     ]
    }
   ],
   "source": [
    "print(type(x_train))\n",
    "print(type(x_test))\n",
    "print(type(y_train))\n",
    "print(type(y_test))"
   ]
  },
  {
   "cell_type": "markdown",
   "id": "d5d06364",
   "metadata": {},
   "source": [
    "### KNN algorithm"
   ]
  },
  {
   "cell_type": "code",
   "execution_count": 13,
   "id": "a6dd6817",
   "metadata": {},
   "outputs": [],
   "source": [
    "def knn(x_train, x_test, y_train, K):\n",
    "    X_train = x_train[['SepalLengthCm', 'SepalWidthCm', 'PetalLengthCm', 'PetalWidthCm']].to_numpy()\n",
    "    X_test = x_test[['SepalLengthCm', 'SepalWidthCm', 'PetalLengthCm', 'PetalWidthCm']].to_numpy()\n",
    "    Y_train = y_train.to_numpy()\n",
    "    y_pred = []\n",
    "    for x_te in X_test:\n",
    "        distances = []  # empty list to store the distances and labels\n",
    "        for x_tr, y_tr in zip(X_train, Y_train):\n",
    "            distance = euclidean_distance(x_te, x_tr)  # calculate the distance between test and train\n",
    "            distances.append((distance, y_tr))  # append the distance and label to list\n",
    "        distances.sort()\n",
    "        k_nearest = distances[:K]  # get the first K elements from the list\n",
    "        k_nearest_labels = [label for _, label in k_nearest]  # get the labels of the K nearest neighbors\n",
    "        # get the most common label among the K nearest neighbors\n",
    "        most_common = max(set(k_nearest_labels), key=k_nearest_labels.count)\n",
    "        y_pred.append(most_common)\n",
    "    return y_pred"
   ]
  },
  {
   "cell_type": "markdown",
   "id": "83aabd8e",
   "metadata": {},
   "source": [
    "### calculate  y_pred_for_x_test"
   ]
  },
  {
   "cell_type": "code",
   "execution_count": 14,
   "id": "7f9c3723",
   "metadata": {},
   "outputs": [],
   "source": [
    "k = 4\n",
    "y_pred_for_x_test = knn(x_train, x_test, y_train, k)"
   ]
  },
  {
   "cell_type": "code",
   "execution_count": 15,
   "id": "8a6c74dd",
   "metadata": {
    "scrolled": true
   },
   "outputs": [
    {
     "data": {
      "text/plain": [
       "['Iris-setosa',\n",
       " 'Iris-setosa',\n",
       " 'Iris-setosa',\n",
       " 'Iris-setosa',\n",
       " 'Iris-setosa',\n",
       " 'Iris-setosa',\n",
       " 'Iris-setosa',\n",
       " 'Iris-setosa',\n",
       " 'Iris-versicolor',\n",
       " 'Iris-versicolor',\n",
       " 'Iris-versicolor',\n",
       " 'Iris-versicolor',\n",
       " 'Iris-virginica',\n",
       " 'Iris-versicolor',\n",
       " 'Iris-versicolor',\n",
       " 'Iris-versicolor',\n",
       " 'Iris-versicolor',\n",
       " 'Iris-versicolor',\n",
       " 'Iris-virginica',\n",
       " 'Iris-versicolor',\n",
       " 'Iris-virginica',\n",
       " 'Iris-virginica',\n",
       " 'Iris-virginica',\n",
       " 'Iris-virginica',\n",
       " 'Iris-virginica',\n",
       " 'Iris-virginica',\n",
       " 'Iris-virginica',\n",
       " 'Iris-virginica',\n",
       " 'Iris-virginica',\n",
       " 'Iris-virginica']"
      ]
     },
     "execution_count": 15,
     "metadata": {},
     "output_type": "execute_result"
    }
   ],
   "source": [
    "y_pred_for_x_test"
   ]
  },
  {
   "cell_type": "markdown",
   "id": "fac5597d",
   "metadata": {},
   "source": [
    "### calculate accuracy score , f1 score , recall score and precision score with y_test y_pred_for_x_test"
   ]
  },
  {
   "cell_type": "code",
   "execution_count": 16,
   "id": "19002855",
   "metadata": {},
   "outputs": [
    {
     "name": "stdout",
     "output_type": "stream",
     "text": [
      "accuracy score for x test prediction:  0.9333333333333333\n",
      "f1 score for x test prediction:  0.9333333333333333\n",
      "recall score for x test prediction:  0.9333333333333333\n",
      "precision score for x test prediction:  0.9333333333333333\n"
     ]
    }
   ],
   "source": [
    "from sklearn.metrics import f1_score, recall_score, precision_score, accuracy_score, confusion_matrix\n",
    "print(\"accuracy score for x test prediction: \", accuracy_score(y_test, y_pred_for_x_test))\n",
    "print(\"f1 score for x test prediction: \", f1_score(y_test, y_pred_for_x_test, average='weighted'))\n",
    "print(\"recall score for x test prediction: \", recall_score(y_test, y_pred_for_x_test, average='weighted'))\n",
    "print(\"precision score for x test prediction: \", precision_score(y_test, y_pred_for_x_test, average='weighted'))"
   ]
  },
  {
   "cell_type": "markdown",
   "id": "183bf9b0",
   "metadata": {},
   "source": [
    "### confusion_matrix with y_test and y_pred_for_x_test "
   ]
  },
  {
   "cell_type": "code",
   "execution_count": 17,
   "id": "2aacb479",
   "metadata": {},
   "outputs": [
    {
     "data": {
      "text/plain": [
       "<AxesSubplot:>"
      ]
     },
     "execution_count": 17,
     "metadata": {},
     "output_type": "execute_result"
    },
    {
     "data": {
      "image/png": "[encoded data removed]",
      "text/plain": [
       "<Figure size 432x288 with 2 Axes>"
      ]
     },
     "metadata": {
      "needs_background": "light"
     },
     "output_type": "display_data"
    }
   ],
   "source": [
    "con_matrix=confusion_matrix(y_test, y_pred_for_x_test)\n",
    "sns.heatmap(con_matrix,annot=True, cmap=\"Blues\")"
   ]
  },
  {
   "cell_type": "markdown",
   "id": "361adfff",
   "metadata": {},
   "source": [
    "### y_pred_for_x_test dataFrame"
   ]
  },
  {
   "cell_type": "code",
   "execution_count": 18,
   "id": "1637d02b",
   "metadata": {},
   "outputs": [],
   "source": [
    "y_pred_for_x_test_df = pd.DataFrame(y_pred_for_x_test,columns=['Species'])"
   ]
  },
  {
   "cell_type": "markdown",
   "id": "527d7b54",
   "metadata": {},
   "source": [
    "### concat x_test and y_pred_for_x_test dataFrame"
   ]
  },
  {
   "cell_type": "code",
   "execution_count": 19,
   "id": "9460d1e3",
   "metadata": {},
   "outputs": [
    {
     "data": {
      "text/html": [
       "<div>\n",
       "<style scoped>\n",
       "    .dataframe tbody tr th:only-of-type {\n",
       "        vertical-align: middle;\n",
       "    }\n",
       "\n",
       "    .dataframe tbody tr th {\n",
       "        vertical-align: top;\n",
       "    }\n",
       "\n",
       "    .dataframe thead th {\n",
       "        text-align: right;\n",
       "    }\n",
       "</style>\n",
       "<table border=\"1\" class=\"dataframe\">\n",
       "  <thead>\n",
       "    <tr style=\"text-align: right;\">\n",
       "      <th></th>\n",
       "      <th>SepalLengthCm</th>\n",
       "      <th>SepalWidthCm</th>\n",
       "      <th>PetalLengthCm</th>\n",
       "      <th>PetalWidthCm</th>\n",
       "      <th>Species</th>\n",
       "    </tr>\n",
       "  </thead>\n",
       "  <tbody>\n",
       "    <tr>\n",
       "      <th>0</th>\n",
       "      <td>4.9</td>\n",
       "      <td>3.0</td>\n",
       "      <td>1.4</td>\n",
       "      <td>0.2</td>\n",
       "      <td>Iris-setosa</td>\n",
       "    </tr>\n",
       "    <tr>\n",
       "      <th>1</th>\n",
       "      <td>5.0</td>\n",
       "      <td>3.4</td>\n",
       "      <td>1.5</td>\n",
       "      <td>0.2</td>\n",
       "      <td>Iris-setosa</td>\n",
       "    </tr>\n",
       "    <tr>\n",
       "      <th>2</th>\n",
       "      <td>5.8</td>\n",
       "      <td>4.0</td>\n",
       "      <td>1.2</td>\n",
       "      <td>0.2</td>\n",
       "      <td>Iris-setosa</td>\n",
       "    </tr>\n",
       "    <tr>\n",
       "      <th>3</th>\n",
       "      <td>5.4</td>\n",
       "      <td>3.9</td>\n",
       "      <td>1.3</td>\n",
       "      <td>0.4</td>\n",
       "      <td>Iris-setosa</td>\n",
       "    </tr>\n",
       "    <tr>\n",
       "      <th>4</th>\n",
       "      <td>5.1</td>\n",
       "      <td>3.3</td>\n",
       "      <td>1.7</td>\n",
       "      <td>0.5</td>\n",
       "      <td>Iris-setosa</td>\n",
       "    </tr>\n",
       "    <tr>\n",
       "      <th>5</th>\n",
       "      <td>5.0</td>\n",
       "      <td>3.4</td>\n",
       "      <td>1.6</td>\n",
       "      <td>0.4</td>\n",
       "      <td>Iris-setosa</td>\n",
       "    </tr>\n",
       "    <tr>\n",
       "      <th>6</th>\n",
       "      <td>5.0</td>\n",
       "      <td>3.2</td>\n",
       "      <td>1.2</td>\n",
       "      <td>0.2</td>\n",
       "      <td>Iris-setosa</td>\n",
       "    </tr>\n",
       "    <tr>\n",
       "      <th>7</th>\n",
       "      <td>4.4</td>\n",
       "      <td>3.2</td>\n",
       "      <td>1.3</td>\n",
       "      <td>0.2</td>\n",
       "      <td>Iris-setosa</td>\n",
       "    </tr>\n",
       "    <tr>\n",
       "      <th>8</th>\n",
       "      <td>6.4</td>\n",
       "      <td>3.2</td>\n",
       "      <td>4.5</td>\n",
       "      <td>1.5</td>\n",
       "      <td>Iris-versicolor</td>\n",
       "    </tr>\n",
       "    <tr>\n",
       "      <th>9</th>\n",
       "      <td>6.5</td>\n",
       "      <td>2.8</td>\n",
       "      <td>4.6</td>\n",
       "      <td>1.5</td>\n",
       "      <td>Iris-versicolor</td>\n",
       "    </tr>\n",
       "    <tr>\n",
       "      <th>10</th>\n",
       "      <td>6.3</td>\n",
       "      <td>3.3</td>\n",
       "      <td>4.7</td>\n",
       "      <td>1.6</td>\n",
       "      <td>Iris-versicolor</td>\n",
       "    </tr>\n",
       "    <tr>\n",
       "      <th>11</th>\n",
       "      <td>6.2</td>\n",
       "      <td>2.2</td>\n",
       "      <td>4.5</td>\n",
       "      <td>1.5</td>\n",
       "      <td>Iris-versicolor</td>\n",
       "    </tr>\n",
       "    <tr>\n",
       "      <th>12</th>\n",
       "      <td>5.9</td>\n",
       "      <td>3.2</td>\n",
       "      <td>4.8</td>\n",
       "      <td>1.8</td>\n",
       "      <td>Iris-virginica</td>\n",
       "    </tr>\n",
       "    <tr>\n",
       "      <th>13</th>\n",
       "      <td>6.8</td>\n",
       "      <td>2.8</td>\n",
       "      <td>4.8</td>\n",
       "      <td>1.4</td>\n",
       "      <td>Iris-versicolor</td>\n",
       "    </tr>\n",
       "    <tr>\n",
       "      <th>14</th>\n",
       "      <td>6.7</td>\n",
       "      <td>3.0</td>\n",
       "      <td>5.0</td>\n",
       "      <td>1.7</td>\n",
       "      <td>Iris-versicolor</td>\n",
       "    </tr>\n",
       "    <tr>\n",
       "      <th>15</th>\n",
       "      <td>5.7</td>\n",
       "      <td>2.6</td>\n",
       "      <td>3.5</td>\n",
       "      <td>1.0</td>\n",
       "      <td>Iris-versicolor</td>\n",
       "    </tr>\n",
       "    <tr>\n",
       "      <th>16</th>\n",
       "      <td>6.0</td>\n",
       "      <td>3.4</td>\n",
       "      <td>4.5</td>\n",
       "      <td>1.6</td>\n",
       "      <td>Iris-versicolor</td>\n",
       "    </tr>\n",
       "    <tr>\n",
       "      <th>17</th>\n",
       "      <td>5.5</td>\n",
       "      <td>2.5</td>\n",
       "      <td>4.0</td>\n",
       "      <td>1.3</td>\n",
       "      <td>Iris-versicolor</td>\n",
       "    </tr>\n",
       "    <tr>\n",
       "      <th>18</th>\n",
       "      <td>7.6</td>\n",
       "      <td>3.0</td>\n",
       "      <td>6.6</td>\n",
       "      <td>2.1</td>\n",
       "      <td>Iris-virginica</td>\n",
       "    </tr>\n",
       "    <tr>\n",
       "      <th>19</th>\n",
       "      <td>4.9</td>\n",
       "      <td>2.5</td>\n",
       "      <td>4.5</td>\n",
       "      <td>1.7</td>\n",
       "      <td>Iris-versicolor</td>\n",
       "    </tr>\n",
       "    <tr>\n",
       "      <th>20</th>\n",
       "      <td>6.4</td>\n",
       "      <td>3.2</td>\n",
       "      <td>5.3</td>\n",
       "      <td>2.3</td>\n",
       "      <td>Iris-virginica</td>\n",
       "    </tr>\n",
       "    <tr>\n",
       "      <th>21</th>\n",
       "      <td>6.5</td>\n",
       "      <td>3.0</td>\n",
       "      <td>5.5</td>\n",
       "      <td>1.8</td>\n",
       "      <td>Iris-virginica</td>\n",
       "    </tr>\n",
       "    <tr>\n",
       "      <th>22</th>\n",
       "      <td>6.9</td>\n",
       "      <td>3.2</td>\n",
       "      <td>5.7</td>\n",
       "      <td>2.3</td>\n",
       "      <td>Iris-virginica</td>\n",
       "    </tr>\n",
       "    <tr>\n",
       "      <th>23</th>\n",
       "      <td>7.2</td>\n",
       "      <td>3.0</td>\n",
       "      <td>5.8</td>\n",
       "      <td>1.6</td>\n",
       "      <td>Iris-virginica</td>\n",
       "    </tr>\n",
       "    <tr>\n",
       "      <th>24</th>\n",
       "      <td>6.1</td>\n",
       "      <td>2.6</td>\n",
       "      <td>5.6</td>\n",
       "      <td>1.4</td>\n",
       "      <td>Iris-virginica</td>\n",
       "    </tr>\n",
       "    <tr>\n",
       "      <th>25</th>\n",
       "      <td>6.0</td>\n",
       "      <td>3.0</td>\n",
       "      <td>4.8</td>\n",
       "      <td>1.8</td>\n",
       "      <td>Iris-virginica</td>\n",
       "    </tr>\n",
       "    <tr>\n",
       "      <th>26</th>\n",
       "      <td>6.9</td>\n",
       "      <td>3.1</td>\n",
       "      <td>5.4</td>\n",
       "      <td>2.1</td>\n",
       "      <td>Iris-virginica</td>\n",
       "    </tr>\n",
       "    <tr>\n",
       "      <th>27</th>\n",
       "      <td>5.8</td>\n",
       "      <td>2.7</td>\n",
       "      <td>5.1</td>\n",
       "      <td>1.9</td>\n",
       "      <td>Iris-virginica</td>\n",
       "    </tr>\n",
       "    <tr>\n",
       "      <th>28</th>\n",
       "      <td>6.7</td>\n",
       "      <td>3.0</td>\n",
       "      <td>5.2</td>\n",
       "      <td>2.3</td>\n",
       "      <td>Iris-virginica</td>\n",
       "    </tr>\n",
       "    <tr>\n",
       "      <th>29</th>\n",
       "      <td>6.5</td>\n",
       "      <td>3.0</td>\n",
       "      <td>5.2</td>\n",
       "      <td>2.0</td>\n",
       "      <td>Iris-virginica</td>\n",
       "    </tr>\n",
       "  </tbody>\n",
       "</table>\n",
       "</div>"
      ],
      "text/plain": [
       "    SepalLengthCm  SepalWidthCm  PetalLengthCm  PetalWidthCm          Species\n",
       "0             4.9           3.0            1.4           0.2      Iris-setosa\n",
       "1             5.0           3.4            1.5           0.2      Iris-setosa\n",
       "2             5.8           4.0            1.2           0.2      Iris-setosa\n",
       "3             5.4           3.9            1.3           0.4      Iris-setosa\n",
       "4             5.1           3.3            1.7           0.5      Iris-setosa\n",
       "5             5.0           3.4            1.6           0.4      Iris-setosa\n",
       "6             5.0           3.2            1.2           0.2      Iris-setosa\n",
       "7             4.4           3.2            1.3           0.2      Iris-setosa\n",
       "8             6.4           3.2            4.5           1.5  Iris-versicolor\n",
       "9             6.5           2.8            4.6           1.5  Iris-versicolor\n",
       "10            6.3           3.3            4.7           1.6  Iris-versicolor\n",
       "11            6.2           2.2            4.5           1.5  Iris-versicolor\n",
       "12            5.9           3.2            4.8           1.8   Iris-virginica\n",
       "13            6.8           2.8            4.8           1.4  Iris-versicolor\n",
       "14            6.7           3.0            5.0           1.7  Iris-versicolor\n",
       "15            5.7           2.6            3.5           1.0  Iris-versicolor\n",
       "16            6.0           3.4            4.5           1.6  Iris-versicolor\n",
       "17            5.5           2.5            4.0           1.3  Iris-versicolor\n",
       "18            7.6           3.0            6.6           2.1   Iris-virginica\n",
       "19            4.9           2.5            4.5           1.7  Iris-versicolor\n",
       "20            6.4           3.2            5.3           2.3   Iris-virginica\n",
       "21            6.5           3.0            5.5           1.8   Iris-virginica\n",
       "22            6.9           3.2            5.7           2.3   Iris-virginica\n",
       "23            7.2           3.0            5.8           1.6   Iris-virginica\n",
       "24            6.1           2.6            5.6           1.4   Iris-virginica\n",
       "25            6.0           3.0            4.8           1.8   Iris-virginica\n",
       "26            6.9           3.1            5.4           2.1   Iris-virginica\n",
       "27            5.8           2.7            5.1           1.9   Iris-virginica\n",
       "28            6.7           3.0            5.2           2.3   Iris-virginica\n",
       "29            6.5           3.0            5.2           2.0   Iris-virginica"
      ]
     },
     "execution_count": 19,
     "metadata": {},
     "output_type": "execute_result"
    }
   ],
   "source": [
    "test_df_after_prediction = pd.concat([x_test, y_pred_for_x_test_df], axis=1)\n",
    "test_df_after_prediction"
   ]
  },
  {
   "cell_type": "markdown",
   "id": "9f8ec877",
   "metadata": {},
   "source": [
    "### calculate y_pred_for_x_train"
   ]
  },
  {
   "cell_type": "code",
   "execution_count": 20,
   "id": "a2a04747",
   "metadata": {},
   "outputs": [],
   "source": [
    "y_pred_for_x_train = knn(x_train, x_train, y_train, k)"
   ]
  },
  {
   "cell_type": "markdown",
   "id": "36bf8d90",
   "metadata": {},
   "source": [
    "### calculate accuracy score , f1 score , recall score and precision score with y_train and y_pred_for_x_train"
   ]
  },
  {
   "cell_type": "code",
   "execution_count": 21,
   "id": "f09ce805",
   "metadata": {},
   "outputs": [
    {
     "name": "stdout",
     "output_type": "stream",
     "text": [
      "accuracy score for x train prediction:  0.9666666666666667\n",
      "f1 score for x train prediction:  0.9666666666666667\n",
      "recall score for x train prediction:  0.9666666666666667\n",
      "precision score for x train prediction:  0.9666666666666667\n"
     ]
    }
   ],
   "source": [
    "print(\"accuracy score for x train prediction: \", accuracy_score(y_train, y_pred_for_x_train))\n",
    "print(\"f1 score for x train prediction: \", f1_score(y_train, y_pred_for_x_train, average='weighted'))\n",
    "print(\"recall score for x train prediction: \", recall_score(y_train, y_pred_for_x_train, average='weighted'))\n",
    "print(\"precision score for x train prediction: \", precision_score(y_train, y_pred_for_x_train, average='weighted'))"
   ]
  },
  {
   "cell_type": "markdown",
   "id": "dd133c0c",
   "metadata": {},
   "source": [
    "### confusion_matrix with  y_train and y_pred_for_x_train "
   ]
  },
  {
   "cell_type": "code",
   "execution_count": 22,
   "id": "0f37eb07",
   "metadata": {},
   "outputs": [
    {
     "data": {
      "text/plain": [
       "<AxesSubplot:>"
      ]
     },
     "execution_count": 22,
     "metadata": {},
     "output_type": "execute_result"
    },
    {
     "data": {
      "image/png": "[encoded data removed]",
      "text/plain": [
       "<Figure size 432x288 with 2 Axes>"
      ]
     },
     "metadata": {
      "needs_background": "light"
     },
     "output_type": "display_data"
    }
   ],
   "source": [
    "con_matrix=confusion_matrix(y_train, y_pred_for_x_train)\n",
    "sns.heatmap(con_matrix,annot=True, cmap=\"Blues\")"
   ]
  },
  {
   "cell_type": "markdown",
   "id": "fce2cde2",
   "metadata": {},
   "source": [
    "### concat x_train and y_pred_for_x_train dataFrame"
   ]
  },
  {
   "cell_type": "code",
   "execution_count": 23,
   "id": "6381edc3",
   "metadata": {
    "scrolled": false
   },
   "outputs": [
    {
     "data": {
      "text/html": [
       "<div>\n",
       "<style scoped>\n",
       "    .dataframe tbody tr th:only-of-type {\n",
       "        vertical-align: middle;\n",
       "    }\n",
       "\n",
       "    .dataframe tbody tr th {\n",
       "        vertical-align: top;\n",
       "    }\n",
       "\n",
       "    .dataframe thead th {\n",
       "        text-align: right;\n",
       "    }\n",
       "</style>\n",
       "<table border=\"1\" class=\"dataframe\">\n",
       "  <thead>\n",
       "    <tr style=\"text-align: right;\">\n",
       "      <th></th>\n",
       "      <th>SepalLengthCm</th>\n",
       "      <th>SepalWidthCm</th>\n",
       "      <th>PetalLengthCm</th>\n",
       "      <th>PetalWidthCm</th>\n",
       "      <th>Species</th>\n",
       "    </tr>\n",
       "  </thead>\n",
       "  <tbody>\n",
       "    <tr>\n",
       "      <th>0</th>\n",
       "      <td>5.4</td>\n",
       "      <td>3.0</td>\n",
       "      <td>4.5</td>\n",
       "      <td>1.5</td>\n",
       "      <td>Iris-versicolor</td>\n",
       "    </tr>\n",
       "    <tr>\n",
       "      <th>1</th>\n",
       "      <td>7.7</td>\n",
       "      <td>2.8</td>\n",
       "      <td>6.7</td>\n",
       "      <td>2.0</td>\n",
       "      <td>Iris-virginica</td>\n",
       "    </tr>\n",
       "    <tr>\n",
       "      <th>2</th>\n",
       "      <td>5.2</td>\n",
       "      <td>3.4</td>\n",
       "      <td>1.4</td>\n",
       "      <td>0.2</td>\n",
       "      <td>Iris-setosa</td>\n",
       "    </tr>\n",
       "    <tr>\n",
       "      <th>3</th>\n",
       "      <td>4.8</td>\n",
       "      <td>3.4</td>\n",
       "      <td>1.9</td>\n",
       "      <td>0.2</td>\n",
       "      <td>Iris-setosa</td>\n",
       "    </tr>\n",
       "    <tr>\n",
       "      <th>4</th>\n",
       "      <td>6.6</td>\n",
       "      <td>3.0</td>\n",
       "      <td>4.4</td>\n",
       "      <td>1.4</td>\n",
       "      <td>Iris-versicolor</td>\n",
       "    </tr>\n",
       "    <tr>\n",
       "      <th>...</th>\n",
       "      <td>...</td>\n",
       "      <td>...</td>\n",
       "      <td>...</td>\n",
       "      <td>...</td>\n",
       "      <td>...</td>\n",
       "    </tr>\n",
       "    <tr>\n",
       "      <th>115</th>\n",
       "      <td>7.7</td>\n",
       "      <td>3.8</td>\n",
       "      <td>6.7</td>\n",
       "      <td>2.2</td>\n",
       "      <td>Iris-virginica</td>\n",
       "    </tr>\n",
       "    <tr>\n",
       "      <th>116</th>\n",
       "      <td>5.2</td>\n",
       "      <td>2.7</td>\n",
       "      <td>3.9</td>\n",
       "      <td>1.4</td>\n",
       "      <td>Iris-versicolor</td>\n",
       "    </tr>\n",
       "    <tr>\n",
       "      <th>117</th>\n",
       "      <td>4.8</td>\n",
       "      <td>3.0</td>\n",
       "      <td>1.4</td>\n",
       "      <td>0.3</td>\n",
       "      <td>Iris-setosa</td>\n",
       "    </tr>\n",
       "    <tr>\n",
       "      <th>118</th>\n",
       "      <td>5.2</td>\n",
       "      <td>4.1</td>\n",
       "      <td>1.5</td>\n",
       "      <td>0.1</td>\n",
       "      <td>Iris-setosa</td>\n",
       "    </tr>\n",
       "    <tr>\n",
       "      <th>119</th>\n",
       "      <td>5.4</td>\n",
       "      <td>3.4</td>\n",
       "      <td>1.5</td>\n",
       "      <td>0.4</td>\n",
       "      <td>Iris-setosa</td>\n",
       "    </tr>\n",
       "  </tbody>\n",
       "</table>\n",
       "<p>120 rows × 5 columns</p>\n",
       "</div>"
      ],
      "text/plain": [
       "     SepalLengthCm  SepalWidthCm  PetalLengthCm  PetalWidthCm          Species\n",
       "0              5.4           3.0            4.5           1.5  Iris-versicolor\n",
       "1              7.7           2.8            6.7           2.0   Iris-virginica\n",
       "2              5.2           3.4            1.4           0.2      Iris-setosa\n",
       "3              4.8           3.4            1.9           0.2      Iris-setosa\n",
       "4              6.6           3.0            4.4           1.4  Iris-versicolor\n",
       "..             ...           ...            ...           ...              ...\n",
       "115            7.7           3.8            6.7           2.2   Iris-virginica\n",
       "116            5.2           2.7            3.9           1.4  Iris-versicolor\n",
       "117            4.8           3.0            1.4           0.3      Iris-setosa\n",
       "118            5.2           4.1            1.5           0.1      Iris-setosa\n",
       "119            5.4           3.4            1.5           0.4      Iris-setosa\n",
       "\n",
       "[120 rows x 5 columns]"
      ]
     },
     "execution_count": 23,
     "metadata": {},
     "output_type": "execute_result"
    }
   ],
   "source": [
    "y_pred_for_x_train_df = pd.DataFrame(y_pred_for_x_train,columns=['Species'])\n",
    "train_df_after_prediction = pd.concat([x_train, y_pred_for_x_train_df], axis=1)\n",
    "train_df_after_prediction"
   ]
  },
  {
   "cell_type": "markdown",
   "id": "6cfa7c5c",
   "metadata": {},
   "source": [
    "### plot PetalLengthCm - PetalWidthCm for train_df_after_prediction"
   ]
  },
  {
   "cell_type": "code",
   "execution_count": 24,
   "id": "28f3ee84",
   "metadata": {
    "scrolled": true
   },
   "outputs": [
    {
     "data": {
      "text/plain": [
       "<seaborn.axisgrid.FacetGrid at 0x24fd4618b50>"
      ]
     },
     "execution_count": 24,
     "metadata": {},
     "output_type": "execute_result"
    },
    {
     "data": {
      "image/png": "[encoded data removed]",
      "text/plain": [
       "<Figure size 1003.25x360 with 1 Axes>"
      ]
     },
     "metadata": {
      "needs_background": "light"
     },
     "output_type": "display_data"
    }
   ],
   "source": [
    "sns.catplot(x='PetalLengthCm', y='PetalWidthCm', data=train_df_after_prediction, hue='Species', aspect=2.5).set(title='train df after prediction with y_pred')"
   ]
  },
  {
   "cell_type": "markdown",
   "id": "036fd73f",
   "metadata": {},
   "source": [
    "### plot PetalLengthCm - PetalWidthCm for test_df_after_prediction"
   ]
  },
  {
   "cell_type": "code",
   "execution_count": 25,
   "id": "e7eef3bf",
   "metadata": {},
   "outputs": [
    {
     "data": {
      "text/plain": [
       "<seaborn.axisgrid.FacetGrid at 0x24fd465f880>"
      ]
     },
     "execution_count": 25,
     "metadata": {},
     "output_type": "execute_result"
    },
    {
     "data": {
      "image/png": "[encoded data removed]",
      "text/plain": [
       "<Figure size 1003.25x360 with 1 Axes>"
      ]
     },
     "metadata": {
      "needs_background": "light"
     },
     "output_type": "display_data"
    }
   ],
   "source": [
    "sns.catplot(x='PetalLengthCm', y='PetalWidthCm', data=test_df_after_prediction, hue='Species', aspect=2.5).set(title='test df after prediction with y_pred')"
   ]
  },
  {
   "cell_type": "markdown",
   "id": "801ba59c",
   "metadata": {},
   "source": [
    "### save to csv"
   ]
  },
  {
   "cell_type": "code",
   "execution_count": 26,
   "id": "8dae9e5b",
   "metadata": {},
   "outputs": [],
   "source": [
    "y_pred_for_x_test_df.to_csv(\"Q2.csv\",index=False)"
   ]
  }
 ],
 "metadata": {
  "kernelspec": {
   "display_name": "Python 3 (ipykernel)",
   "language": "python",
   "name": "python3"
  },
  "language_info": {
   "codemirror_mode": {
    "name": "ipython",
    "version": 3
   },
   "file_extension": ".py",
   "mimetype": "text/x-python",
   "name": "python",
   "nbconvert_exporter": "python",
   "pygments_lexer": "ipython3",
   "version": "3.9.12"
  }
 },
 "nbformat": 4,
 "nbformat_minor": 5
}
