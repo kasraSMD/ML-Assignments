{
 "cells": [
  {
   "cell_type": "markdown",
   "id": "2e43c1b4",
   "metadata": {},
   "source": [
    "# Kasra Samadi 993623030"
   ]
  },
  {
   "cell_type": "code",
   "execution_count": 32,
   "id": "9c1f5e20",
   "metadata": {
    "ExecuteTime": {
     "end_time": "2023-11-28T11:51:15.927544700Z",
     "start_time": "2023-11-28T11:51:15.762551700Z"
    }
   },
   "outputs": [],
   "source": [
    "import pandas as pd\n",
    "import seaborn as sns\n",
    "from sklearn.linear_model import LogisticRegression\n",
    "from sklearn.metrics import f1_score, recall_score, precision_score, accuracy_score, confusion_matrix\n",
    "from imblearn.over_sampling import RandomOverSampler\n",
    "from imblearn.under_sampling import RandomUnderSampler\n",
    "%matplotlib inline"
   ]
  },
  {
   "cell_type": "markdown",
   "id": "25221532",
   "metadata": {},
   "source": [
    "### reading train.csv and test.csv\n",
    "#### define train and test dataFrames"
   ]
  },
  {
   "cell_type": "code",
   "execution_count": 33,
   "id": "b3c5491d",
   "metadata": {
    "ExecuteTime": {
     "end_time": "2023-11-28T11:51:15.929550700Z",
     "start_time": "2023-11-28T11:51:15.793552100Z"
    }
   },
   "outputs": [],
   "source": [
    "df_train = pd.read_csv(\"train.csv\")\n",
    "df_test = pd.read_csv(\"test.csv\")"
   ]
  },
  {
   "cell_type": "code",
   "execution_count": 34,
   "id": "e1e21668",
   "metadata": {
    "scrolled": false,
    "ExecuteTime": {
     "end_time": "2023-11-28T11:51:15.946550900Z",
     "start_time": "2023-11-28T11:51:15.864552900Z"
    }
   },
   "outputs": [
    {
     "data": {
      "text/plain": "      word_freq_make  word_freq_address  word_freq_all  word_freq_3d  \\\n0               0.33               0.00           0.67           0.0   \n1               0.00               0.00           0.00           0.0   \n2               0.08               0.08           0.76           0.0   \n3               0.05               0.05           0.40           0.0   \n4               0.00               0.00           0.84           0.0   \n...              ...                ...            ...           ...   \n3675            0.00               0.00           0.00           0.0   \n3676            0.00               0.00           0.66           0.0   \n3677            0.00               0.00           0.00           0.0   \n3678            0.00               0.00           0.00           0.0   \n3679            0.00               0.00           0.00           0.0   \n\n      word_freq_our  word_freq_over  word_freq_remove  word_freq_internet  \\\n0              0.22            0.00              0.00                0.00   \n1              0.00            0.00              0.00                0.00   \n2              0.85            1.02              0.25                0.17   \n3              0.34            0.00              0.00                0.00   \n4              0.56            0.00              0.00                0.56   \n...             ...             ...               ...                 ...   \n3675           0.00            0.00              0.00                0.00   \n3676           0.00            0.00              0.00                0.00   \n3677           0.00            0.00              0.00                0.00   \n3678           0.00            0.60              0.00                0.00   \n3679           0.00            0.00              0.00                0.00   \n\n      word_freq_order  word_freq_mail  ...  char_freq_;  char_freq_(  \\\n0                0.44            0.11  ...        0.000        0.157   \n1                0.00            0.00  ...        0.000        0.000   \n2                0.59            0.08  ...        0.000        0.065   \n3                0.57            0.05  ...        0.019        0.099   \n4                0.00            0.00  ...        0.000        0.278   \n...               ...             ...  ...          ...          ...   \n3675             0.00            0.00  ...        0.000        0.000   \n3676             0.00            0.00  ...        0.000        0.104   \n3677             0.00            0.00  ...        0.208        0.671   \n3678             0.00            0.60  ...        0.094        0.000   \n3679             0.00            0.00  ...        0.000        0.000   \n\n      char_freq_[  char_freq_!  char_freq_$  char_freq_#  \\\n0           0.000        0.392        0.176        0.078   \n1           0.000        0.145        0.291        0.000   \n2           0.000        0.403        0.117        0.013   \n3           0.000        0.099        0.079        0.009   \n4           0.000        0.046        0.000        0.000   \n...           ...          ...          ...          ...   \n3675        0.000        0.595        0.000        0.000   \n3676        0.209        0.104        0.000        0.000   \n3677        0.092        0.000        0.000        0.000   \n3678        0.000        0.094        0.189        0.000   \n3679        0.000        0.000        0.000        0.000   \n\n      capital_run_length_average  capital_run_length_longest  \\\n0                          2.606                          75   \n1                          2.500                          11   \n2                          7.484                         669   \n3                          4.881                          95   \n4                          1.661                           6   \n...                          ...                         ...   \n3675                       1.500                           4   \n3676                       2.152                          17   \n3677                       4.122                          20   \n3678                       1.976                          15   \n3679                       1.250                           2   \n\n      capital_run_length_total  Class  \n0                          391      1  \n1                           45      1  \n2                         1407      1  \n3                         1313      1  \n4                          118      1  \n...                        ...    ...  \n3675                        15      0  \n3676                       127      0  \n3677                       540      0  \n3678                        83      0  \n3679                         5      0  \n\n[3680 rows x 58 columns]",
      "text/html": "<div>\n<style scoped>\n    .dataframe tbody tr th:only-of-type {\n        vertical-align: middle;\n    }\n\n    .dataframe tbody tr th {\n        vertical-align: top;\n    }\n\n    .dataframe thead th {\n        text-align: right;\n    }\n</style>\n<table border=\"1\" class=\"dataframe\">\n  <thead>\n    <tr style=\"text-align: right;\">\n      <th></th>\n      <th>word_freq_make</th>\n      <th>word_freq_address</th>\n      <th>word_freq_all</th>\n      <th>word_freq_3d</th>\n      <th>word_freq_our</th>\n      <th>word_freq_over</th>\n      <th>word_freq_remove</th>\n      <th>word_freq_internet</th>\n      <th>word_freq_order</th>\n      <th>word_freq_mail</th>\n      <th>...</th>\n      <th>char_freq_;</th>\n      <th>char_freq_(</th>\n      <th>char_freq_[</th>\n      <th>char_freq_!</th>\n      <th>char_freq_$</th>\n      <th>char_freq_#</th>\n      <th>capital_run_length_average</th>\n      <th>capital_run_length_longest</th>\n      <th>capital_run_length_total</th>\n      <th>Class</th>\n    </tr>\n  </thead>\n  <tbody>\n    <tr>\n      <th>0</th>\n      <td>0.33</td>\n      <td>0.00</td>\n      <td>0.67</td>\n      <td>0.0</td>\n      <td>0.22</td>\n      <td>0.00</td>\n      <td>0.00</td>\n      <td>0.00</td>\n      <td>0.44</td>\n      <td>0.11</td>\n      <td>...</td>\n      <td>0.000</td>\n      <td>0.157</td>\n      <td>0.000</td>\n      <td>0.392</td>\n      <td>0.176</td>\n      <td>0.078</td>\n      <td>2.606</td>\n      <td>75</td>\n      <td>391</td>\n      <td>1</td>\n    </tr>\n    <tr>\n      <th>1</th>\n      <td>0.00</td>\n      <td>0.00</td>\n      <td>0.00</td>\n      <td>0.0</td>\n      <td>0.00</td>\n      <td>0.00</td>\n      <td>0.00</td>\n      <td>0.00</td>\n      <td>0.00</td>\n      <td>0.00</td>\n      <td>...</td>\n      <td>0.000</td>\n      <td>0.000</td>\n      <td>0.000</td>\n      <td>0.145</td>\n      <td>0.291</td>\n      <td>0.000</td>\n      <td>2.500</td>\n      <td>11</td>\n      <td>45</td>\n      <td>1</td>\n    </tr>\n    <tr>\n      <th>2</th>\n      <td>0.08</td>\n      <td>0.08</td>\n      <td>0.76</td>\n      <td>0.0</td>\n      <td>0.85</td>\n      <td>1.02</td>\n      <td>0.25</td>\n      <td>0.17</td>\n      <td>0.59</td>\n      <td>0.08</td>\n      <td>...</td>\n      <td>0.000</td>\n      <td>0.065</td>\n      <td>0.000</td>\n      <td>0.403</td>\n      <td>0.117</td>\n      <td>0.013</td>\n      <td>7.484</td>\n      <td>669</td>\n      <td>1407</td>\n      <td>1</td>\n    </tr>\n    <tr>\n      <th>3</th>\n      <td>0.05</td>\n      <td>0.05</td>\n      <td>0.40</td>\n      <td>0.0</td>\n      <td>0.34</td>\n      <td>0.00</td>\n      <td>0.00</td>\n      <td>0.00</td>\n      <td>0.57</td>\n      <td>0.05</td>\n      <td>...</td>\n      <td>0.019</td>\n      <td>0.099</td>\n      <td>0.000</td>\n      <td>0.099</td>\n      <td>0.079</td>\n      <td>0.009</td>\n      <td>4.881</td>\n      <td>95</td>\n      <td>1313</td>\n      <td>1</td>\n    </tr>\n    <tr>\n      <th>4</th>\n      <td>0.00</td>\n      <td>0.00</td>\n      <td>0.84</td>\n      <td>0.0</td>\n      <td>0.56</td>\n      <td>0.00</td>\n      <td>0.00</td>\n      <td>0.56</td>\n      <td>0.00</td>\n      <td>0.00</td>\n      <td>...</td>\n      <td>0.000</td>\n      <td>0.278</td>\n      <td>0.000</td>\n      <td>0.046</td>\n      <td>0.000</td>\n      <td>0.000</td>\n      <td>1.661</td>\n      <td>6</td>\n      <td>118</td>\n      <td>1</td>\n    </tr>\n    <tr>\n      <th>...</th>\n      <td>...</td>\n      <td>...</td>\n      <td>...</td>\n      <td>...</td>\n      <td>...</td>\n      <td>...</td>\n      <td>...</td>\n      <td>...</td>\n      <td>...</td>\n      <td>...</td>\n      <td>...</td>\n      <td>...</td>\n      <td>...</td>\n      <td>...</td>\n      <td>...</td>\n      <td>...</td>\n      <td>...</td>\n      <td>...</td>\n      <td>...</td>\n      <td>...</td>\n      <td>...</td>\n    </tr>\n    <tr>\n      <th>3675</th>\n      <td>0.00</td>\n      <td>0.00</td>\n      <td>0.00</td>\n      <td>0.0</td>\n      <td>0.00</td>\n      <td>0.00</td>\n      <td>0.00</td>\n      <td>0.00</td>\n      <td>0.00</td>\n      <td>0.00</td>\n      <td>...</td>\n      <td>0.000</td>\n      <td>0.000</td>\n      <td>0.000</td>\n      <td>0.595</td>\n      <td>0.000</td>\n      <td>0.000</td>\n      <td>1.500</td>\n      <td>4</td>\n      <td>15</td>\n      <td>0</td>\n    </tr>\n    <tr>\n      <th>3676</th>\n      <td>0.00</td>\n      <td>0.00</td>\n      <td>0.66</td>\n      <td>0.0</td>\n      <td>0.00</td>\n      <td>0.00</td>\n      <td>0.00</td>\n      <td>0.00</td>\n      <td>0.00</td>\n      <td>0.00</td>\n      <td>...</td>\n      <td>0.000</td>\n      <td>0.104</td>\n      <td>0.209</td>\n      <td>0.104</td>\n      <td>0.000</td>\n      <td>0.000</td>\n      <td>2.152</td>\n      <td>17</td>\n      <td>127</td>\n      <td>0</td>\n    </tr>\n    <tr>\n      <th>3677</th>\n      <td>0.00</td>\n      <td>0.00</td>\n      <td>0.00</td>\n      <td>0.0</td>\n      <td>0.00</td>\n      <td>0.00</td>\n      <td>0.00</td>\n      <td>0.00</td>\n      <td>0.00</td>\n      <td>0.00</td>\n      <td>...</td>\n      <td>0.208</td>\n      <td>0.671</td>\n      <td>0.092</td>\n      <td>0.000</td>\n      <td>0.000</td>\n      <td>0.000</td>\n      <td>4.122</td>\n      <td>20</td>\n      <td>540</td>\n      <td>0</td>\n    </tr>\n    <tr>\n      <th>3678</th>\n      <td>0.00</td>\n      <td>0.00</td>\n      <td>0.00</td>\n      <td>0.0</td>\n      <td>0.00</td>\n      <td>0.60</td>\n      <td>0.00</td>\n      <td>0.00</td>\n      <td>0.00</td>\n      <td>0.60</td>\n      <td>...</td>\n      <td>0.094</td>\n      <td>0.000</td>\n      <td>0.000</td>\n      <td>0.094</td>\n      <td>0.189</td>\n      <td>0.000</td>\n      <td>1.976</td>\n      <td>15</td>\n      <td>83</td>\n      <td>0</td>\n    </tr>\n    <tr>\n      <th>3679</th>\n      <td>0.00</td>\n      <td>0.00</td>\n      <td>0.00</td>\n      <td>0.0</td>\n      <td>0.00</td>\n      <td>0.00</td>\n      <td>0.00</td>\n      <td>0.00</td>\n      <td>0.00</td>\n      <td>0.00</td>\n      <td>...</td>\n      <td>0.000</td>\n      <td>0.000</td>\n      <td>0.000</td>\n      <td>0.000</td>\n      <td>0.000</td>\n      <td>0.000</td>\n      <td>1.250</td>\n      <td>2</td>\n      <td>5</td>\n      <td>0</td>\n    </tr>\n  </tbody>\n</table>\n<p>3680 rows × 58 columns</p>\n</div>"
     },
     "execution_count": 34,
     "metadata": {},
     "output_type": "execute_result"
    }
   ],
   "source": [
    "df_train"
   ]
  },
  {
   "cell_type": "code",
   "execution_count": 35,
   "id": "4982d81f",
   "metadata": {
    "ExecuteTime": {
     "end_time": "2023-11-28T11:51:15.950547200Z",
     "start_time": "2023-11-28T11:51:15.907547300Z"
    }
   },
   "outputs": [
    {
     "data": {
      "text/plain": "     word_freq_make  word_freq_address  word_freq_all  word_freq_3d  \\\n0              0.00               0.64           0.64           0.0   \n1              0.00               0.00           0.00           0.0   \n2              0.00               0.42           0.42           0.0   \n3              0.00               0.00           0.00           0.0   \n4              0.00               0.00           0.55           0.0   \n..              ...                ...            ...           ...   \n916            0.14               0.00           0.14           0.0   \n917            0.67               0.00           0.00           0.0   \n918            0.00               0.00           0.18           0.0   \n919            0.00               0.00           1.20           0.0   \n920            0.00               0.00           0.00           0.0   \n\n     word_freq_our  word_freq_over  word_freq_remove  word_freq_internet  \\\n0             0.32            0.00              0.00                 0.0   \n1             0.00            0.00              0.96                 0.0   \n2             1.27            0.00              0.42                 0.0   \n3             0.00            0.00              0.00                 0.0   \n4             1.11            0.00              0.18                 0.0   \n..             ...             ...               ...                 ...   \n916           0.00            0.56              0.00                 0.0   \n917           0.67            0.00              0.00                 0.0   \n918           0.18            0.18              0.00                 0.0   \n919           0.00            0.00              0.00                 0.0   \n920           0.00            0.00              0.00                 0.0   \n\n     word_freq_order  word_freq_mail  ...  char_freq_;  char_freq_(  \\\n0                0.0            0.00  ...        0.000        0.000   \n1                0.0            1.92  ...        0.000        0.000   \n2                0.0            1.27  ...        0.000        0.063   \n3                0.0            0.00  ...        0.000        0.000   \n4                0.0            0.00  ...        0.000        0.182   \n..               ...             ...  ...          ...          ...   \n916              0.0            0.00  ...        0.000        0.053   \n917              0.0            0.00  ...        0.000        0.290   \n918              0.0            0.00  ...        0.033        0.033   \n919              0.0            0.00  ...        0.000        0.000   \n920              0.0            0.00  ...        0.000        0.000   \n\n     char_freq_[  char_freq_!  char_freq_$  char_freq_#  \\\n0            0.0        0.778        0.000        0.000   \n1            0.0        0.462        0.000        0.000   \n2            0.0        0.572        0.063        0.000   \n3            0.0        1.975        0.370        0.000   \n4            0.0        0.455        0.000        0.000   \n..           ...          ...          ...          ...   \n916          0.0        0.000        0.000        0.000   \n917          0.0        0.000        0.000        0.096   \n918          0.0        0.099        0.000        0.000   \n919          0.0        0.000        0.000        0.000   \n920          0.0        0.000        0.000        0.000   \n\n     capital_run_length_average  capital_run_length_longest  \\\n0                         3.756                          61   \n1                         1.312                           6   \n2                         5.659                          55   \n3                        35.461                          95   \n4                         1.320                           4   \n..                          ...                         ...   \n916                       1.136                           5   \n917                       2.432                          15   \n918                       1.489                          11   \n919                       1.200                           3   \n920                       1.571                           5   \n\n     capital_run_length_total  Class  \n0                         278      1  \n1                          21      1  \n2                         249      1  \n3                         461      1  \n4                          70      1  \n..                        ...    ...  \n916                       108      0  \n917                        90      0  \n918                       137      0  \n919                        24      0  \n920                        11      0  \n\n[921 rows x 58 columns]",
      "text/html": "<div>\n<style scoped>\n    .dataframe tbody tr th:only-of-type {\n        vertical-align: middle;\n    }\n\n    .dataframe tbody tr th {\n        vertical-align: top;\n    }\n\n    .dataframe thead th {\n        text-align: right;\n    }\n</style>\n<table border=\"1\" class=\"dataframe\">\n  <thead>\n    <tr style=\"text-align: right;\">\n      <th></th>\n      <th>word_freq_make</th>\n      <th>word_freq_address</th>\n      <th>word_freq_all</th>\n      <th>word_freq_3d</th>\n      <th>word_freq_our</th>\n      <th>word_freq_over</th>\n      <th>word_freq_remove</th>\n      <th>word_freq_internet</th>\n      <th>word_freq_order</th>\n      <th>word_freq_mail</th>\n      <th>...</th>\n      <th>char_freq_;</th>\n      <th>char_freq_(</th>\n      <th>char_freq_[</th>\n      <th>char_freq_!</th>\n      <th>char_freq_$</th>\n      <th>char_freq_#</th>\n      <th>capital_run_length_average</th>\n      <th>capital_run_length_longest</th>\n      <th>capital_run_length_total</th>\n      <th>Class</th>\n    </tr>\n  </thead>\n  <tbody>\n    <tr>\n      <th>0</th>\n      <td>0.00</td>\n      <td>0.64</td>\n      <td>0.64</td>\n      <td>0.0</td>\n      <td>0.32</td>\n      <td>0.00</td>\n      <td>0.00</td>\n      <td>0.0</td>\n      <td>0.0</td>\n      <td>0.00</td>\n      <td>...</td>\n      <td>0.000</td>\n      <td>0.000</td>\n      <td>0.0</td>\n      <td>0.778</td>\n      <td>0.000</td>\n      <td>0.000</td>\n      <td>3.756</td>\n      <td>61</td>\n      <td>278</td>\n      <td>1</td>\n    </tr>\n    <tr>\n      <th>1</th>\n      <td>0.00</td>\n      <td>0.00</td>\n      <td>0.00</td>\n      <td>0.0</td>\n      <td>0.00</td>\n      <td>0.00</td>\n      <td>0.96</td>\n      <td>0.0</td>\n      <td>0.0</td>\n      <td>1.92</td>\n      <td>...</td>\n      <td>0.000</td>\n      <td>0.000</td>\n      <td>0.0</td>\n      <td>0.462</td>\n      <td>0.000</td>\n      <td>0.000</td>\n      <td>1.312</td>\n      <td>6</td>\n      <td>21</td>\n      <td>1</td>\n    </tr>\n    <tr>\n      <th>2</th>\n      <td>0.00</td>\n      <td>0.42</td>\n      <td>0.42</td>\n      <td>0.0</td>\n      <td>1.27</td>\n      <td>0.00</td>\n      <td>0.42</td>\n      <td>0.0</td>\n      <td>0.0</td>\n      <td>1.27</td>\n      <td>...</td>\n      <td>0.000</td>\n      <td>0.063</td>\n      <td>0.0</td>\n      <td>0.572</td>\n      <td>0.063</td>\n      <td>0.000</td>\n      <td>5.659</td>\n      <td>55</td>\n      <td>249</td>\n      <td>1</td>\n    </tr>\n    <tr>\n      <th>3</th>\n      <td>0.00</td>\n      <td>0.00</td>\n      <td>0.00</td>\n      <td>0.0</td>\n      <td>0.00</td>\n      <td>0.00</td>\n      <td>0.00</td>\n      <td>0.0</td>\n      <td>0.0</td>\n      <td>0.00</td>\n      <td>...</td>\n      <td>0.000</td>\n      <td>0.000</td>\n      <td>0.0</td>\n      <td>1.975</td>\n      <td>0.370</td>\n      <td>0.000</td>\n      <td>35.461</td>\n      <td>95</td>\n      <td>461</td>\n      <td>1</td>\n    </tr>\n    <tr>\n      <th>4</th>\n      <td>0.00</td>\n      <td>0.00</td>\n      <td>0.55</td>\n      <td>0.0</td>\n      <td>1.11</td>\n      <td>0.00</td>\n      <td>0.18</td>\n      <td>0.0</td>\n      <td>0.0</td>\n      <td>0.00</td>\n      <td>...</td>\n      <td>0.000</td>\n      <td>0.182</td>\n      <td>0.0</td>\n      <td>0.455</td>\n      <td>0.000</td>\n      <td>0.000</td>\n      <td>1.320</td>\n      <td>4</td>\n      <td>70</td>\n      <td>1</td>\n    </tr>\n    <tr>\n      <th>...</th>\n      <td>...</td>\n      <td>...</td>\n      <td>...</td>\n      <td>...</td>\n      <td>...</td>\n      <td>...</td>\n      <td>...</td>\n      <td>...</td>\n      <td>...</td>\n      <td>...</td>\n      <td>...</td>\n      <td>...</td>\n      <td>...</td>\n      <td>...</td>\n      <td>...</td>\n      <td>...</td>\n      <td>...</td>\n      <td>...</td>\n      <td>...</td>\n      <td>...</td>\n      <td>...</td>\n    </tr>\n    <tr>\n      <th>916</th>\n      <td>0.14</td>\n      <td>0.00</td>\n      <td>0.14</td>\n      <td>0.0</td>\n      <td>0.00</td>\n      <td>0.56</td>\n      <td>0.00</td>\n      <td>0.0</td>\n      <td>0.0</td>\n      <td>0.00</td>\n      <td>...</td>\n      <td>0.000</td>\n      <td>0.053</td>\n      <td>0.0</td>\n      <td>0.000</td>\n      <td>0.000</td>\n      <td>0.000</td>\n      <td>1.136</td>\n      <td>5</td>\n      <td>108</td>\n      <td>0</td>\n    </tr>\n    <tr>\n      <th>917</th>\n      <td>0.67</td>\n      <td>0.00</td>\n      <td>0.00</td>\n      <td>0.0</td>\n      <td>0.67</td>\n      <td>0.00</td>\n      <td>0.00</td>\n      <td>0.0</td>\n      <td>0.0</td>\n      <td>0.00</td>\n      <td>...</td>\n      <td>0.000</td>\n      <td>0.290</td>\n      <td>0.0</td>\n      <td>0.000</td>\n      <td>0.000</td>\n      <td>0.096</td>\n      <td>2.432</td>\n      <td>15</td>\n      <td>90</td>\n      <td>0</td>\n    </tr>\n    <tr>\n      <th>918</th>\n      <td>0.00</td>\n      <td>0.00</td>\n      <td>0.18</td>\n      <td>0.0</td>\n      <td>0.18</td>\n      <td>0.18</td>\n      <td>0.00</td>\n      <td>0.0</td>\n      <td>0.0</td>\n      <td>0.00</td>\n      <td>...</td>\n      <td>0.033</td>\n      <td>0.033</td>\n      <td>0.0</td>\n      <td>0.099</td>\n      <td>0.000</td>\n      <td>0.000</td>\n      <td>1.489</td>\n      <td>11</td>\n      <td>137</td>\n      <td>0</td>\n    </tr>\n    <tr>\n      <th>919</th>\n      <td>0.00</td>\n      <td>0.00</td>\n      <td>1.20</td>\n      <td>0.0</td>\n      <td>0.00</td>\n      <td>0.00</td>\n      <td>0.00</td>\n      <td>0.0</td>\n      <td>0.0</td>\n      <td>0.00</td>\n      <td>...</td>\n      <td>0.000</td>\n      <td>0.000</td>\n      <td>0.0</td>\n      <td>0.000</td>\n      <td>0.000</td>\n      <td>0.000</td>\n      <td>1.200</td>\n      <td>3</td>\n      <td>24</td>\n      <td>0</td>\n    </tr>\n    <tr>\n      <th>920</th>\n      <td>0.00</td>\n      <td>0.00</td>\n      <td>0.00</td>\n      <td>0.0</td>\n      <td>0.00</td>\n      <td>0.00</td>\n      <td>0.00</td>\n      <td>0.0</td>\n      <td>0.0</td>\n      <td>0.00</td>\n      <td>...</td>\n      <td>0.000</td>\n      <td>0.000</td>\n      <td>0.0</td>\n      <td>0.000</td>\n      <td>0.000</td>\n      <td>0.000</td>\n      <td>1.571</td>\n      <td>5</td>\n      <td>11</td>\n      <td>0</td>\n    </tr>\n  </tbody>\n</table>\n<p>921 rows × 58 columns</p>\n</div>"
     },
     "execution_count": 35,
     "metadata": {},
     "output_type": "execute_result"
    }
   ],
   "source": [
    "df_test"
   ]
  },
  {
   "cell_type": "markdown",
   "source": [
    "#### check null values in each test and train dataFrames"
   ],
   "metadata": {
    "collapsed": false
   },
   "id": "ec5a8de88254f59"
  },
  {
   "cell_type": "code",
   "execution_count": 36,
   "id": "90a78eba",
   "metadata": {
    "scrolled": false,
    "ExecuteTime": {
     "end_time": "2023-11-28T11:51:15.999545200Z",
     "start_time": "2023-11-28T11:51:15.943553Z"
    }
   },
   "outputs": [
    {
     "name": "stdout",
     "output_type": "stream",
     "text": [
      "word_freq_make                0\n",
      "word_freq_address             0\n",
      "word_freq_all                 0\n",
      "word_freq_3d                  0\n",
      "word_freq_our                 0\n",
      "word_freq_over                0\n",
      "word_freq_remove              0\n",
      "word_freq_internet            0\n",
      "word_freq_order               0\n",
      "word_freq_mail                0\n",
      "word_freq_receive             0\n",
      "word_freq_will                0\n",
      "word_freq_people              0\n",
      "word_freq_report              0\n",
      "word_freq_addresses           0\n",
      "word_freq_free                0\n",
      "word_freq_business            0\n",
      "word_freq_email               0\n",
      "word_freq_you                 0\n",
      "word_freq_credit              0\n",
      "word_freq_your                0\n",
      "word_freq_font                0\n",
      "word_freq_000                 0\n",
      "word_freq_money               0\n",
      "word_freq_hp                  0\n",
      "word_freq_hpl                 0\n",
      "word_freq_george              0\n",
      "word_freq_650                 0\n",
      "word_freq_lab                 0\n",
      "word_freq_labs                0\n",
      "word_freq_telnet              0\n",
      "word_freq_857                 0\n",
      "word_freq_data                0\n",
      "word_freq_415                 0\n",
      "word_freq_85                  0\n",
      "word_freq_technology          0\n",
      "word_freq_1999                0\n",
      "word_freq_parts               0\n",
      "word_freq_pm                  0\n",
      "word_freq_direct              0\n",
      "word_freq_cs                  0\n",
      "word_freq_meeting             0\n",
      "word_freq_original            0\n",
      "word_freq_project             0\n",
      "word_freq_re                  0\n",
      "word_freq_edu                 0\n",
      "word_freq_table               0\n",
      "word_freq_conference          0\n",
      "char_freq_;                   0\n",
      "char_freq_(                   0\n",
      "char_freq_[                   0\n",
      "char_freq_!                   0\n",
      "char_freq_$                   0\n",
      "char_freq_#                   0\n",
      "capital_run_length_average    0\n",
      "capital_run_length_longest    0\n",
      "capital_run_length_total      0\n",
      "Class                         0\n",
      "dtype: int64\n",
      "word_freq_make                0\n",
      "word_freq_address             0\n",
      "word_freq_all                 0\n",
      "word_freq_3d                  0\n",
      "word_freq_our                 0\n",
      "word_freq_over                0\n",
      "word_freq_remove              0\n",
      "word_freq_internet            0\n",
      "word_freq_order               0\n",
      "word_freq_mail                0\n",
      "word_freq_receive             0\n",
      "word_freq_will                0\n",
      "word_freq_people              0\n",
      "word_freq_report              0\n",
      "word_freq_addresses           0\n",
      "word_freq_free                0\n",
      "word_freq_business            0\n",
      "word_freq_email               0\n",
      "word_freq_you                 0\n",
      "word_freq_credit              0\n",
      "word_freq_your                0\n",
      "word_freq_font                0\n",
      "word_freq_000                 0\n",
      "word_freq_money               0\n",
      "word_freq_hp                  0\n",
      "word_freq_hpl                 0\n",
      "word_freq_george              0\n",
      "word_freq_650                 0\n",
      "word_freq_lab                 0\n",
      "word_freq_labs                0\n",
      "word_freq_telnet              0\n",
      "word_freq_857                 0\n",
      "word_freq_data                0\n",
      "word_freq_415                 0\n",
      "word_freq_85                  0\n",
      "word_freq_technology          0\n",
      "word_freq_1999                0\n",
      "word_freq_parts               0\n",
      "word_freq_pm                  0\n",
      "word_freq_direct              0\n",
      "word_freq_cs                  0\n",
      "word_freq_meeting             0\n",
      "word_freq_original            0\n",
      "word_freq_project             0\n",
      "word_freq_re                  0\n",
      "word_freq_edu                 0\n",
      "word_freq_table               0\n",
      "word_freq_conference          0\n",
      "char_freq_;                   0\n",
      "char_freq_(                   0\n",
      "char_freq_[                   0\n",
      "char_freq_!                   0\n",
      "char_freq_$                   0\n",
      "char_freq_#                   0\n",
      "capital_run_length_average    0\n",
      "capital_run_length_longest    0\n",
      "capital_run_length_total      0\n",
      "Class                         0\n",
      "dtype: int64\n"
     ]
    }
   ],
   "source": [
    "print(df_train.isna().sum())\n",
    "print(df_test.isna().sum())"
   ]
  },
  {
   "cell_type": "markdown",
   "id": "25fb024d",
   "metadata": {},
   "source": [
    "### define x_train , y_train , x_test and y_test\n",
    "#### separate y_train from x_train and y_test from x_test   "
   ]
  },
  {
   "cell_type": "code",
   "execution_count": 37,
   "id": "e446b93d",
   "metadata": {
    "ExecuteTime": {
     "end_time": "2023-11-28T11:51:16.000543700Z",
     "start_time": "2023-11-28T11:51:15.959560600Z"
    }
   },
   "outputs": [],
   "source": [
    "y_train = df_train[\"Class\"]\n",
    "y_test = df_test[\"Class\"]\n",
    "x_train = df_train.drop([\"Class\"], axis=1)\n",
    "x_test = df_test.drop([\"Class\"], axis=1)"
   ]
  },
  {
   "cell_type": "markdown",
   "id": "11b7d0c4",
   "metadata": {},
   "source": [
    "### evaluation faunction\n",
    "#### calculate accuracy score, f1 score precision score and recall score from y_true and y_prediction"
   ]
  },
  {
   "cell_type": "code",
   "execution_count": 38,
   "id": "f5e3c94d",
   "metadata": {
    "ExecuteTime": {
     "end_time": "2023-11-28T11:51:16.000543700Z",
     "start_time": "2023-11-28T11:51:15.972547600Z"
    }
   },
   "outputs": [],
   "source": [
    "def evaluate_func(y_true, y_pred):\n",
    "    acc = accuracy_score(y_true, y_pred)\n",
    "    f1 = f1_score(y_true, y_pred, average='weighted')\n",
    "    prec = precision_score(y_true, y_pred, average='weighted')\n",
    "    rec = recall_score(y_true, y_pred, average='weighted')\n",
    "    print(f'Accuracy: {acc:.6f}')\n",
    "    print(f'Recall: {rec:.6f}')\n",
    "    print(f'Precision: {prec:.6f}')\n",
    "    print(f'F1-score: {f1:.6f}')"
   ]
  },
  {
   "cell_type": "markdown",
   "id": "d5d06364",
   "metadata": {},
   "source": [
    "### Logistic regression without any sampling or weighted loss function\n",
    "#### In this cell we define LogisticRegression and fitted it with x_train and y_train. after that predict with x_test and print the result of evaluate_func with y_test for y_true and y_pred for y_prediction.\n",
    "#### Here we get ConvergenceWarning, because the given dataset is imbalanced "
   ]
  },
  {
   "cell_type": "code",
   "execution_count": 39,
   "id": "a6dd6817",
   "metadata": {
    "scrolled": false,
    "ExecuteTime": {
     "end_time": "2023-11-28T11:51:16.373554800Z",
     "start_time": "2023-11-28T11:51:15.981554700Z"
    }
   },
   "outputs": [
    {
     "name": "stdout",
     "output_type": "stream",
     "text": [
      "Logistic regression without any sampling or weighted loss function:\n",
      "Accuracy: 0.916395\n",
      "Recall: 0.916395\n",
      "Precision: 0.916252\n",
      "F1-score: 0.916068\n"
     ]
    },
    {
     "name": "stderr",
     "output_type": "stream",
     "text": [
      "C:\\Users\\KASRA\\anaconda3\\lib\\site-packages\\sklearn\\svm\\_base.py:1206: ConvergenceWarning: Liblinear failed to converge, increase the number of iterations.\n",
      "  warnings.warn(\n"
     ]
    }
   ],
   "source": [
    "LR = LogisticRegression(solver='liblinear').fit(x_train,y_train)\n",
    "y_pred = LR.predict(x_test)\n",
    "print('Logistic regression without any sampling or weighted loss function:')\n",
    "evaluate_func(y_test, y_pred)"
   ]
  },
  {
   "cell_type": "markdown",
   "id": "9d803695",
   "metadata": {},
   "source": [
    "### confusion_matrix for default LogisticRegression\n",
    "#### confusion matrix visualizes and summarizes the performance of a classification algorithm\n",
    "#### True Positive (TP): It is the total counts having both predicted and actual values are 0.\n",
    "#### True Negative (TN): It is the total counts having both predicted and actual values are 1.\n",
    "#### False Positive (FP): It is the total counts having prediction is 0 while actually is 1.\n",
    "#### False Negative (FN): It is the total counts having prediction is 1 while actually, it is 0.\n"
   ]
  },
  {
   "cell_type": "code",
   "execution_count": 40,
   "id": "16eff827",
   "metadata": {
    "ExecuteTime": {
     "end_time": "2023-11-28T11:51:16.397546200Z",
     "start_time": "2023-11-28T11:51:16.114548200Z"
    }
   },
   "outputs": [
    {
     "data": {
      "text/plain": "<AxesSubplot:>"
     },
     "execution_count": 40,
     "metadata": {},
     "output_type": "execute_result"
    },
    {
     "data": {
      "text/plain": "<Figure size 432x288 with 2 Axes>",
      "image/png": "[encoded data removed]"
     },
     "metadata": {
      "needs_background": "light"
     },
     "output_type": "display_data"
    }
   ],
   "source": [
    "con_matrix=confusion_matrix(y_test, y_pred)\n",
    "sns.heatmap(con_matrix,annot=True, cmap=\"Blues\")"
   ]
  },
  {
   "cell_type": "markdown",
   "id": "c2f0ad00",
   "metadata": {},
   "source": [
    "### Logistic regression with OverSampling\n",
    "#### In this cell first we define ros as RandomOverSampler with random_state=50 and fit it with x_train and y_train. RandomOverSampling involves randomly selecting examples from the minority class, with replacement, and adding them to the training dataset.\n",
    "#### Then define LogisticRegression and fitted it with x_train_ros and y_train_ros. after that predict with x_test and print the result of evaluate_func with y_test for y_true and y_pred_ros for y_prediction.   \n",
    "#### Here we have No ConvergenceWarning, because the dataset is balanced \n",
    "#### We have improved in evaluate_func"
   ]
  },
  {
   "cell_type": "code",
   "execution_count": 41,
   "id": "f285b8e2",
   "metadata": {
    "scrolled": false,
    "ExecuteTime": {
     "end_time": "2023-11-28T11:51:16.531546600Z",
     "start_time": "2023-11-28T11:51:16.356553Z"
    }
   },
   "outputs": [
    {
     "name": "stdout",
     "output_type": "stream",
     "text": [
      "Logistic regression with oversampling:\n",
      "Accuracy: 0.928339\n",
      "Recall: 0.928339\n",
      "Precision: 0.928278\n",
      "F1-score: 0.928304\n"
     ]
    }
   ],
   "source": [
    "ros = RandomOverSampler(random_state=50)\n",
    "x_train_ros, y_train_ros = ros.fit_resample(x_train, y_train)\n",
    "LR_ros = LogisticRegression(solver='liblinear')\n",
    "LR_ros.fit(x_train_ros, y_train_ros)\n",
    "y_pred_ros = LR_ros.predict(x_test)\n",
    "print('Logistic regression with oversampling:')\n",
    "evaluate_func(y_test, y_pred_ros)"
   ]
  },
  {
   "cell_type": "markdown",
   "id": "2bb319a0",
   "metadata": {},
   "source": [
    "### confusion_matrix for LogisticRegression with OverSampling\n",
    "#### confusion matrix visualizes and summarizes the performance of a classification algorithm\n",
    "#### True Positive (TP): It is the total counts having both predicted and actual values are 0.\n",
    "#### True Negative (TN): It is the total counts having both predicted and actual values are 1.\n",
    "#### False Positive (FP): It is the total counts having prediction is 0 while actually is 1.\n",
    "#### False Negative (FN): It is the total counts having prediction is 1 while actually, it is 0.\n"
   ]
  },
  {
   "cell_type": "code",
   "execution_count": 42,
   "id": "c67255b1",
   "metadata": {
    "ExecuteTime": {
     "end_time": "2023-11-28T11:51:16.679553100Z",
     "start_time": "2023-11-28T11:51:16.479556500Z"
    }
   },
   "outputs": [
    {
     "data": {
      "text/plain": "<AxesSubplot:>"
     },
     "execution_count": 42,
     "metadata": {},
     "output_type": "execute_result"
    },
    {
     "data": {
      "text/plain": "<Figure size 432x288 with 2 Axes>",
      "image/png": "[encoded data removed]"
     },
     "metadata": {
      "needs_background": "light"
     },
     "output_type": "display_data"
    }
   ],
   "source": [
    "con_matrix=confusion_matrix(y_test, y_pred_ros)\n",
    "sns.heatmap(con_matrix,annot=True, cmap=\"viridis\")"
   ]
  },
  {
   "cell_type": "markdown",
   "id": "a035e703",
   "metadata": {},
   "source": [
    "### Logistic regression with UnderSampling\n",
    "#### In this cell first we define rus as RandomUnderSampler with random_state=50 and fit it with x_train and y_train. RandomUnderSampling involves randomly selecting examples from the majority class and deleting them from the training dataset\n",
    "#### Then define LogisticRegression and fitted it with x_train_rus and y_train_rus. after that predict with x_test and print the result of evaluate_func with y_test for y_true and y_pred_rus for y_prediction.   \n",
    "#### Here we have No ConvergenceWarning, because the dataset is balanced \n",
    "#### We have improved in evaluate_func"
   ]
  },
  {
   "cell_type": "code",
   "execution_count": 43,
   "id": "bb73e3ad",
   "metadata": {
    "scrolled": false,
    "ExecuteTime": {
     "end_time": "2023-11-28T11:51:16.773547200Z",
     "start_time": "2023-11-28T11:51:16.668553300Z"
    }
   },
   "outputs": [
    {
     "name": "stdout",
     "output_type": "stream",
     "text": [
      "Logistic regression with undersampling:\n",
      "Accuracy: 0.923996\n",
      "Recall: 0.923996\n",
      "Precision: 0.924077\n",
      "F1-score: 0.924032\n"
     ]
    }
   ],
   "source": [
    "rus = RandomUnderSampler(random_state=50)\n",
    "x_train_rus, y_train_rus = rus.fit_resample(x_train, y_train)\n",
    "LR_rus = LogisticRegression(solver='liblinear')\n",
    "LR_rus.fit(x_train_rus, y_train_rus)\n",
    "y_pred_rus = LR_rus.predict(x_test)\n",
    "print('Logistic regression with undersampling:')\n",
    "evaluate_func(y_test, y_pred_rus)"
   ]
  },
  {
   "cell_type": "markdown",
   "id": "13fb57f6",
   "metadata": {},
   "source": [
    "### confusion_matrix for LogisticRegression with UnderSampling\n",
    "#### confusion matrix visualizes and summarizes the performance of a classification algorithm\n",
    "#### True Positive (TP): It is the total counts having both predicted and actual values are 0.\n",
    "#### True Negative (TN): It is the total counts having both predicted and actual values are 1.\n",
    "#### False Positive (FP): It is the total counts having prediction is 0 while actually is 1.\n",
    "#### False Negative (FN): It is the total counts having prediction is 1 while actually, it is 0."
   ]
  },
  {
   "cell_type": "code",
   "execution_count": 44,
   "id": "d169a6f6",
   "metadata": {
    "ExecuteTime": {
     "end_time": "2023-11-28T11:51:16.956555400Z",
     "start_time": "2023-11-28T11:51:16.767547Z"
    }
   },
   "outputs": [
    {
     "data": {
      "text/plain": "<AxesSubplot:>"
     },
     "execution_count": 44,
     "metadata": {},
     "output_type": "execute_result"
    },
    {
     "data": {
      "text/plain": "<Figure size 432x288 with 2 Axes>",
      "image/png": "[encoded data removed]"
     },
     "metadata": {
      "needs_background": "light"
     },
     "output_type": "display_data"
    }
   ],
   "source": [
    "con_matrix=confusion_matrix(y_test, y_pred_rus)\n",
    "sns.heatmap(con_matrix,annot=True, cmap=\"BuPu\")"
   ]
  },
  {
   "cell_type": "markdown",
   "id": "81cd5888",
   "metadata": {},
   "source": [
    "### Logistic regression with weighted loss function\n",
    "#### In this cell first we define wlf as Weighted loss function with LogisticRegression that class_weight='balanced'\n",
    "#### Then fitted wlf with x_train and y_train. after that predict with x_test and print the result of evaluate_func with y_test for y_true and y_pred_wlf for y_prediction.   \n",
    "#### Here we have No ConvergenceWarning, because the dataset is balanced \n",
    "#### We have improved in evaluate_func"
   ]
  },
  {
   "cell_type": "code",
   "execution_count": 45,
   "id": "a27e163a",
   "metadata": {
    "ExecuteTime": {
     "end_time": "2023-11-28T11:51:17.041542400Z",
     "start_time": "2023-11-28T11:51:16.952553800Z"
    }
   },
   "outputs": [
    {
     "name": "stdout",
     "output_type": "stream",
     "text": [
      "Logistic regression with weighted loss function:\n",
      "Accuracy: 0.927253\n",
      "Recall: 0.927253\n",
      "Precision: 0.927130\n",
      "F1-score: 0.927163\n"
     ]
    }
   ],
   "source": [
    "wlf = LogisticRegression(solver='liblinear',class_weight='balanced')\n",
    "wlf.fit(x_train, y_train)\n",
    "y_pred_wlf = wlf.predict(x_test)\n",
    "print('Logistic regression with weighted loss function:')\n",
    "evaluate_func(y_test, y_pred_wlf)"
   ]
  },
  {
   "cell_type": "markdown",
   "id": "183bf9b0",
   "metadata": {},
   "source": [
    "### confusion_matrix for LogisticRegression with weighted loss function\n",
    "#### confusion matrix visualizes and summarizes the performance of a classification algorithm\n",
    "#### True Positive (TP): It is the total counts having both predicted and actual values are 0.\n",
    "#### True Negative (TN): It is the total counts having both predicted and actual values are 1.\n",
    "#### False Positive (FP): It is the total counts having prediction is 0 while actually is 1.\n",
    "#### False Negative (FN): It is the total counts having prediction is 1 while actually, it is 0.\n"
   ]
  },
  {
   "cell_type": "code",
   "execution_count": 46,
   "id": "2aacb479",
   "metadata": {
    "ExecuteTime": {
     "end_time": "2023-11-28T11:51:17.215556600Z",
     "start_time": "2023-11-28T11:51:17.031550700Z"
    }
   },
   "outputs": [
    {
     "data": {
      "text/plain": "<AxesSubplot:>"
     },
     "execution_count": 46,
     "metadata": {},
     "output_type": "execute_result"
    },
    {
     "data": {
      "text/plain": "<Figure size 432x288 with 2 Axes>",
      "image/png": "[encoded data removed]"
     },
     "metadata": {
      "needs_background": "light"
     },
     "output_type": "display_data"
    }
   ],
   "source": [
    "con_matrix=confusion_matrix(y_test, y_pred_wlf)\n",
    "sns.heatmap(con_matrix,annot=True, cmap=\"Greens\")"
   ]
  },
  {
   "cell_type": "markdown",
   "id": "801ba59c",
   "metadata": {},
   "source": [
    "### save to csv\n",
    "#### save the result of 4 predictions\n",
    "#### y_pred is the prediction for Logistic regression without any sampling or weighted loss function\n",
    "#### y_pred_ros is the prediction for Logistic regression with OverSampling\n",
    "#### y_pred_rus is the prediction for Logistic regression with UnderSampling\n",
    "#### y_pred_wlf is the prediction for LogisticRegression with weighted loss function"
   ]
  },
  {
   "cell_type": "code",
   "execution_count": 47,
   "id": "ef414384",
   "metadata": {
    "ExecuteTime": {
     "end_time": "2023-11-28T11:51:17.227548200Z",
     "start_time": "2023-11-28T11:51:17.209562300Z"
    }
   },
   "outputs": [],
   "source": [
    "y_pred_df=pd.DataFrame(y_pred,columns = ['Class'])\n",
    "y_pred_df.to_csv(\"1 default_LogisticRegression.csv\",index=False)"
   ]
  },
  {
   "cell_type": "code",
   "execution_count": 48,
   "id": "c53d3d45",
   "metadata": {
    "ExecuteTime": {
     "end_time": "2023-11-28T11:51:17.267543100Z",
     "start_time": "2023-11-28T11:51:17.222555100Z"
    }
   },
   "outputs": [],
   "source": [
    "y_pred_ros_df=pd.DataFrame(y_pred_ros,columns = ['Class'])\n",
    "y_pred_ros_df.to_csv(\"2 oversampling_LogisticRegression.csv\",index=False)"
   ]
  },
  {
   "cell_type": "code",
   "execution_count": 49,
   "id": "8295ff4a",
   "metadata": {
    "scrolled": false,
    "ExecuteTime": {
     "end_time": "2023-11-28T11:51:17.267543100Z",
     "start_time": "2023-11-28T11:51:17.234548700Z"
    }
   },
   "outputs": [],
   "source": [
    "y_pred_rus_df=pd.DataFrame(y_pred_rus,columns = ['Class'])\n",
    "y_pred_rus_df.to_csv(\"3 undersampling_LogisticRegression.csv\",index=False)"
   ]
  },
  {
   "cell_type": "code",
   "execution_count": 50,
   "id": "8824cb50",
   "metadata": {
    "ExecuteTime": {
     "end_time": "2023-11-28T11:51:17.268549300Z",
     "start_time": "2023-11-28T11:51:17.243549500Z"
    }
   },
   "outputs": [],
   "source": [
    "y_pred_wlf_df=pd.DataFrame(y_pred_wlf,columns = ['Class'])\n",
    "y_pred_wlf_df.to_csv(\"4 weightedLossFunction_LogisticRegression.csv\",index=False)"
   ]
  }
 ],
 "metadata": {
  "kernelspec": {
   "display_name": "Python 3 (ipykernel)",
   "language": "python",
   "name": "python3"
  },
  "language_info": {
   "codemirror_mode": {
    "name": "ipython",
    "version": 3
   },
   "file_extension": ".py",
   "mimetype": "text/x-python",
   "name": "python",
   "nbconvert_exporter": "python",
   "pygments_lexer": "ipython3",
   "version": "3.9.12"
  }
 },
 "nbformat": 4,
 "nbformat_minor": 5
}
