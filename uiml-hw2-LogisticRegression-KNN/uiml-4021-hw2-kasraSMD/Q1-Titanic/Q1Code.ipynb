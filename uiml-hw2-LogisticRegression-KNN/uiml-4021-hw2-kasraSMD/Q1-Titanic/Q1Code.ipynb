{
 "cells": [
  {
   "cell_type": "markdown",
   "id": "2e43c1b4",
   "metadata": {},
   "source": [
    "# Kasra Samadi 993623030"
   ]
  },
  {
   "cell_type": "code",
   "execution_count": 1,
   "id": "9c1f5e20",
   "metadata": {},
   "outputs": [],
   "source": [
    "import numpy as np\n",
    "import pandas as pd\n",
    "import matplotlib.pyplot as plt\n",
    "import seaborn as sns\n",
    "from sklearn.metrics import mean_squared_error\n",
    "%matplotlib inline"
   ]
  },
  {
   "cell_type": "markdown",
   "id": "25221532",
   "metadata": {},
   "source": [
    "### reading train.csv and test.csv"
   ]
  },
  {
   "cell_type": "code",
   "execution_count": 2,
   "id": "b3c5491d",
   "metadata": {},
   "outputs": [],
   "source": [
    "df_train = pd.read_csv(\"train.csv\")\n",
    "df_test = pd.read_csv(\"test.csv\")"
   ]
  },
  {
   "cell_type": "code",
   "execution_count": 3,
   "id": "e1e21668",
   "metadata": {},
   "outputs": [
    {
     "data": {
      "text/html": [
       "<div>\n",
       "<style scoped>\n",
       "    .dataframe tbody tr th:only-of-type {\n",
       "        vertical-align: middle;\n",
       "    }\n",
       "\n",
       "    .dataframe tbody tr th {\n",
       "        vertical-align: top;\n",
       "    }\n",
       "\n",
       "    .dataframe thead th {\n",
       "        text-align: right;\n",
       "    }\n",
       "</style>\n",
       "<table border=\"1\" class=\"dataframe\">\n",
       "  <thead>\n",
       "    <tr style=\"text-align: right;\">\n",
       "      <th></th>\n",
       "      <th>PassengerId</th>\n",
       "      <th>Survived</th>\n",
       "      <th>Pclass</th>\n",
       "      <th>Name</th>\n",
       "      <th>Sex</th>\n",
       "      <th>Age</th>\n",
       "      <th>SibSp</th>\n",
       "      <th>Parch</th>\n",
       "      <th>Ticket</th>\n",
       "      <th>Fare</th>\n",
       "      <th>Cabin</th>\n",
       "      <th>Embarked</th>\n",
       "    </tr>\n",
       "  </thead>\n",
       "  <tbody>\n",
       "    <tr>\n",
       "      <th>0</th>\n",
       "      <td>1</td>\n",
       "      <td>0</td>\n",
       "      <td>3</td>\n",
       "      <td>Braund, Mr. Owen Harris</td>\n",
       "      <td>male</td>\n",
       "      <td>22.0</td>\n",
       "      <td>1</td>\n",
       "      <td>0</td>\n",
       "      <td>A/5 21171</td>\n",
       "      <td>7.2500</td>\n",
       "      <td>NaN</td>\n",
       "      <td>S</td>\n",
       "    </tr>\n",
       "    <tr>\n",
       "      <th>1</th>\n",
       "      <td>2</td>\n",
       "      <td>1</td>\n",
       "      <td>1</td>\n",
       "      <td>Cumings, Mrs. John Bradley (Florence Briggs Th...</td>\n",
       "      <td>female</td>\n",
       "      <td>38.0</td>\n",
       "      <td>1</td>\n",
       "      <td>0</td>\n",
       "      <td>PC 17599</td>\n",
       "      <td>71.2833</td>\n",
       "      <td>C85</td>\n",
       "      <td>C</td>\n",
       "    </tr>\n",
       "    <tr>\n",
       "      <th>2</th>\n",
       "      <td>3</td>\n",
       "      <td>1</td>\n",
       "      <td>3</td>\n",
       "      <td>Heikkinen, Miss. Laina</td>\n",
       "      <td>female</td>\n",
       "      <td>26.0</td>\n",
       "      <td>0</td>\n",
       "      <td>0</td>\n",
       "      <td>STON/O2. 3101282</td>\n",
       "      <td>7.9250</td>\n",
       "      <td>NaN</td>\n",
       "      <td>S</td>\n",
       "    </tr>\n",
       "    <tr>\n",
       "      <th>3</th>\n",
       "      <td>4</td>\n",
       "      <td>1</td>\n",
       "      <td>1</td>\n",
       "      <td>Futrelle, Mrs. Jacques Heath (Lily May Peel)</td>\n",
       "      <td>female</td>\n",
       "      <td>35.0</td>\n",
       "      <td>1</td>\n",
       "      <td>0</td>\n",
       "      <td>113803</td>\n",
       "      <td>53.1000</td>\n",
       "      <td>C123</td>\n",
       "      <td>S</td>\n",
       "    </tr>\n",
       "    <tr>\n",
       "      <th>4</th>\n",
       "      <td>5</td>\n",
       "      <td>0</td>\n",
       "      <td>3</td>\n",
       "      <td>Allen, Mr. William Henry</td>\n",
       "      <td>male</td>\n",
       "      <td>35.0</td>\n",
       "      <td>0</td>\n",
       "      <td>0</td>\n",
       "      <td>373450</td>\n",
       "      <td>8.0500</td>\n",
       "      <td>NaN</td>\n",
       "      <td>S</td>\n",
       "    </tr>\n",
       "    <tr>\n",
       "      <th>...</th>\n",
       "      <td>...</td>\n",
       "      <td>...</td>\n",
       "      <td>...</td>\n",
       "      <td>...</td>\n",
       "      <td>...</td>\n",
       "      <td>...</td>\n",
       "      <td>...</td>\n",
       "      <td>...</td>\n",
       "      <td>...</td>\n",
       "      <td>...</td>\n",
       "      <td>...</td>\n",
       "      <td>...</td>\n",
       "    </tr>\n",
       "    <tr>\n",
       "      <th>886</th>\n",
       "      <td>887</td>\n",
       "      <td>0</td>\n",
       "      <td>2</td>\n",
       "      <td>Montvila, Rev. Juozas</td>\n",
       "      <td>male</td>\n",
       "      <td>27.0</td>\n",
       "      <td>0</td>\n",
       "      <td>0</td>\n",
       "      <td>211536</td>\n",
       "      <td>13.0000</td>\n",
       "      <td>NaN</td>\n",
       "      <td>S</td>\n",
       "    </tr>\n",
       "    <tr>\n",
       "      <th>887</th>\n",
       "      <td>888</td>\n",
       "      <td>1</td>\n",
       "      <td>1</td>\n",
       "      <td>Graham, Miss. Margaret Edith</td>\n",
       "      <td>female</td>\n",
       "      <td>19.0</td>\n",
       "      <td>0</td>\n",
       "      <td>0</td>\n",
       "      <td>112053</td>\n",
       "      <td>30.0000</td>\n",
       "      <td>B42</td>\n",
       "      <td>S</td>\n",
       "    </tr>\n",
       "    <tr>\n",
       "      <th>888</th>\n",
       "      <td>889</td>\n",
       "      <td>0</td>\n",
       "      <td>3</td>\n",
       "      <td>Johnston, Miss. Catherine Helen \"Carrie\"</td>\n",
       "      <td>female</td>\n",
       "      <td>NaN</td>\n",
       "      <td>1</td>\n",
       "      <td>2</td>\n",
       "      <td>W./C. 6607</td>\n",
       "      <td>23.4500</td>\n",
       "      <td>NaN</td>\n",
       "      <td>S</td>\n",
       "    </tr>\n",
       "    <tr>\n",
       "      <th>889</th>\n",
       "      <td>890</td>\n",
       "      <td>1</td>\n",
       "      <td>1</td>\n",
       "      <td>Behr, Mr. Karl Howell</td>\n",
       "      <td>male</td>\n",
       "      <td>26.0</td>\n",
       "      <td>0</td>\n",
       "      <td>0</td>\n",
       "      <td>111369</td>\n",
       "      <td>30.0000</td>\n",
       "      <td>C148</td>\n",
       "      <td>C</td>\n",
       "    </tr>\n",
       "    <tr>\n",
       "      <th>890</th>\n",
       "      <td>891</td>\n",
       "      <td>0</td>\n",
       "      <td>3</td>\n",
       "      <td>Dooley, Mr. Patrick</td>\n",
       "      <td>male</td>\n",
       "      <td>32.0</td>\n",
       "      <td>0</td>\n",
       "      <td>0</td>\n",
       "      <td>370376</td>\n",
       "      <td>7.7500</td>\n",
       "      <td>NaN</td>\n",
       "      <td>Q</td>\n",
       "    </tr>\n",
       "  </tbody>\n",
       "</table>\n",
       "<p>891 rows × 12 columns</p>\n",
       "</div>"
      ],
      "text/plain": [
       "     PassengerId  Survived  Pclass  \\\n",
       "0              1         0       3   \n",
       "1              2         1       1   \n",
       "2              3         1       3   \n",
       "3              4         1       1   \n",
       "4              5         0       3   \n",
       "..           ...       ...     ...   \n",
       "886          887         0       2   \n",
       "887          888         1       1   \n",
       "888          889         0       3   \n",
       "889          890         1       1   \n",
       "890          891         0       3   \n",
       "\n",
       "                                                  Name     Sex   Age  SibSp  \\\n",
       "0                              Braund, Mr. Owen Harris    male  22.0      1   \n",
       "1    Cumings, Mrs. John Bradley (Florence Briggs Th...  female  38.0      1   \n",
       "2                               Heikkinen, Miss. Laina  female  26.0      0   \n",
       "3         Futrelle, Mrs. Jacques Heath (Lily May Peel)  female  35.0      1   \n",
       "4                             Allen, Mr. William Henry    male  35.0      0   \n",
       "..                                                 ...     ...   ...    ...   \n",
       "886                              Montvila, Rev. Juozas    male  27.0      0   \n",
       "887                       Graham, Miss. Margaret Edith  female  19.0      0   \n",
       "888           Johnston, Miss. Catherine Helen \"Carrie\"  female   NaN      1   \n",
       "889                              Behr, Mr. Karl Howell    male  26.0      0   \n",
       "890                                Dooley, Mr. Patrick    male  32.0      0   \n",
       "\n",
       "     Parch            Ticket     Fare Cabin Embarked  \n",
       "0        0         A/5 21171   7.2500   NaN        S  \n",
       "1        0          PC 17599  71.2833   C85        C  \n",
       "2        0  STON/O2. 3101282   7.9250   NaN        S  \n",
       "3        0            113803  53.1000  C123        S  \n",
       "4        0            373450   8.0500   NaN        S  \n",
       "..     ...               ...      ...   ...      ...  \n",
       "886      0            211536  13.0000   NaN        S  \n",
       "887      0            112053  30.0000   B42        S  \n",
       "888      2        W./C. 6607  23.4500   NaN        S  \n",
       "889      0            111369  30.0000  C148        C  \n",
       "890      0            370376   7.7500   NaN        Q  \n",
       "\n",
       "[891 rows x 12 columns]"
      ]
     },
     "execution_count": 3,
     "metadata": {},
     "output_type": "execute_result"
    }
   ],
   "source": [
    "df_train"
   ]
  },
  {
   "cell_type": "code",
   "execution_count": 4,
   "id": "90a78eba",
   "metadata": {},
   "outputs": [
    {
     "name": "stdout",
     "output_type": "stream",
     "text": [
      "PassengerId      0\n",
      "Survived         0\n",
      "Pclass           0\n",
      "Name             0\n",
      "Sex              0\n",
      "Age            177\n",
      "SibSp            0\n",
      "Parch            0\n",
      "Ticket           0\n",
      "Fare             0\n",
      "Cabin          687\n",
      "Embarked         2\n",
      "dtype: int64\n",
      "PassengerId      0\n",
      "Pclass           0\n",
      "Name             0\n",
      "Sex              0\n",
      "Age             86\n",
      "SibSp            0\n",
      "Parch            0\n",
      "Ticket           0\n",
      "Fare             1\n",
      "Cabin          327\n",
      "Embarked         0\n",
      "dtype: int64\n"
     ]
    }
   ],
   "source": [
    "print(df_train.isna().sum())\n",
    "print(df_test.isna().sum())"
   ]
  },
  {
   "cell_type": "markdown",
   "id": "1755db96",
   "metadata": {},
   "source": [
    "### define x_train , y_train and x_test "
   ]
  },
  {
   "cell_type": "code",
   "execution_count": 5,
   "id": "810c85dc",
   "metadata": {},
   "outputs": [],
   "source": [
    "y_train = df_train[\"Survived\"]\n",
    "x_train = df_train.drop([\"Name\",\"Fare\",\"Survived\",\"Cabin\",\"Embarked\",\"PassengerId\",\"Pclass\",\"Ticket\"], axis=1)\n",
    "x_test = df_test.drop([\"Name\",\"Fare\",\"Cabin\",\"Embarked\",\"PassengerId\",\"Pclass\",\"Ticket\"], axis=1)"
   ]
  },
  {
   "cell_type": "markdown",
   "id": "f1a43ab2",
   "metadata": {},
   "source": [
    "### drop null values from x_train and x_test data frames and replacing with median"
   ]
  },
  {
   "cell_type": "code",
   "execution_count": 7,
   "id": "d15dc79a",
   "metadata": {},
   "outputs": [],
   "source": [
    "# x_train\n",
    "temp_Age_train = x_train[\"Age\"]\n",
    "dropna_Age_train = temp_Age_train.dropna()\n",
    "mean_Age_train = dropna_Age_train.median()\n",
    "x_train[\"Age\"].fillna(mean_Age_train, inplace=True)\n",
    "# x_test\n",
    "temp_Age_test = x_test[\"Age\"]\n",
    "dropna_Age_test = temp_Age_test.dropna()\n",
    "mean_Age_test = dropna_Age_test.median()\n",
    "x_test[\"Age\"].fillna(mean_Age_test, inplace=True)\n"
   ]
  },
  {
   "cell_type": "code",
   "execution_count": 8,
   "id": "7bff7aba",
   "metadata": {},
   "outputs": [
    {
     "name": "stdout",
     "output_type": "stream",
     "text": [
      "Sex      0\n",
      "Age      0\n",
      "SibSp    0\n",
      "Parch    0\n",
      "dtype: int64\n",
      "Sex      0\n",
      "Age      0\n",
      "SibSp    0\n",
      "Parch    0\n",
      "dtype: int64\n"
     ]
    }
   ],
   "source": [
    "print(x_train.isna().sum())\n",
    "print(x_test.isna().sum())"
   ]
  },
  {
   "cell_type": "markdown",
   "id": "7e092577",
   "metadata": {},
   "source": [
    "### convert sex column to numerical values"
   ]
  },
  {
   "cell_type": "code",
   "execution_count": 9,
   "id": "7c3387c4",
   "metadata": {},
   "outputs": [],
   "source": [
    "sex = {'male': 2,'female': 1} \n",
    "x_train[\"Sex\"] = [sex[i] for i in x_train[\"Sex\"]]\n",
    "x_test[\"Sex\"] = [sex[i] for i in x_test[\"Sex\"]]\n",
    "\n",
    "# # LabelEncoder preprocessing for labeled values\n",
    "# from sklearn import preprocessing\n",
    "# le_sex = preprocessing.LabelEncoder()\n",
    "# le_sex.fit([\"female\",\"male\"])\n",
    "# x_train[\"Sex\"] = le_sex.transform(x_train[\"Sex\"])\n",
    "# x_test[\"Sex\"] = le_sex.transform(x_test[\"Sex\"])"
   ]
  },
  {
   "cell_type": "code",
   "execution_count": 10,
   "id": "a66c2678",
   "metadata": {},
   "outputs": [
    {
     "data": {
      "text/html": [
       "<div>\n",
       "<style scoped>\n",
       "    .dataframe tbody tr th:only-of-type {\n",
       "        vertical-align: middle;\n",
       "    }\n",
       "\n",
       "    .dataframe tbody tr th {\n",
       "        vertical-align: top;\n",
       "    }\n",
       "\n",
       "    .dataframe thead th {\n",
       "        text-align: right;\n",
       "    }\n",
       "</style>\n",
       "<table border=\"1\" class=\"dataframe\">\n",
       "  <thead>\n",
       "    <tr style=\"text-align: right;\">\n",
       "      <th></th>\n",
       "      <th>Sex</th>\n",
       "      <th>Age</th>\n",
       "      <th>SibSp</th>\n",
       "      <th>Parch</th>\n",
       "    </tr>\n",
       "  </thead>\n",
       "  <tbody>\n",
       "    <tr>\n",
       "      <th>0</th>\n",
       "      <td>2</td>\n",
       "      <td>34.5</td>\n",
       "      <td>0</td>\n",
       "      <td>0</td>\n",
       "    </tr>\n",
       "    <tr>\n",
       "      <th>1</th>\n",
       "      <td>1</td>\n",
       "      <td>47.0</td>\n",
       "      <td>1</td>\n",
       "      <td>0</td>\n",
       "    </tr>\n",
       "    <tr>\n",
       "      <th>2</th>\n",
       "      <td>2</td>\n",
       "      <td>62.0</td>\n",
       "      <td>0</td>\n",
       "      <td>0</td>\n",
       "    </tr>\n",
       "    <tr>\n",
       "      <th>3</th>\n",
       "      <td>2</td>\n",
       "      <td>27.0</td>\n",
       "      <td>0</td>\n",
       "      <td>0</td>\n",
       "    </tr>\n",
       "    <tr>\n",
       "      <th>4</th>\n",
       "      <td>1</td>\n",
       "      <td>22.0</td>\n",
       "      <td>1</td>\n",
       "      <td>1</td>\n",
       "    </tr>\n",
       "    <tr>\n",
       "      <th>...</th>\n",
       "      <td>...</td>\n",
       "      <td>...</td>\n",
       "      <td>...</td>\n",
       "      <td>...</td>\n",
       "    </tr>\n",
       "    <tr>\n",
       "      <th>413</th>\n",
       "      <td>2</td>\n",
       "      <td>27.0</td>\n",
       "      <td>0</td>\n",
       "      <td>0</td>\n",
       "    </tr>\n",
       "    <tr>\n",
       "      <th>414</th>\n",
       "      <td>1</td>\n",
       "      <td>39.0</td>\n",
       "      <td>0</td>\n",
       "      <td>0</td>\n",
       "    </tr>\n",
       "    <tr>\n",
       "      <th>415</th>\n",
       "      <td>2</td>\n",
       "      <td>38.5</td>\n",
       "      <td>0</td>\n",
       "      <td>0</td>\n",
       "    </tr>\n",
       "    <tr>\n",
       "      <th>416</th>\n",
       "      <td>2</td>\n",
       "      <td>27.0</td>\n",
       "      <td>0</td>\n",
       "      <td>0</td>\n",
       "    </tr>\n",
       "    <tr>\n",
       "      <th>417</th>\n",
       "      <td>2</td>\n",
       "      <td>27.0</td>\n",
       "      <td>1</td>\n",
       "      <td>1</td>\n",
       "    </tr>\n",
       "  </tbody>\n",
       "</table>\n",
       "<p>418 rows × 4 columns</p>\n",
       "</div>"
      ],
      "text/plain": [
       "     Sex   Age  SibSp  Parch\n",
       "0      2  34.5      0      0\n",
       "1      1  47.0      1      0\n",
       "2      2  62.0      0      0\n",
       "3      2  27.0      0      0\n",
       "4      1  22.0      1      1\n",
       "..   ...   ...    ...    ...\n",
       "413    2  27.0      0      0\n",
       "414    1  39.0      0      0\n",
       "415    2  38.5      0      0\n",
       "416    2  27.0      0      0\n",
       "417    2  27.0      1      1\n",
       "\n",
       "[418 rows x 4 columns]"
      ]
     },
     "execution_count": 10,
     "metadata": {},
     "output_type": "execute_result"
    }
   ],
   "source": [
    "x_test"
   ]
  },
  {
   "cell_type": "markdown",
   "id": "9c730b95",
   "metadata": {},
   "source": [
    "### x_train and x_test normalizing "
   ]
  },
  {
   "cell_type": "code",
   "execution_count": 11,
   "id": "8ac60434",
   "metadata": {},
   "outputs": [],
   "source": [
    "from sklearn.preprocessing import StandardScaler, MinMaxScaler\n",
    "\n",
    "# x_train normalizing\n",
    "x_train_values = x_train.values\n",
    "min_max_scaler = StandardScaler()\n",
    "x_scaled_train = min_max_scaler.fit_transform(x_train_values)\n",
    "x_train = pd.DataFrame(x_scaled_train,columns = x_train.columns)\n",
    "\n",
    "# x_test normalizing\n",
    "x_test_values = x_test.values\n",
    "min_max_scaler = StandardScaler()\n",
    "x_scaled_test = min_max_scaler.fit_transform(x_test_values)\n",
    "x_test = pd.DataFrame(x_scaled_test,columns = x_test.columns)"
   ]
  },
  {
   "cell_type": "markdown",
   "id": "02fcc2b6",
   "metadata": {},
   "source": [
    "### insert a ones column as Intercept"
   ]
  },
  {
   "cell_type": "code",
   "execution_count": 12,
   "id": "54bae0d9",
   "metadata": {},
   "outputs": [],
   "source": [
    "#Add a column of ones for the intercept for x train\n",
    "x_train = pd.concat([pd.Series(1, index=x_train.index, name=\"Intercept\"), x_train], axis=1)\n",
    "\n",
    "# Add a column of ones for the intercept for x test\n",
    "x_test = pd.concat([pd.Series(1, index=x_test.index, name=\"Intercept\"), x_test], axis=1)"
   ]
  },
  {
   "cell_type": "code",
   "execution_count": 13,
   "id": "2dac9119",
   "metadata": {},
   "outputs": [
    {
     "data": {
      "text/html": [
       "<div>\n",
       "<style scoped>\n",
       "    .dataframe tbody tr th:only-of-type {\n",
       "        vertical-align: middle;\n",
       "    }\n",
       "\n",
       "    .dataframe tbody tr th {\n",
       "        vertical-align: top;\n",
       "    }\n",
       "\n",
       "    .dataframe thead th {\n",
       "        text-align: right;\n",
       "    }\n",
       "</style>\n",
       "<table border=\"1\" class=\"dataframe\">\n",
       "  <thead>\n",
       "    <tr style=\"text-align: right;\">\n",
       "      <th></th>\n",
       "      <th>Intercept</th>\n",
       "      <th>Sex</th>\n",
       "      <th>Age</th>\n",
       "      <th>SibSp</th>\n",
       "      <th>Parch</th>\n",
       "    </tr>\n",
       "  </thead>\n",
       "  <tbody>\n",
       "    <tr>\n",
       "      <th>0</th>\n",
       "      <td>1</td>\n",
       "      <td>0.737695</td>\n",
       "      <td>-0.565736</td>\n",
       "      <td>0.432793</td>\n",
       "      <td>-0.473674</td>\n",
       "    </tr>\n",
       "    <tr>\n",
       "      <th>1</th>\n",
       "      <td>1</td>\n",
       "      <td>-1.355574</td>\n",
       "      <td>0.663861</td>\n",
       "      <td>0.432793</td>\n",
       "      <td>-0.473674</td>\n",
       "    </tr>\n",
       "    <tr>\n",
       "      <th>2</th>\n",
       "      <td>1</td>\n",
       "      <td>-1.355574</td>\n",
       "      <td>-0.258337</td>\n",
       "      <td>-0.474545</td>\n",
       "      <td>-0.473674</td>\n",
       "    </tr>\n",
       "    <tr>\n",
       "      <th>3</th>\n",
       "      <td>1</td>\n",
       "      <td>-1.355574</td>\n",
       "      <td>0.433312</td>\n",
       "      <td>0.432793</td>\n",
       "      <td>-0.473674</td>\n",
       "    </tr>\n",
       "    <tr>\n",
       "      <th>4</th>\n",
       "      <td>1</td>\n",
       "      <td>0.737695</td>\n",
       "      <td>0.433312</td>\n",
       "      <td>-0.474545</td>\n",
       "      <td>-0.473674</td>\n",
       "    </tr>\n",
       "    <tr>\n",
       "      <th>...</th>\n",
       "      <td>...</td>\n",
       "      <td>...</td>\n",
       "      <td>...</td>\n",
       "      <td>...</td>\n",
       "      <td>...</td>\n",
       "    </tr>\n",
       "    <tr>\n",
       "      <th>886</th>\n",
       "      <td>1</td>\n",
       "      <td>0.737695</td>\n",
       "      <td>-0.181487</td>\n",
       "      <td>-0.474545</td>\n",
       "      <td>-0.473674</td>\n",
       "    </tr>\n",
       "    <tr>\n",
       "      <th>887</th>\n",
       "      <td>1</td>\n",
       "      <td>-1.355574</td>\n",
       "      <td>-0.796286</td>\n",
       "      <td>-0.474545</td>\n",
       "      <td>-0.473674</td>\n",
       "    </tr>\n",
       "    <tr>\n",
       "      <th>888</th>\n",
       "      <td>1</td>\n",
       "      <td>-1.355574</td>\n",
       "      <td>-0.104637</td>\n",
       "      <td>0.432793</td>\n",
       "      <td>2.008933</td>\n",
       "    </tr>\n",
       "    <tr>\n",
       "      <th>889</th>\n",
       "      <td>1</td>\n",
       "      <td>0.737695</td>\n",
       "      <td>-0.258337</td>\n",
       "      <td>-0.474545</td>\n",
       "      <td>-0.473674</td>\n",
       "    </tr>\n",
       "    <tr>\n",
       "      <th>890</th>\n",
       "      <td>1</td>\n",
       "      <td>0.737695</td>\n",
       "      <td>0.202762</td>\n",
       "      <td>-0.474545</td>\n",
       "      <td>-0.473674</td>\n",
       "    </tr>\n",
       "  </tbody>\n",
       "</table>\n",
       "<p>891 rows × 5 columns</p>\n",
       "</div>"
      ],
      "text/plain": [
       "     Intercept       Sex       Age     SibSp     Parch\n",
       "0            1  0.737695 -0.565736  0.432793 -0.473674\n",
       "1            1 -1.355574  0.663861  0.432793 -0.473674\n",
       "2            1 -1.355574 -0.258337 -0.474545 -0.473674\n",
       "3            1 -1.355574  0.433312  0.432793 -0.473674\n",
       "4            1  0.737695  0.433312 -0.474545 -0.473674\n",
       "..         ...       ...       ...       ...       ...\n",
       "886          1  0.737695 -0.181487 -0.474545 -0.473674\n",
       "887          1 -1.355574 -0.796286 -0.474545 -0.473674\n",
       "888          1 -1.355574 -0.104637  0.432793  2.008933\n",
       "889          1  0.737695 -0.258337 -0.474545 -0.473674\n",
       "890          1  0.737695  0.202762 -0.474545 -0.473674\n",
       "\n",
       "[891 rows x 5 columns]"
      ]
     },
     "execution_count": 13,
     "metadata": {},
     "output_type": "execute_result"
    }
   ],
   "source": [
    "x_train"
   ]
  },
  {
   "cell_type": "markdown",
   "id": "1366f248",
   "metadata": {},
   "source": [
    "### sigmoid function"
   ]
  },
  {
   "cell_type": "code",
   "execution_count": 14,
   "id": "00798197",
   "metadata": {},
   "outputs": [],
   "source": [
    "def sigmoid(x):\n",
    "    return 1 / (1 + np.exp(-x))"
   ]
  },
  {
   "cell_type": "markdown",
   "id": "199416ab",
   "metadata": {},
   "source": [
    "### cost function"
   ]
  },
  {
   "cell_type": "code",
   "execution_count": 15,
   "id": "76b062ef",
   "metadata": {},
   "outputs": [],
   "source": [
    "def cost(theta, X, y):\n",
    "    m = len(y)\n",
    "    y_pred = sigmoid(X.dot(theta))\n",
    "    return -np.sum(y * np.log(y_pred) + (1 - y) * np.log(1 - y_pred)) / m"
   ]
  },
  {
   "cell_type": "markdown",
   "id": "bab8efd0",
   "metadata": {},
   "source": [
    "### gradient function"
   ]
  },
  {
   "cell_type": "code",
   "execution_count": 16,
   "id": "ba64db92",
   "metadata": {},
   "outputs": [],
   "source": [
    "def gradient(theta, X, y):\n",
    "    m = len(y)\n",
    "    y_pred = sigmoid(X.dot(theta))\n",
    "    return X.T.dot(y_pred - y) / m"
   ]
  },
  {
   "cell_type": "markdown",
   "id": "82475d77",
   "metadata": {},
   "source": [
    "### gradient descent function"
   ]
  },
  {
   "cell_type": "code",
   "execution_count": 17,
   "id": "df6f8509",
   "metadata": {},
   "outputs": [],
   "source": [
    "def gradient_descent(theta, alpha, iterations, X, y):\n",
    "    m = len(y)\n",
    "    cost_history = np.zeros(iterations)\n",
    "    for i in range(iterations):\n",
    "        theta = theta - alpha * gradient(theta, X, y)\n",
    "        cost_history[i] = cost(theta, X, y)\n",
    "    return theta, cost_history"
   ]
  },
  {
   "cell_type": "markdown",
   "id": "06ea4104",
   "metadata": {},
   "source": [
    "### Initializing theta with random values , alpha as Learning rate and iterations"
   ]
  },
  {
   "cell_type": "code",
   "execution_count": 18,
   "id": "4059c3cd",
   "metadata": {},
   "outputs": [],
   "source": [
    "theta = np.random.randn(x_train.shape[1])\n",
    "alpha = 0.01 # Learning rate\n",
    "iterations = 1000 "
   ]
  },
  {
   "cell_type": "markdown",
   "id": "2c069cd1",
   "metadata": {},
   "source": [
    "### Calculate theta and cost_history"
   ]
  },
  {
   "cell_type": "code",
   "execution_count": 19,
   "id": "ad1686f8",
   "metadata": {},
   "outputs": [],
   "source": [
    "theta, cost_history = gradient_descent(theta, alpha, iterations, x_train, y_train)"
   ]
  },
  {
   "cell_type": "markdown",
   "id": "83aabd8e",
   "metadata": {},
   "source": [
    "### predict y_pred"
   ]
  },
  {
   "cell_type": "code",
   "execution_count": 20,
   "id": "7f9c3723",
   "metadata": {},
   "outputs": [],
   "source": [
    "y_pred = sigmoid(x_test.dot(theta)) > 0.5 # use 0.5 as the threshold"
   ]
  },
  {
   "cell_type": "code",
   "execution_count": 21,
   "id": "8a6c74dd",
   "metadata": {},
   "outputs": [
    {
     "data": {
      "text/plain": [
       "0      False\n",
       "1       True\n",
       "2      False\n",
       "3      False\n",
       "4       True\n",
       "       ...  \n",
       "413    False\n",
       "414     True\n",
       "415    False\n",
       "416    False\n",
       "417    False\n",
       "Length: 418, dtype: bool"
      ]
     },
     "execution_count": 21,
     "metadata": {},
     "output_type": "execute_result"
    }
   ],
   "source": [
    "y_pred"
   ]
  },
  {
   "cell_type": "markdown",
   "id": "20be1159",
   "metadata": {},
   "source": [
    "### Convert boolean to integer"
   ]
  },
  {
   "cell_type": "code",
   "execution_count": 22,
   "id": "c8fb454b",
   "metadata": {},
   "outputs": [],
   "source": [
    "y_pred = y_pred.astype(int) "
   ]
  },
  {
   "cell_type": "markdown",
   "id": "a0b901a9",
   "metadata": {},
   "source": [
    "### create y_pred and PassengerId dataFrames"
   ]
  },
  {
   "cell_type": "code",
   "execution_count": 23,
   "id": "332dbec8",
   "metadata": {},
   "outputs": [],
   "source": [
    "y_pred_df = pd.DataFrame(y_pred,columns=['Survived'])"
   ]
  },
  {
   "cell_type": "code",
   "execution_count": 24,
   "id": "1fa21fdc",
   "metadata": {},
   "outputs": [],
   "source": [
    "PassengerId_df = pd.DataFrame(df_test[\"PassengerId\"],columns=['PassengerId'])"
   ]
  },
  {
   "cell_type": "markdown",
   "id": "aaf33f46",
   "metadata": {},
   "source": [
    "### create storing result dataFrame"
   ]
  },
  {
   "cell_type": "code",
   "execution_count": 25,
   "id": "3324615c",
   "metadata": {},
   "outputs": [],
   "source": [
    "result = pd.concat([PassengerId_df, y_pred_df], axis=1)\n"
   ]
  },
  {
   "cell_type": "markdown",
   "id": "801ba59c",
   "metadata": {},
   "source": [
    "### save to csv"
   ]
  },
  {
   "cell_type": "code",
   "execution_count": 26,
   "id": "8dae9e5b",
   "metadata": {},
   "outputs": [],
   "source": [
    "result.to_csv(\"Q1.csv\",index=False)"
   ]
  }
 ],
 "metadata": {
  "kernelspec": {
   "display_name": "Python 3 (ipykernel)",
   "language": "python",
   "name": "python3"
  },
  "language_info": {
   "codemirror_mode": {
    "name": "ipython",
    "version": 3
   },
   "file_extension": ".py",
   "mimetype": "text/x-python",
   "name": "python",
   "nbconvert_exporter": "python",
   "pygments_lexer": "ipython3",
   "version": "3.9.12"
  }
 },
 "nbformat": 4,
 "nbformat_minor": 5
}
