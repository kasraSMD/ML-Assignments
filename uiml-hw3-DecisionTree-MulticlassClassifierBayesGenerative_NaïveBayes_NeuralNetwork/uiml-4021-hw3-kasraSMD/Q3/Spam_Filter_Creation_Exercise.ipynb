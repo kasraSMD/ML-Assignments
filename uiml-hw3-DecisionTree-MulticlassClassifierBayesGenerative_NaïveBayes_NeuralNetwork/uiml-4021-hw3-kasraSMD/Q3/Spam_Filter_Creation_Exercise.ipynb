{
 "cells": [
  {
   "cell_type": "markdown",
   "id": "da9c7e8b",
   "metadata": {},
   "source": [
    "# Kasra Samadi 993623030"
   ]
  },
  {
   "cell_type": "markdown",
   "id": "90d97ae4",
   "metadata": {},
   "source": [
    "\n",
    "# Spam Filter Creation using Naive Bayes\n",
    "\n",
    "In this exercise, you will create a spam filter using the Naive Bayes classifier. This exercise will help you understand how to preprocess text data, implement a Naive Bayes model, and evaluate its performance.\n",
    "\n",
    "## Instructions\n",
    "\n",
    "Complete the code in the sections marked `# TODO`. Make sure to run each cell in order to see the output of your code.\n"
   ]
  },
  {
   "cell_type": "markdown",
   "id": "ee56fdf0",
   "metadata": {},
   "source": [
    "\n",
    "## Step 1: Data Loading and Preprocessing\n",
    "\n",
    "First, we need to load and preprocess our dataset. The dataset consists of emails categorized into 'spam' and 'non-spam'.\n"
   ]
  },
  {
   "cell_type": "code",
   "execution_count": 1,
   "id": "dda826a9",
   "metadata": {},
   "outputs": [],
   "source": [
    "import numpy as np\n",
    "import pandas as pd\n",
    "import matplotlib.pyplot as plt\n",
    "import seaborn as sns\n",
    "from sklearn.metrics import mean_squared_error\n",
    "%matplotlib inline"
   ]
  },
  {
   "cell_type": "code",
   "execution_count": 2,
   "id": "ecdaab30",
   "metadata": {
    "scrolled": true
   },
   "outputs": [
    {
     "data": {
      "text/html": [
       "<div>\n",
       "<style scoped>\n",
       "    .dataframe tbody tr th:only-of-type {\n",
       "        vertical-align: middle;\n",
       "    }\n",
       "\n",
       "    .dataframe tbody tr th {\n",
       "        vertical-align: top;\n",
       "    }\n",
       "\n",
       "    .dataframe thead th {\n",
       "        text-align: right;\n",
       "    }\n",
       "</style>\n",
       "<table border=\"1\" class=\"dataframe\">\n",
       "  <thead>\n",
       "    <tr style=\"text-align: right;\">\n",
       "      <th></th>\n",
       "      <th>Unnamed: 0</th>\n",
       "      <th>label</th>\n",
       "      <th>text</th>\n",
       "      <th>label_num</th>\n",
       "    </tr>\n",
       "  </thead>\n",
       "  <tbody>\n",
       "    <tr>\n",
       "      <th>0</th>\n",
       "      <td>605</td>\n",
       "      <td>ham</td>\n",
       "      <td>Subject: enron methanol ; meter # : 988291\\r\\n...</td>\n",
       "      <td>0</td>\n",
       "    </tr>\n",
       "    <tr>\n",
       "      <th>1</th>\n",
       "      <td>2349</td>\n",
       "      <td>ham</td>\n",
       "      <td>Subject: hpl nom for january 9 , 2001\\r\\n( see...</td>\n",
       "      <td>0</td>\n",
       "    </tr>\n",
       "    <tr>\n",
       "      <th>2</th>\n",
       "      <td>3624</td>\n",
       "      <td>ham</td>\n",
       "      <td>Subject: neon retreat\\r\\nho ho ho , we ' re ar...</td>\n",
       "      <td>0</td>\n",
       "    </tr>\n",
       "    <tr>\n",
       "      <th>3</th>\n",
       "      <td>4685</td>\n",
       "      <td>spam</td>\n",
       "      <td>Subject: photoshop , windows , office . cheap ...</td>\n",
       "      <td>1</td>\n",
       "    </tr>\n",
       "    <tr>\n",
       "      <th>4</th>\n",
       "      <td>2030</td>\n",
       "      <td>ham</td>\n",
       "      <td>Subject: re : indian springs\\r\\nthis deal is t...</td>\n",
       "      <td>0</td>\n",
       "    </tr>\n",
       "    <tr>\n",
       "      <th>...</th>\n",
       "      <td>...</td>\n",
       "      <td>...</td>\n",
       "      <td>...</td>\n",
       "      <td>...</td>\n",
       "    </tr>\n",
       "    <tr>\n",
       "      <th>5166</th>\n",
       "      <td>1518</td>\n",
       "      <td>ham</td>\n",
       "      <td>Subject: put the 10 on the ft\\r\\nthe transport...</td>\n",
       "      <td>0</td>\n",
       "    </tr>\n",
       "    <tr>\n",
       "      <th>5167</th>\n",
       "      <td>404</td>\n",
       "      <td>ham</td>\n",
       "      <td>Subject: 3 / 4 / 2000 and following noms\\r\\nhp...</td>\n",
       "      <td>0</td>\n",
       "    </tr>\n",
       "    <tr>\n",
       "      <th>5168</th>\n",
       "      <td>2933</td>\n",
       "      <td>ham</td>\n",
       "      <td>Subject: calpine daily gas nomination\\r\\n&gt;\\r\\n...</td>\n",
       "      <td>0</td>\n",
       "    </tr>\n",
       "    <tr>\n",
       "      <th>5169</th>\n",
       "      <td>1409</td>\n",
       "      <td>ham</td>\n",
       "      <td>Subject: industrial worksheets for august 2000...</td>\n",
       "      <td>0</td>\n",
       "    </tr>\n",
       "    <tr>\n",
       "      <th>5170</th>\n",
       "      <td>4807</td>\n",
       "      <td>spam</td>\n",
       "      <td>Subject: important online banking alert\\r\\ndea...</td>\n",
       "      <td>1</td>\n",
       "    </tr>\n",
       "  </tbody>\n",
       "</table>\n",
       "<p>5171 rows × 4 columns</p>\n",
       "</div>"
      ],
      "text/plain": [
       "      Unnamed: 0 label                                               text  \\\n",
       "0            605   ham  Subject: enron methanol ; meter # : 988291\\r\\n...   \n",
       "1           2349   ham  Subject: hpl nom for january 9 , 2001\\r\\n( see...   \n",
       "2           3624   ham  Subject: neon retreat\\r\\nho ho ho , we ' re ar...   \n",
       "3           4685  spam  Subject: photoshop , windows , office . cheap ...   \n",
       "4           2030   ham  Subject: re : indian springs\\r\\nthis deal is t...   \n",
       "...          ...   ...                                                ...   \n",
       "5166        1518   ham  Subject: put the 10 on the ft\\r\\nthe transport...   \n",
       "5167         404   ham  Subject: 3 / 4 / 2000 and following noms\\r\\nhp...   \n",
       "5168        2933   ham  Subject: calpine daily gas nomination\\r\\n>\\r\\n...   \n",
       "5169        1409   ham  Subject: industrial worksheets for august 2000...   \n",
       "5170        4807  spam  Subject: important online banking alert\\r\\ndea...   \n",
       "\n",
       "      label_num  \n",
       "0             0  \n",
       "1             0  \n",
       "2             0  \n",
       "3             1  \n",
       "4             0  \n",
       "...         ...  \n",
       "5166          0  \n",
       "5167          0  \n",
       "5168          0  \n",
       "5169          0  \n",
       "5170          1  \n",
       "\n",
       "[5171 rows x 4 columns]"
      ]
     },
     "execution_count": 2,
     "metadata": {},
     "output_type": "execute_result"
    }
   ],
   "source": [
    "# TODO: Load the dataset\n",
    "dataset = pd.read_csv('Dataset\\\\spam_ham_dataset.csv')\n",
    "dataset"
   ]
  },
  {
   "cell_type": "code",
   "execution_count": 3,
   "id": "d0b1d636",
   "metadata": {},
   "outputs": [],
   "source": [
    "df = dataset.copy()\n",
    "# Preprocessing\n",
    "df['text'] = df['text'].str.lower()  # Convert to lowercase\n",
    "df['text'] = df['text'].str.replace('[^\\w\\s]', '', regex=True)  # Remove punctuation marks"
   ]
  },
  {
   "cell_type": "code",
   "execution_count": 4,
   "id": "22974f88",
   "metadata": {},
   "outputs": [],
   "source": [
    "# Tokenization and removing stopwords\n",
    "from sklearn.feature_extraction.text import CountVectorizer\n",
    "from sklearn.feature_extraction.text import ENGLISH_STOP_WORDS\n",
    "\n",
    "# Preprocess the x data using CountVectorizer and deleting stop words\n",
    "stopwords = set(ENGLISH_STOP_WORDS)\n",
    "vectorizer = CountVectorizer(stop_words=stopwords)\n",
    "X = vectorizer.fit_transform(df['text'])"
   ]
  },
  {
   "cell_type": "markdown",
   "id": "0f4e2850",
   "metadata": {},
   "source": [
    "\n",
    "## Step 2: Feature Extraction\n",
    "\n",
    "Now, we'll convert the text data into numerical features using techniques like TF-IDF.\n"
   ]
  },
  {
   "cell_type": "code",
   "execution_count": 5,
   "id": "4de216ec",
   "metadata": {},
   "outputs": [],
   "source": [
    "# TODO: Implement feature extraction\n",
    "from sklearn.feature_extraction.text import TfidfTransformer\n",
    "\n",
    "# Convert text (X) to numerical features using TF-IDF\n",
    "TF_IDF = TfidfTransformer()\n",
    "X = TF_IDF.fit_transform(X)\n",
    "\n",
    "y = df['label']"
   ]
  },
  {
   "cell_type": "code",
   "execution_count": 6,
   "id": "b58a5238",
   "metadata": {},
   "outputs": [],
   "source": [
    "from sklearn.model_selection import train_test_split\n",
    "# split X and y to x_train, x_test, y_train, y_test\n",
    "x_train, x_test, y_train, y_test = train_test_split(X, y, test_size=0.2, random_state=20)"
   ]
  },
  {
   "cell_type": "markdown",
   "id": "5ae3ebfb",
   "metadata": {},
   "source": [
    "\n",
    "## Step 3: Model Training\n",
    "\n",
    "Next, implement and train the Naive Bayes classifier using the features extracted in the previous step.\n"
   ]
  },
  {
   "cell_type": "code",
   "execution_count": 7,
   "id": "eddfae7f",
   "metadata": {},
   "outputs": [],
   "source": [
    "# TODO: Implement and train the Naive Bayes classifier\n",
    "from sklearn.naive_bayes import MultinomialNB\n",
    "\n",
    "# Train the Naive Bayes classifier\n",
    "classifier = MultinomialNB()\n",
    "classifier.fit(x_train, y_train)\n",
    "\n",
    "# prediction on x_test\n",
    "y_pred = classifier.predict(x_test)"
   ]
  },
  {
   "cell_type": "markdown",
   "id": "6855e18e",
   "metadata": {},
   "source": [
    "\n",
    "## Step 4: Model Evaluation\n",
    "\n",
    "Evaluate the performance of your model. Calculate metrics like accuracy, precision, and recall.\n"
   ]
  },
  {
   "cell_type": "code",
   "execution_count": 8,
   "id": "b28f4568",
   "metadata": {
    "scrolled": true
   },
   "outputs": [
    {
     "name": "stdout",
     "output_type": "stream",
     "text": [
      "accuracy score for x test prediction:  0.9207729468599034\n",
      "f1 score for x test prediction:  0.9163453152404689\n",
      "recall score for x test prediction:  0.9207729468599034\n",
      "precision score for x test prediction:  0.9286381022563778\n"
     ]
    }
   ],
   "source": [
    "# TODO: Evaluate the model (calculate accuracy, precision, recall)\n",
    "from sklearn.metrics import f1_score, recall_score, precision_score, accuracy_score, confusion_matrix\n",
    "print(\"accuracy score for x test prediction: \", accuracy_score(y_test, y_pred))\n",
    "print(\"f1 score for x test prediction: \", f1_score(y_test, y_pred, average='weighted'))\n",
    "print(\"recall score for x test prediction: \", recall_score(y_test, y_pred, average='weighted'))\n",
    "print(\"precision score for x test prediction: \", precision_score(y_test, y_pred, average='weighted'))"
   ]
  },
  {
   "cell_type": "markdown",
   "id": "752aa580",
   "metadata": {},
   "source": [
    "### confusion_matrix with y_test and y_pred"
   ]
  },
  {
   "cell_type": "code",
   "execution_count": 9,
   "id": "2a56a1c6",
   "metadata": {},
   "outputs": [
    {
     "data": {
      "text/plain": [
       "<AxesSubplot:>"
      ]
     },
     "execution_count": 9,
     "metadata": {},
     "output_type": "execute_result"
    },
    {
     "data": {
      "image/png": "[encoded data removed]",
      "text/plain": [
       "<Figure size 432x288 with 2 Axes>"
      ]
     },
     "metadata": {
      "needs_background": "light"
     },
     "output_type": "display_data"
    }
   ],
   "source": [
    "con_matrix=confusion_matrix(y_test, y_pred)\n",
    "sns.heatmap(con_matrix,annot=True, cmap=\"Greens\")"
   ]
  },
  {
   "cell_type": "markdown",
   "id": "5e2606ee",
   "metadata": {},
   "source": [
    "### save to csv"
   ]
  },
  {
   "cell_type": "code",
   "execution_count": 10,
   "id": "12774300",
   "metadata": {},
   "outputs": [],
   "source": [
    "y_pred_df = pd.DataFrame(y_pred,columns=['Spam'])\n",
    "y_pred_df.to_csv(\"Q3.csv\",index=False)"
   ]
  }
 ],
 "metadata": {
  "kernelspec": {
   "display_name": "Python 3 (ipykernel)",
   "language": "python",
   "name": "python3"
  },
  "language_info": {
   "codemirror_mode": {
    "name": "ipython",
    "version": 3
   },
   "file_extension": ".py",
   "mimetype": "text/x-python",
   "name": "python",
   "nbconvert_exporter": "python",
   "pygments_lexer": "ipython3",
   "version": "3.9.12"
  }
 },
 "nbformat": 4,
 "nbformat_minor": 5
}
