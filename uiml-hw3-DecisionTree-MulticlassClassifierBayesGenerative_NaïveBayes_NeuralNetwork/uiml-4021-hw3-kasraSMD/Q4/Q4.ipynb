{
 "cells": [
  {
   "cell_type": "markdown",
   "id": "4a42083b",
   "metadata": {},
   "source": [
    "# Kasra Samadi 993623030"
   ]
  },
  {
   "cell_type": "markdown",
   "id": "7fd43e1e",
   "metadata": {},
   "source": [
    "### Import Libraries"
   ]
  },
  {
   "cell_type": "code",
   "execution_count": 1,
   "id": "51f68e2d",
   "metadata": {},
   "outputs": [],
   "source": [
    "#!pip3 install torch"
   ]
  },
  {
   "cell_type": "code",
   "execution_count": 2,
   "id": "7f0d899a",
   "metadata": {},
   "outputs": [],
   "source": [
    "import numpy as np\n",
    "import pandas as pd\n",
    "import torch\n",
    "import torch.nn as nn\n",
    "import torch.optim as optim\n",
    "from torch.utils.data import DataLoader, TensorDataset\n",
    "import struct"
   ]
  },
  {
   "cell_type": "markdown",
   "id": "194a3fea",
   "metadata": {},
   "source": [
    "### Hyperparameters"
   ]
  },
  {
   "cell_type": "code",
   "execution_count": 3,
   "id": "1fcdd51f",
   "metadata": {},
   "outputs": [],
   "source": [
    "num_epochs = 10\n",
    "batch_size = 64\n",
    "learning_rate = 0.001"
   ]
  },
  {
   "cell_type": "markdown",
   "id": "2e047cc6",
   "metadata": {},
   "source": [
    "### Function to read IDX file format"
   ]
  },
  {
   "cell_type": "code",
   "execution_count": 4,
   "id": "4c5b728b",
   "metadata": {},
   "outputs": [],
   "source": [
    "def read_idx(file_path):\n",
    "    with open(file_path, 'rb') as f:\n",
    "        zero, data_type, dims = struct.unpack('>HBB', f.read(4))\n",
    "        shape = tuple(struct.unpack('>I', f.read(4))[0] for d in range(dims))\n",
    "        return np.frombuffer(f.read(), dtype=np.uint8).reshape(shape)"
   ]
  },
  {
   "cell_type": "markdown",
   "id": "2f6881b6",
   "metadata": {},
   "source": [
    "### Load MNIST dataset from IDX files"
   ]
  },
  {
   "cell_type": "code",
   "execution_count": 5,
   "id": "dab4ecfd",
   "metadata": {},
   "outputs": [],
   "source": [
    "train_images = read_idx('train-images.idx3-ubyte').copy()\n",
    "train_labels = read_idx('train-labels.idx1-ubyte').copy()\n",
    "test_images = read_idx('t10k-images.idx3-ubyte').copy()\n",
    "test_labels = read_idx('t10k-labels.idx1-ubyte').copy()"
   ]
  },
  {
   "cell_type": "markdown",
   "id": "0f471673",
   "metadata": {},
   "source": [
    "### Convert data to tensors and normalize"
   ]
  },
  {
   "cell_type": "code",
   "execution_count": 6,
   "id": "1c253d38",
   "metadata": {},
   "outputs": [],
   "source": [
    "train_images_tensor = torch.from_numpy(train_images).float() / 255.0\n",
    "train_labels_tensor = torch.from_numpy(train_labels).long()\n",
    "test_images_tensor = torch.from_numpy(test_images).float() / 255.0\n",
    "test_labels_tensor = torch.from_numpy(test_labels).long()"
   ]
  },
  {
   "cell_type": "markdown",
   "id": "ba37ae2b",
   "metadata": {},
   "source": [
    "### Create TensorDatasets"
   ]
  },
  {
   "cell_type": "code",
   "execution_count": 7,
   "id": "7a7d1f2c",
   "metadata": {},
   "outputs": [],
   "source": [
    "train_dataset = TensorDataset(train_images_tensor, train_labels_tensor)\n",
    "test_dataset = TensorDataset(test_images_tensor, test_labels_tensor)"
   ]
  },
  {
   "cell_type": "markdown",
   "id": "6df865de",
   "metadata": {},
   "source": [
    "### Data loaders"
   ]
  },
  {
   "cell_type": "code",
   "execution_count": 8,
   "id": "f0d52de0",
   "metadata": {},
   "outputs": [],
   "source": [
    "train_loader = DataLoader(dataset=train_dataset, batch_size=batch_size, shuffle=True)\n",
    "test_loader = DataLoader(dataset=test_dataset, batch_size=batch_size, shuffle=False)"
   ]
  },
  {
   "cell_type": "markdown",
   "id": "b6501fba",
   "metadata": {},
   "source": [
    "### Neural network model"
   ]
  },
  {
   "cell_type": "code",
   "execution_count": 9,
   "id": "dbe7942f",
   "metadata": {},
   "outputs": [],
   "source": [
    "class Net(nn.Module):\n",
    "    def __init__(self):\n",
    "        super(Net, self).__init__()\n",
    "        self.flatten = nn.Flatten()\n",
    "        self.fc1 = nn.Linear(784, 256)\n",
    "        self.relu = nn.ReLU()\n",
    "        self.fc2 = nn.Linear(256, 10)\n",
    "\n",
    "    def forward(self, x):\n",
    "        x = self.flatten(x)\n",
    "        x = self.fc1(x)\n",
    "        x = self.relu(x)\n",
    "        x = self.fc2(x)\n",
    "        return x"
   ]
  },
  {
   "cell_type": "markdown",
   "id": "2643ba82",
   "metadata": {},
   "source": [
    "### Set device and create model"
   ]
  },
  {
   "cell_type": "code",
   "execution_count": 10,
   "id": "92e45834",
   "metadata": {},
   "outputs": [],
   "source": [
    "device = torch.device(\"cuda\" if torch.cuda.is_available() else \"cpu\")\n",
    "model = Net().to(device)"
   ]
  },
  {
   "cell_type": "markdown",
   "id": "57af05e1",
   "metadata": {},
   "source": [
    "### Loss function and optimizer"
   ]
  },
  {
   "cell_type": "code",
   "execution_count": 11,
   "id": "f1b2f3f8",
   "metadata": {},
   "outputs": [],
   "source": [
    "criterion = nn.CrossEntropyLoss()\n",
    "optimizer = optim.Adam(model.parameters(), lr=learning_rate)"
   ]
  },
  {
   "cell_type": "markdown",
   "id": "7c389e51",
   "metadata": {},
   "source": [
    "### Train the model"
   ]
  },
  {
   "cell_type": "code",
   "execution_count": 12,
   "id": "63421383",
   "metadata": {},
   "outputs": [
    {
     "name": "stdout",
     "output_type": "stream",
     "text": [
      "Epoch [1/10], Step [100/938], Loss: 0.428581\n",
      "Epoch [1/10], Step [200/938], Loss: 0.296483\n",
      "Epoch [1/10], Step [300/938], Loss: 0.223102\n",
      "Epoch [1/10], Step [400/938], Loss: 0.448439\n",
      "Epoch [1/10], Step [500/938], Loss: 0.114073\n",
      "Epoch [1/10], Step [600/938], Loss: 0.188511\n",
      "Epoch [1/10], Step [700/938], Loss: 0.104128\n",
      "Epoch [1/10], Step [800/938], Loss: 0.102333\n",
      "Epoch [1/10], Step [900/938], Loss: 0.289269\n",
      "Epoch [2/10], Step [100/938], Loss: 0.190454\n",
      "Epoch [2/10], Step [200/938], Loss: 0.061856\n",
      "Epoch [2/10], Step [300/938], Loss: 0.097737\n",
      "Epoch [2/10], Step [400/938], Loss: 0.138280\n",
      "Epoch [2/10], Step [500/938], Loss: 0.151021\n",
      "Epoch [2/10], Step [600/938], Loss: 0.227541\n",
      "Epoch [2/10], Step [700/938], Loss: 0.203237\n",
      "Epoch [2/10], Step [800/938], Loss: 0.125374\n",
      "Epoch [2/10], Step [900/938], Loss: 0.082955\n",
      "Epoch [3/10], Step [100/938], Loss: 0.089556\n",
      "Epoch [3/10], Step [200/938], Loss: 0.043912\n",
      "Epoch [3/10], Step [300/938], Loss: 0.087853\n",
      "Epoch [3/10], Step [400/938], Loss: 0.141124\n",
      "Epoch [3/10], Step [500/938], Loss: 0.038485\n",
      "Epoch [3/10], Step [600/938], Loss: 0.032721\n",
      "Epoch [3/10], Step [700/938], Loss: 0.010488\n",
      "Epoch [3/10], Step [800/938], Loss: 0.207696\n",
      "Epoch [3/10], Step [900/938], Loss: 0.050998\n",
      "Epoch [4/10], Step [100/938], Loss: 0.102873\n",
      "Epoch [4/10], Step [200/938], Loss: 0.021063\n",
      "Epoch [4/10], Step [300/938], Loss: 0.061076\n",
      "Epoch [4/10], Step [400/938], Loss: 0.054438\n",
      "Epoch [4/10], Step [500/938], Loss: 0.029502\n",
      "Epoch [4/10], Step [600/938], Loss: 0.018144\n",
      "Epoch [4/10], Step [700/938], Loss: 0.111092\n",
      "Epoch [4/10], Step [800/938], Loss: 0.100903\n",
      "Epoch [4/10], Step [900/938], Loss: 0.029047\n",
      "Epoch [5/10], Step [100/938], Loss: 0.025738\n",
      "Epoch [5/10], Step [200/938], Loss: 0.018181\n",
      "Epoch [5/10], Step [300/938], Loss: 0.077513\n",
      "Epoch [5/10], Step [400/938], Loss: 0.051218\n",
      "Epoch [5/10], Step [500/938], Loss: 0.018505\n",
      "Epoch [5/10], Step [600/938], Loss: 0.016581\n",
      "Epoch [5/10], Step [700/938], Loss: 0.046442\n",
      "Epoch [5/10], Step [800/938], Loss: 0.038327\n",
      "Epoch [5/10], Step [900/938], Loss: 0.077082\n",
      "Epoch [6/10], Step [100/938], Loss: 0.017158\n",
      "Epoch [6/10], Step [200/938], Loss: 0.019203\n",
      "Epoch [6/10], Step [300/938], Loss: 0.011530\n",
      "Epoch [6/10], Step [400/938], Loss: 0.042794\n",
      "Epoch [6/10], Step [500/938], Loss: 0.027818\n",
      "Epoch [6/10], Step [600/938], Loss: 0.026718\n",
      "Epoch [6/10], Step [700/938], Loss: 0.035543\n",
      "Epoch [6/10], Step [800/938], Loss: 0.013513\n",
      "Epoch [6/10], Step [900/938], Loss: 0.019101\n",
      "Epoch [7/10], Step [100/938], Loss: 0.008396\n",
      "Epoch [7/10], Step [200/938], Loss: 0.003366\n",
      "Epoch [7/10], Step [300/938], Loss: 0.030844\n",
      "Epoch [7/10], Step [400/938], Loss: 0.021076\n",
      "Epoch [7/10], Step [500/938], Loss: 0.002750\n",
      "Epoch [7/10], Step [600/938], Loss: 0.003812\n",
      "Epoch [7/10], Step [700/938], Loss: 0.042732\n",
      "Epoch [7/10], Step [800/938], Loss: 0.013425\n",
      "Epoch [7/10], Step [900/938], Loss: 0.111518\n",
      "Epoch [8/10], Step [100/938], Loss: 0.012423\n",
      "Epoch [8/10], Step [200/938], Loss: 0.010417\n",
      "Epoch [8/10], Step [300/938], Loss: 0.015691\n",
      "Epoch [8/10], Step [400/938], Loss: 0.010056\n",
      "Epoch [8/10], Step [500/938], Loss: 0.010273\n",
      "Epoch [8/10], Step [600/938], Loss: 0.007299\n",
      "Epoch [8/10], Step [700/938], Loss: 0.013170\n",
      "Epoch [8/10], Step [800/938], Loss: 0.011965\n",
      "Epoch [8/10], Step [900/938], Loss: 0.018437\n",
      "Epoch [9/10], Step [100/938], Loss: 0.004682\n",
      "Epoch [9/10], Step [200/938], Loss: 0.010342\n",
      "Epoch [9/10], Step [300/938], Loss: 0.008680\n",
      "Epoch [9/10], Step [400/938], Loss: 0.016675\n",
      "Epoch [9/10], Step [500/938], Loss: 0.019168\n",
      "Epoch [9/10], Step [600/938], Loss: 0.031722\n",
      "Epoch [9/10], Step [700/938], Loss: 0.025825\n",
      "Epoch [9/10], Step [800/938], Loss: 0.044816\n",
      "Epoch [9/10], Step [900/938], Loss: 0.002490\n",
      "Epoch [10/10], Step [100/938], Loss: 0.005495\n",
      "Epoch [10/10], Step [200/938], Loss: 0.018537\n",
      "Epoch [10/10], Step [300/938], Loss: 0.003443\n",
      "Epoch [10/10], Step [400/938], Loss: 0.007742\n",
      "Epoch [10/10], Step [500/938], Loss: 0.004906\n",
      "Epoch [10/10], Step [600/938], Loss: 0.012266\n",
      "Epoch [10/10], Step [700/938], Loss: 0.010848\n",
      "Epoch [10/10], Step [800/938], Loss: 0.019549\n",
      "Epoch [10/10], Step [900/938], Loss: 0.008077\n"
     ]
    }
   ],
   "source": [
    "total_steps = len(train_loader)\n",
    "for epoch in range(num_epochs):\n",
    "    for i, (images, labels) in enumerate(train_loader):\n",
    "        images = images.to(device)\n",
    "        labels = labels.to(device)\n",
    "\n",
    "        # Forward pass\n",
    "        outputs = model(images)\n",
    "        loss = criterion(outputs, labels)\n",
    "\n",
    "        # Backward and optimize\n",
    "        optimizer.zero_grad()\n",
    "        loss.backward()\n",
    "        optimizer.step()\n",
    "\n",
    "        if (i + 1) % 100 == 0:\n",
    "            print(f\"Epoch [{epoch + 1}/{num_epochs}], Step [{i + 1}/{total_steps}], Loss: {loss.item():.6f}\")\n"
   ]
  },
  {
   "cell_type": "markdown",
   "id": "769177aa",
   "metadata": {},
   "source": [
    "### Test the model"
   ]
  },
  {
   "cell_type": "code",
   "execution_count": 13,
   "id": "193fd476",
   "metadata": {},
   "outputs": [
    {
     "name": "stdout",
     "output_type": "stream",
     "text": [
      "Test Accuracy: 97.78000 %\n"
     ]
    }
   ],
   "source": [
    "model.eval()\n",
    "with torch.no_grad():\n",
    "    correct = 0\n",
    "    total = 0\n",
    "    predictions = []\n",
    "\n",
    "    for images, labels in test_loader:\n",
    "        images = images.to(device)\n",
    "        labels = labels.to(device)\n",
    "        outputs = model(images)\n",
    "        _, predicted = torch.max(outputs.data, 1)\n",
    "        total += labels.size(0)\n",
    "        correct += (predicted == labels).sum().item()\n",
    "        predictions.extend(predicted.cpu().numpy())\n",
    "\n",
    "    accuracy = 100 * correct / total\n",
    "    print(f\"Test Accuracy: {accuracy:.5f} %\")"
   ]
  },
  {
   "cell_type": "markdown",
   "id": "b90a7cb8",
   "metadata": {},
   "source": [
    "### Convert predictions to a DataFram"
   ]
  },
  {
   "cell_type": "code",
   "execution_count": 14,
   "id": "9bef1693",
   "metadata": {},
   "outputs": [],
   "source": [
    "df = pd.DataFrame({'Class': predictions})"
   ]
  },
  {
   "cell_type": "markdown",
   "id": "a627d9a2",
   "metadata": {},
   "source": [
    "### Save DataFrame to CSV file"
   ]
  },
  {
   "cell_type": "code",
   "execution_count": 15,
   "id": "d936a074",
   "metadata": {},
   "outputs": [],
   "source": [
    "df.to_csv('Q4.csv', index=False)"
   ]
  }
 ],
 "metadata": {
  "kernelspec": {
   "display_name": "Python 3 (ipykernel)",
   "language": "python",
   "name": "python3"
  },
  "language_info": {
   "codemirror_mode": {
    "name": "ipython",
    "version": 3
   },
   "file_extension": ".py",
   "mimetype": "text/x-python",
   "name": "python",
   "nbconvert_exporter": "python",
   "pygments_lexer": "ipython3",
   "version": "3.9.12"
  }
 },
 "nbformat": 4,
 "nbformat_minor": 5
}
