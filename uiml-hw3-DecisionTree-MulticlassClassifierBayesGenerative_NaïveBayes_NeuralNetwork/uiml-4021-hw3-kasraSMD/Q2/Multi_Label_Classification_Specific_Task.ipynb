{
 "cells": [
  {
   "cell_type": "markdown",
   "id": "e3ca406b",
   "metadata": {},
   "source": [
    "# Kasra Samadi 993623030"
   ]
  },
  {
   "cell_type": "markdown",
   "id": "26d0c1ab",
   "metadata": {},
   "source": [
    "\n",
    "# Multi-label Classification with the PriceRunner Dataset\n",
    "\n",
    "## Task Overview\n",
    "In this exercise, you will develop a multi-label classification model to classify products into multiple categories based on their 'Product Title' and 'Cluster Label'. The target variable for classification will be 'Category Label'.\n",
    "\n",
    "Your task includes selecting the right features, preprocessing the data, implementing a multi-label classification model, and evaluating its performance.\n",
    "\n",
    "Complete the sections marked `# TODO` and run each cell to see the output of your code.\n"
   ]
  },
  {
   "cell_type": "markdown",
   "id": "52123d7b",
   "metadata": {},
   "source": [
    "\n",
    "## Step 1: Data Loading\n",
    "Load the dataset into a Pandas DataFrame.\n"
   ]
  },
  {
   "cell_type": "code",
   "execution_count": 1,
   "id": "1dddb351",
   "metadata": {},
   "outputs": [],
   "source": [
    "import numpy as np\n",
    "import pandas as pd\n",
    "import matplotlib.pyplot as plt\n",
    "import seaborn as sns\n",
    "from sklearn.metrics import mean_squared_error\n",
    "%matplotlib inline"
   ]
  },
  {
   "cell_type": "code",
   "execution_count": 2,
   "id": "56786b40",
   "metadata": {},
   "outputs": [
    {
     "data": {
      "text/html": [
       "<div>\n",
       "<style scoped>\n",
       "    .dataframe tbody tr th:only-of-type {\n",
       "        vertical-align: middle;\n",
       "    }\n",
       "\n",
       "    .dataframe tbody tr th {\n",
       "        vertical-align: top;\n",
       "    }\n",
       "\n",
       "    .dataframe thead th {\n",
       "        text-align: right;\n",
       "    }\n",
       "</style>\n",
       "<table border=\"1\" class=\"dataframe\">\n",
       "  <thead>\n",
       "    <tr style=\"text-align: right;\">\n",
       "      <th></th>\n",
       "      <th>Product ID</th>\n",
       "      <th>Product Title</th>\n",
       "      <th>Merchant ID</th>\n",
       "      <th>Cluster ID</th>\n",
       "      <th>Cluster Label</th>\n",
       "      <th>Category ID</th>\n",
       "      <th>Category Label</th>\n",
       "    </tr>\n",
       "  </thead>\n",
       "  <tbody>\n",
       "    <tr>\n",
       "      <th>0</th>\n",
       "      <td>1</td>\n",
       "      <td>apple iphone 8 plus 64gb silver</td>\n",
       "      <td>1</td>\n",
       "      <td>1</td>\n",
       "      <td>Apple iPhone 8 Plus 64GB</td>\n",
       "      <td>2612</td>\n",
       "      <td>Mobile Phones</td>\n",
       "    </tr>\n",
       "    <tr>\n",
       "      <th>1</th>\n",
       "      <td>2</td>\n",
       "      <td>apple iphone 8 plus 64 gb spacegrau</td>\n",
       "      <td>2</td>\n",
       "      <td>1</td>\n",
       "      <td>Apple iPhone 8 Plus 64GB</td>\n",
       "      <td>2612</td>\n",
       "      <td>Mobile Phones</td>\n",
       "    </tr>\n",
       "    <tr>\n",
       "      <th>2</th>\n",
       "      <td>3</td>\n",
       "      <td>apple mq8n2b/a iphone 8 plus 64gb 5.5 12mp sim...</td>\n",
       "      <td>3</td>\n",
       "      <td>1</td>\n",
       "      <td>Apple iPhone 8 Plus 64GB</td>\n",
       "      <td>2612</td>\n",
       "      <td>Mobile Phones</td>\n",
       "    </tr>\n",
       "    <tr>\n",
       "      <th>3</th>\n",
       "      <td>4</td>\n",
       "      <td>apple iphone 8 plus 64gb space grey</td>\n",
       "      <td>4</td>\n",
       "      <td>1</td>\n",
       "      <td>Apple iPhone 8 Plus 64GB</td>\n",
       "      <td>2612</td>\n",
       "      <td>Mobile Phones</td>\n",
       "    </tr>\n",
       "    <tr>\n",
       "      <th>4</th>\n",
       "      <td>5</td>\n",
       "      <td>apple iphone 8 plus gold 5.5 64gb 4g unlocked ...</td>\n",
       "      <td>5</td>\n",
       "      <td>1</td>\n",
       "      <td>Apple iPhone 8 Plus 64GB</td>\n",
       "      <td>2612</td>\n",
       "      <td>Mobile Phones</td>\n",
       "    </tr>\n",
       "    <tr>\n",
       "      <th>...</th>\n",
       "      <td>...</td>\n",
       "      <td>...</td>\n",
       "      <td>...</td>\n",
       "      <td>...</td>\n",
       "      <td>...</td>\n",
       "      <td>...</td>\n",
       "      <td>...</td>\n",
       "    </tr>\n",
       "    <tr>\n",
       "      <th>35306</th>\n",
       "      <td>47350</td>\n",
       "      <td>smeg fab28 60cm retro style right hand hinge f...</td>\n",
       "      <td>59</td>\n",
       "      <td>47517</td>\n",
       "      <td>Smeg FAB28 Cream</td>\n",
       "      <td>2623</td>\n",
       "      <td>Fridges</td>\n",
       "    </tr>\n",
       "    <tr>\n",
       "      <th>35307</th>\n",
       "      <td>47351</td>\n",
       "      <td>smeg fab28 60cm retro style left hand hinge fr...</td>\n",
       "      <td>59</td>\n",
       "      <td>47518</td>\n",
       "      <td>Smeg FAB28 Red</td>\n",
       "      <td>2623</td>\n",
       "      <td>Fridges</td>\n",
       "    </tr>\n",
       "    <tr>\n",
       "      <th>35308</th>\n",
       "      <td>47352</td>\n",
       "      <td>smeg fab28 60cm retro style left hand hinge fr...</td>\n",
       "      <td>59</td>\n",
       "      <td>47519</td>\n",
       "      <td>Smeg FAB28 Pink</td>\n",
       "      <td>2623</td>\n",
       "      <td>Fridges</td>\n",
       "    </tr>\n",
       "    <tr>\n",
       "      <th>35309</th>\n",
       "      <td>47355</td>\n",
       "      <td>candy 60cm built under larder fridge cru160nek</td>\n",
       "      <td>125</td>\n",
       "      <td>47524</td>\n",
       "      <td>Candy CRU16.0</td>\n",
       "      <td>2623</td>\n",
       "      <td>Fridges</td>\n",
       "    </tr>\n",
       "    <tr>\n",
       "      <th>35310</th>\n",
       "      <td>47358</td>\n",
       "      <td>neff k4316x7gb built under larder fridge</td>\n",
       "      <td>179</td>\n",
       "      <td>47525</td>\n",
       "      <td>Neff K4316</td>\n",
       "      <td>2623</td>\n",
       "      <td>Fridges</td>\n",
       "    </tr>\n",
       "  </tbody>\n",
       "</table>\n",
       "<p>35311 rows × 7 columns</p>\n",
       "</div>"
      ],
      "text/plain": [
       "       Product ID                                      Product Title  \\\n",
       "0               1                    apple iphone 8 plus 64gb silver   \n",
       "1               2                apple iphone 8 plus 64 gb spacegrau   \n",
       "2               3  apple mq8n2b/a iphone 8 plus 64gb 5.5 12mp sim...   \n",
       "3               4                apple iphone 8 plus 64gb space grey   \n",
       "4               5  apple iphone 8 plus gold 5.5 64gb 4g unlocked ...   \n",
       "...           ...                                                ...   \n",
       "35306       47350  smeg fab28 60cm retro style right hand hinge f...   \n",
       "35307       47351  smeg fab28 60cm retro style left hand hinge fr...   \n",
       "35308       47352  smeg fab28 60cm retro style left hand hinge fr...   \n",
       "35309       47355     candy 60cm built under larder fridge cru160nek   \n",
       "35310       47358           neff k4316x7gb built under larder fridge   \n",
       "\n",
       "        Merchant ID   Cluster ID             Cluster Label   Category ID  \\\n",
       "0                 1            1  Apple iPhone 8 Plus 64GB          2612   \n",
       "1                 2            1  Apple iPhone 8 Plus 64GB          2612   \n",
       "2                 3            1  Apple iPhone 8 Plus 64GB          2612   \n",
       "3                 4            1  Apple iPhone 8 Plus 64GB          2612   \n",
       "4                 5            1  Apple iPhone 8 Plus 64GB          2612   \n",
       "...             ...          ...                       ...           ...   \n",
       "35306            59        47517          Smeg FAB28 Cream          2623   \n",
       "35307            59        47518            Smeg FAB28 Red          2623   \n",
       "35308            59        47519           Smeg FAB28 Pink          2623   \n",
       "35309           125        47524             Candy CRU16.0          2623   \n",
       "35310           179        47525                Neff K4316          2623   \n",
       "\n",
       "       Category Label  \n",
       "0       Mobile Phones  \n",
       "1       Mobile Phones  \n",
       "2       Mobile Phones  \n",
       "3       Mobile Phones  \n",
       "4       Mobile Phones  \n",
       "...               ...  \n",
       "35306         Fridges  \n",
       "35307         Fridges  \n",
       "35308         Fridges  \n",
       "35309         Fridges  \n",
       "35310         Fridges  \n",
       "\n",
       "[35311 rows x 7 columns]"
      ]
     },
     "execution_count": 2,
     "metadata": {},
     "output_type": "execute_result"
    }
   ],
   "source": [
    "dataset = pd.read_csv('Dataset\\\\pricerunner_aggregate.csv')\n",
    "dataset"
   ]
  },
  {
   "cell_type": "code",
   "execution_count": 3,
   "id": "e83bd28d",
   "metadata": {
    "scrolled": true
   },
   "outputs": [
    {
     "name": "stdout",
     "output_type": "stream",
     "text": [
      "Product ID         0\n",
      "Product Title      0\n",
      " Merchant ID       0\n",
      " Cluster ID        0\n",
      " Cluster Label     0\n",
      " Category ID       0\n",
      " Category Label    0\n",
      "dtype: int64\n"
     ]
    }
   ],
   "source": [
    "print(dataset.isna().sum())"
   ]
  },
  {
   "cell_type": "code",
   "execution_count": 4,
   "id": "5ada5f7c",
   "metadata": {
    "scrolled": true
   },
   "outputs": [
    {
     "name": "stdout",
     "output_type": "stream",
     "text": [
      "Fridge Freezers     5501\n",
      "Mobile Phones       4081\n",
      "Washing Machines    4044\n",
      "CPUs                3862\n",
      "Fridges             3584\n",
      "TVs                 3564\n",
      "Dishwashers         3424\n",
      "Digital Cameras     2697\n",
      "Microwaves          2342\n",
      "Freezers            2212\n",
      "Name:  Category Label, dtype: int64\n",
      "2622    5501\n",
      "2612    4081\n",
      "2620    4044\n",
      "2615    3862\n",
      "2623    3584\n",
      "2614    3564\n",
      "2619    3424\n",
      "2617    2697\n",
      "2618    2342\n",
      "2621    2212\n",
      "Name:  Category ID, dtype: int64\n",
      "38848    27\n",
      "4419     24\n",
      "38849    24\n",
      "1        23\n",
      "4425     23\n",
      "         ..\n",
      "41460     1\n",
      "41461     1\n",
      "41462     1\n",
      "41463     1\n",
      "47525     1\n",
      "Name:  Cluster ID, Length: 13233, dtype: int64\n"
     ]
    }
   ],
   "source": [
    "value_counts = dataset[\" Category Label\"].value_counts()\n",
    "print(value_counts)\n",
    "value_counts = dataset[\" Category ID\"].value_counts()\n",
    "print(value_counts)\n",
    "value_counts = dataset[\" Cluster ID\"].value_counts()\n",
    "print(value_counts)"
   ]
  },
  {
   "cell_type": "markdown",
   "id": "0ff72f7b",
   "metadata": {},
   "source": [
    "\n",
    "## Step 2: Data Preprocessing\n",
    "Preprocess the 'Product Title' and 'Cluster Label' features and encode the 'Category Label'.\n"
   ]
  },
  {
   "cell_type": "code",
   "execution_count": 5,
   "id": "3c90cd7a",
   "metadata": {},
   "outputs": [],
   "source": [
    "from sklearn.model_selection import train_test_split\n",
    "from sklearn.feature_extraction.text import CountVectorizer\n",
    "X = dataset[['Product Title',' Cluster Label']]\n",
    "y = dataset[' Category Label']\n",
    "X = X.copy()\n",
    "X['Product Title _ Cluster Label'] = X['Product Title'] + ' ' + X[' Cluster Label']\n",
    "\n",
    "x_train, x_test, y_train, y_test = train_test_split( X['Product Title _ Cluster Label'], y, \n",
    "                                                    test_size=0.2, random_state=4)\n",
    "\n",
    "vectorizer = CountVectorizer()\n",
    "# Preprocess the train data using CountVectorizer\n",
    "train_features = vectorizer.fit_transform(x_train)\n",
    "# Preprocess the test data using CountVectorizer\n",
    "test_features = vectorizer.transform(x_test)"
   ]
  },
  {
   "cell_type": "markdown",
   "id": "76b226e9",
   "metadata": {},
   "source": [
    "\n",
    "## Step 3: Model Training\n",
    "Implement and train a multi-label classification model.\n"
   ]
  },
  {
   "cell_type": "code",
   "execution_count": 6,
   "id": "03af66a0",
   "metadata": {},
   "outputs": [],
   "source": [
    "# TODO: Implement and train the model\n",
    "from sklearn.naive_bayes import MultinomialNB\n",
    "from sklearn.feature_extraction.text import CountVectorizer\n",
    "\n",
    "# Create a Naive Bayes classifier\n",
    "classifier = MultinomialNB()\n",
    "# Train the classifier\n",
    "classifier.fit(train_features, y_train)\n",
    "\n",
    "# predictions on test_features\n",
    "y_pred = classifier.predict(test_features)"
   ]
  },
  {
   "cell_type": "markdown",
   "id": "dd759ff0",
   "metadata": {},
   "source": [
    "\n",
    "## Step 4: Model Evaluation\n",
    "Evaluate the model using appropriate multi-label classification metrics.\n"
   ]
  },
  {
   "cell_type": "code",
   "execution_count": 7,
   "id": "f4889b93",
   "metadata": {},
   "outputs": [
    {
     "name": "stdout",
     "output_type": "stream",
     "text": [
      "accuracy score for x test prediction:  0.970975506158856\n",
      "f1 score for x test prediction:  0.9708944339099052\n",
      "recall score for x test prediction:  0.970975506158856\n",
      "precision score for x test prediction:  0.971506677899927\n"
     ]
    }
   ],
   "source": [
    "# TODO: Evaluate the model\n",
    "from sklearn.metrics import f1_score, recall_score, precision_score, accuracy_score, confusion_matrix\n",
    "print(\"accuracy score for x test prediction: \", accuracy_score(y_test, y_pred))\n",
    "print(\"f1 score for x test prediction: \", f1_score(y_test, y_pred, average='weighted'))\n",
    "print(\"recall score for x test prediction: \", recall_score(y_test, y_pred, average='weighted'))\n",
    "print(\"precision score for x test prediction: \", precision_score(y_test, y_pred, average='weighted'))"
   ]
  },
  {
   "cell_type": "markdown",
   "id": "32fbd918",
   "metadata": {},
   "source": [
    "\n",
    "### confusion_matrix with y_test and y_pred"
   ]
  },
  {
   "cell_type": "code",
   "execution_count": 8,
   "id": "619e503a",
   "metadata": {
    "scrolled": true
   },
   "outputs": [
    {
     "data": {
      "text/plain": [
       "<AxesSubplot:>"
      ]
     },
     "execution_count": 8,
     "metadata": {},
     "output_type": "execute_result"
    },
    {
     "data": {
      "image/png": "[encoded data removed]",
      "text/plain": [
       "<Figure size 432x288 with 2 Axes>"
      ]
     },
     "metadata": {
      "needs_background": "light"
     },
     "output_type": "display_data"
    }
   ],
   "source": [
    "con_matrix=confusion_matrix(y_test, y_pred)\n",
    "sns.heatmap(con_matrix,annot=True, cmap=\"Greens\")"
   ]
  },
  {
   "cell_type": "markdown",
   "id": "1d49ee02",
   "metadata": {},
   "source": [
    "### save to csv"
   ]
  },
  {
   "cell_type": "code",
   "execution_count": 9,
   "id": "59df4aa7",
   "metadata": {},
   "outputs": [],
   "source": [
    "y_pred_df = pd.DataFrame(y_pred,columns=['Category Label'])\n",
    "y_pred_df.to_csv(\"Q2.csv\",index=False)"
   ]
  }
 ],
 "metadata": {
  "kernelspec": {
   "display_name": "Python 3 (ipykernel)",
   "language": "python",
   "name": "python3"
  },
  "language_info": {
   "codemirror_mode": {
    "name": "ipython",
    "version": 3
   },
   "file_extension": ".py",
   "mimetype": "text/x-python",
   "name": "python",
   "nbconvert_exporter": "python",
   "pygments_lexer": "ipython3",
   "version": "3.9.12"
  }
 },
 "nbformat": 4,
 "nbformat_minor": 5
}
