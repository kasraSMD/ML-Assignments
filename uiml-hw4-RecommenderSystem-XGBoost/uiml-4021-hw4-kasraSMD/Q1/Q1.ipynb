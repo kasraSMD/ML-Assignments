{
 "cells": [
  {
   "cell_type": "code",
   "execution_count": 1,
   "metadata": {
    "colab": {
     "base_uri": "https://localhost:8080/",
     "height": 831
    },
    "id": "WD9R6JpHchK-",
    "outputId": "56adc9a8-fd59-4ba1-eda5-057ab8456668",
    "ExecuteTime": {
     "end_time": "2024-01-26T09:27:30.467488900Z",
     "start_time": "2024-01-26T09:27:29.476490800Z"
    }
   },
   "outputs": [
    {
     "data": {
      "text/plain": "   user_id  item_id  rating\n0      196      242       3\n1      186      302       3\n2       22      377       1\n3      244       51       2\n4      166      346       1",
      "text/html": "<div>\n<style scoped>\n    .dataframe tbody tr th:only-of-type {\n        vertical-align: middle;\n    }\n\n    .dataframe tbody tr th {\n        vertical-align: top;\n    }\n\n    .dataframe thead th {\n        text-align: right;\n    }\n</style>\n<table border=\"1\" class=\"dataframe\">\n  <thead>\n    <tr style=\"text-align: right;\">\n      <th></th>\n      <th>user_id</th>\n      <th>item_id</th>\n      <th>rating</th>\n    </tr>\n  </thead>\n  <tbody>\n    <tr>\n      <th>0</th>\n      <td>196</td>\n      <td>242</td>\n      <td>3</td>\n    </tr>\n    <tr>\n      <th>1</th>\n      <td>186</td>\n      <td>302</td>\n      <td>3</td>\n    </tr>\n    <tr>\n      <th>2</th>\n      <td>22</td>\n      <td>377</td>\n      <td>1</td>\n    </tr>\n    <tr>\n      <th>3</th>\n      <td>244</td>\n      <td>51</td>\n      <td>2</td>\n    </tr>\n    <tr>\n      <th>4</th>\n      <td>166</td>\n      <td>346</td>\n      <td>1</td>\n    </tr>\n  </tbody>\n</table>\n</div>"
     },
     "execution_count": 1,
     "metadata": {},
     "output_type": "execute_result"
    }
   ],
   "source": [
    "# download movie lens 100k dataset\n",
    "# !wget http://files.grouplens.org/datasets/movielens/ml-100k.zip\n",
    "# !pip install wget\n",
    "# import wget\n",
    "# url = 'http://files.grouplens.org/datasets/movielens/ml-100k.zip'\n",
    "# filename = wget.download(url)\n",
    "# !unzip ml-100k.zip\n",
    "import pandas as pd\n",
    "ratings = pd.read_csv(r'Dataset\\ml-100k\\u.data', sep='\\t', header=None, names=['user_id', 'item_id', 'rating', 'timestamp'])\n",
    "ratings.drop('timestamp', axis=1, inplace=True)\n",
    "ratings.head()\n"
   ]
  },
  {
   "cell_type": "code",
   "execution_count": 2,
   "metadata": {
    "id": "YogeDhWIckiy",
    "ExecuteTime": {
     "end_time": "2024-01-26T09:27:33.005483900Z",
     "start_time": "2024-01-26T09:27:30.471491800Z"
    }
   },
   "outputs": [],
   "source": [
    "#perform some preprocessing to encode users and movies as integer indices.\n",
    "\n",
    "from sklearn.preprocessing import LabelEncoder\n",
    "le = LabelEncoder()\n",
    "ratings['user_id'] = le.fit_transform(ratings['user_id'])\n",
    "ratings['item_id'] = le.fit_transform(ratings['item_id'])\n"
   ]
  },
  {
   "cell_type": "code",
   "execution_count": 3,
   "metadata": {
    "colab": {
     "base_uri": "https://localhost:8080/",
     "height": 206
    },
    "id": "yBO4CNoGdcYG",
    "outputId": "d217a9c1-c05a-4189-c07e-6cb99a90757a",
    "ExecuteTime": {
     "end_time": "2024-01-26T09:27:33.190485300Z",
     "start_time": "2024-01-26T09:27:33.013486700Z"
    }
   },
   "outputs": [
    {
     "data": {
      "text/plain": "       user_id  item_id  rating\n51394      769      476       4\n65453      552      131       4\n79128      531      117       4\n41692      536       22       4\n81629      892      150       4",
      "text/html": "<div>\n<style scoped>\n    .dataframe tbody tr th:only-of-type {\n        vertical-align: middle;\n    }\n\n    .dataframe tbody tr th {\n        vertical-align: top;\n    }\n\n    .dataframe thead th {\n        text-align: right;\n    }\n</style>\n<table border=\"1\" class=\"dataframe\">\n  <thead>\n    <tr style=\"text-align: right;\">\n      <th></th>\n      <th>user_id</th>\n      <th>item_id</th>\n      <th>rating</th>\n    </tr>\n  </thead>\n  <tbody>\n    <tr>\n      <th>51394</th>\n      <td>769</td>\n      <td>476</td>\n      <td>4</td>\n    </tr>\n    <tr>\n      <th>65453</th>\n      <td>552</td>\n      <td>131</td>\n      <td>4</td>\n    </tr>\n    <tr>\n      <th>79128</th>\n      <td>531</td>\n      <td>117</td>\n      <td>4</td>\n    </tr>\n    <tr>\n      <th>41692</th>\n      <td>536</td>\n      <td>22</td>\n      <td>4</td>\n    </tr>\n    <tr>\n      <th>81629</th>\n      <td>892</td>\n      <td>150</td>\n      <td>4</td>\n    </tr>\n  </tbody>\n</table>\n</div>"
     },
     "execution_count": 3,
     "metadata": {},
     "output_type": "execute_result"
    }
   ],
   "source": [
    "# prompt: Prepare training and validation data\n",
    "\n",
    "from sklearn.model_selection import train_test_split\n",
    "train_data, test_data = train_test_split(ratings, test_size=0.2)\n",
    "train_data.head()\n"
   ]
  },
  {
   "cell_type": "code",
   "execution_count": 4,
   "metadata": {
    "colab": {
     "base_uri": "https://localhost:8080/"
    },
    "id": "YyupF033eJQj",
    "outputId": "14489f7e-c30f-4b3f-e8bb-14e7940ede48",
    "ExecuteTime": {
     "end_time": "2024-01-26T09:27:33.214487400Z",
     "start_time": "2024-01-26T09:27:33.153488300Z"
    }
   },
   "outputs": [
    {
     "name": "stdout",
     "output_type": "stream",
     "text": [
      "Number of users: 943, Number of Movies: 1682, Min rating: 1, Max rating: 5\n"
     ]
    }
   ],
   "source": [
    "# num_users = len(train_data.user_id.unique())\n",
    "# num_movies = len(train_data.item_id.unique())\n",
    "num_users = max(train_data['user_id'].max(), test_data['user_id'].max()) + 1\n",
    "num_movies = max(train_data['item_id'].max(), test_data['item_id'].max()) + 1\n",
    "min_rating = train_data['rating'].min()\n",
    "max_rating = train_data['rating'].max()\n",
    "print(\"Number of users: {}, Number of Movies: {}, Min rating: {}, Max rating: {}\".format(num_users, num_movies, min_rating, max_rating) )\n"
   ]
  },
  {
   "cell_type": "code",
   "execution_count": 5,
   "metadata": {
    "ExecuteTime": {
     "end_time": "2024-01-26T09:27:33.216483400Z",
     "start_time": "2024-01-26T09:27:33.176498200Z"
    }
   },
   "outputs": [],
   "source": [
    "# ! pip install tensorflow"
   ]
  },
  {
   "cell_type": "code",
   "execution_count": 6,
   "metadata": {
    "ExecuteTime": {
     "end_time": "2024-01-26T09:27:38.396487200Z",
     "start_time": "2024-01-26T09:27:33.190485300Z"
    }
   },
   "outputs": [],
   "source": [
    "import tensorflow as tf\n",
    "from tensorflow.keras.layers import Embedding, Flatten, Dot, Dense\n",
    "from tensorflow.keras.models import Model"
   ]
  },
  {
   "cell_type": "code",
   "execution_count": 7,
   "metadata": {
    "ExecuteTime": {
     "end_time": "2024-01-26T09:27:38.400488300Z",
     "start_time": "2024-01-26T09:27:38.385485900Z"
    }
   },
   "outputs": [],
   "source": [
    "embedding_size = 64\n",
    "user_input = tf.keras.Input(shape=(1,),name='user')\n",
    "movie_input = tf.keras.Input(shape=(1,),name='movie')"
   ]
  },
  {
   "cell_type": "code",
   "execution_count": 8,
   "metadata": {
    "ExecuteTime": {
     "end_time": "2024-01-26T09:27:38.580487100Z",
     "start_time": "2024-01-26T09:27:38.449487800Z"
    }
   },
   "outputs": [],
   "source": [
    "user_embedding = Embedding(num_users, embedding_size)(user_input)\n",
    "movie_embedding = Embedding(num_movies, embedding_size)(movie_input)"
   ]
  },
  {
   "cell_type": "code",
   "execution_count": 9,
   "metadata": {
    "ExecuteTime": {
     "end_time": "2024-01-26T09:27:38.583488400Z",
     "start_time": "2024-01-26T09:27:38.548485300Z"
    }
   },
   "outputs": [],
   "source": [
    "user_vec = Flatten()(user_embedding)\n",
    "movie_vec = Flatten()(movie_embedding)"
   ]
  },
  {
   "cell_type": "code",
   "execution_count": 10,
   "metadata": {
    "ExecuteTime": {
     "end_time": "2024-01-26T09:27:38.621485700Z",
     "start_time": "2024-01-26T09:27:38.565487300Z"
    }
   },
   "outputs": [],
   "source": [
    "dot_product = Dot(axes=1)([user_vec, movie_vec])\n",
    "output = Dense(1, activation='relu')(dot_product)"
   ]
  },
  {
   "cell_type": "code",
   "execution_count": 11,
   "metadata": {
    "ExecuteTime": {
     "end_time": "2024-01-26T09:27:38.752483900Z",
     "start_time": "2024-01-26T09:27:38.594494300Z"
    }
   },
   "outputs": [],
   "source": [
    "model = Model(inputs=[user_input, movie_input], outputs=output)\n",
    "model.compile(optimizer='adam', loss='mean_squared_error')"
   ]
  },
  {
   "cell_type": "code",
   "execution_count": 12,
   "metadata": {
    "ExecuteTime": {
     "end_time": "2024-01-26T09:28:00.170643400Z",
     "start_time": "2024-01-26T09:27:38.644485800Z"
    }
   },
   "outputs": [
    {
     "name": "stdout",
     "output_type": "stream",
     "text": [
      "Epoch 1/5\n",
      "\u001B[1m1125/1125\u001B[0m \u001B[32m━━━━━━━━━━━━━━━━━━━━\u001B[0m\u001B[37m\u001B[0m \u001B[1m6s\u001B[0m 4ms/step - loss: 10.6121 - val_loss: 1.1927\n",
      "Epoch 2/5\n",
      "\u001B[1m1125/1125\u001B[0m \u001B[32m━━━━━━━━━━━━━━━━━━━━\u001B[0m\u001B[37m\u001B[0m \u001B[1m4s\u001B[0m 3ms/step - loss: 1.0163 - val_loss: 0.9576\n",
      "Epoch 3/5\n",
      "\u001B[1m1125/1125\u001B[0m \u001B[32m━━━━━━━━━━━━━━━━━━━━\u001B[0m\u001B[37m\u001B[0m \u001B[1m4s\u001B[0m 3ms/step - loss: 0.8471 - val_loss: 0.9231\n",
      "Epoch 4/5\n",
      "\u001B[1m1125/1125\u001B[0m \u001B[32m━━━━━━━━━━━━━━━━━━━━\u001B[0m\u001B[37m\u001B[0m \u001B[1m4s\u001B[0m 3ms/step - loss: 0.7533 - val_loss: 0.9013\n",
      "Epoch 5/5\n",
      "\u001B[1m1125/1125\u001B[0m \u001B[32m━━━━━━━━━━━━━━━━━━━━\u001B[0m\u001B[37m\u001B[0m \u001B[1m4s\u001B[0m 3ms/step - loss: 0.6499 - val_loss: 0.8995\n"
     ]
    },
    {
     "data": {
      "text/plain": "<keras.src.callbacks.history.History at 0x1876677db70>"
     },
     "execution_count": 12,
     "metadata": {},
     "output_type": "execute_result"
    }
   ],
   "source": [
    "model.fit(\n",
    "    [train_data['user_id'], train_data['item_id']],\n",
    "    train_data['rating'],\n",
    "    batch_size=64,\n",
    "    epochs=5,\n",
    "    validation_split=0.1\n",
    ")"
   ]
  },
  {
   "cell_type": "code",
   "execution_count": 13,
   "metadata": {
    "ExecuteTime": {
     "end_time": "2024-01-26T09:28:01.040648Z",
     "start_time": "2024-01-26T09:28:00.165640900Z"
    }
   },
   "outputs": [
    {
     "data": {
      "text/plain": "<Figure size 640x480 with 1 Axes>",
      "image/png": "[encoded data removed]"
     },
     "metadata": {},
     "output_type": "display_data"
    }
   ],
   "source": [
    "from matplotlib import pyplot as plt\n",
    "\n",
    "history = model.history.history\n",
    "plt.plot(history['loss'], label='Loss')\n",
    "plt.plot(history['val_loss'], label='Val Loss')\n",
    "plt.legend()\n",
    "plt.show()"
   ]
  },
  {
   "cell_type": "code",
   "execution_count": 14,
   "metadata": {
    "ExecuteTime": {
     "end_time": "2024-01-26T09:28:03.668640Z",
     "start_time": "2024-01-26T09:28:01.019649500Z"
    }
   },
   "outputs": [
    {
     "name": "stdout",
     "output_type": "stream",
     "text": [
      "\u001B[1m625/625\u001B[0m \u001B[32m━━━━━━━━━━━━━━━━━━━━\u001B[0m\u001B[37m\u001B[0m \u001B[1m2s\u001B[0m 3ms/step\n"
     ]
    }
   ],
   "source": [
    "test_predictions = model.predict([test_data['user_id'], test_data['item_id']])\n",
    "\n",
    "user_predictions = {}\n",
    "for user_id, item_id, rating, prediction in zip(test_data['user_id'], test_data['item_id'], test_data['rating'], test_predictions):\n",
    "    if user_id not in user_predictions:\n",
    "        user_predictions[user_id] = []\n",
    "    user_predictions[user_id].append((item_id, rating, prediction[0]))\n",
    "\n",
    "for user_id in user_predictions:\n",
    "    user_predictions[user_id].sort(key=lambda x: x[2], reverse=True)"
   ]
  },
  {
   "cell_type": "code",
   "execution_count": 15,
   "metadata": {
    "ExecuteTime": {
     "end_time": "2024-01-26T09:28:03.732066800Z",
     "start_time": "2024-01-26T09:28:03.693172500Z"
    }
   },
   "outputs": [
    {
     "name": "stdout",
     "output_type": "stream",
     "text": [
      "Recall@10: 0.7216\n"
     ]
    }
   ],
   "source": [
    "# Calculate Recall@10\n",
    "recall_at_10 = 0\n",
    "for user_id in user_predictions:\n",
    "    top_10_predictions = [item_id for item_id, _, _ in user_predictions[user_id][:10]]\n",
    "    true_positives = [item_id for item_id, rating, _ in user_predictions[user_id] if rating >= 4]\n",
    "\n",
    "    if len(true_positives) > 0:\n",
    "        num_true_positives = len(set(top_10_predictions).intersection(set(true_positives)))\n",
    "        recall_at_10 += num_true_positives / len(true_positives)\n",
    "\n",
    "recall_at_10 /= len(user_predictions)\n",
    "\n",
    "print(\"Recall@10: {:.4f}\".format(recall_at_10))"
   ]
  },
  {
   "cell_type": "code",
   "execution_count": 16,
   "metadata": {
    "ExecuteTime": {
     "end_time": "2024-01-26T09:28:03.734073900Z",
     "start_time": "2024-01-26T09:28:03.706192700Z"
    }
   },
   "outputs": [],
   "source": [
    "desired_user_id = 1  # Specify the desired user_id\n",
    "desired_user_predictions = user_predictions[desired_user_id]\n",
    "desired_user_predictions.sort(key=lambda x: x[2], reverse=True)\n",
    "\n",
    "# Get the item_ids of the top 10 recommended movies for the desired user\n",
    "top_10_movie_ids = [item_id for item_id, _, _ in desired_user_predictions[:10]]"
   ]
  },
  {
   "cell_type": "code",
   "execution_count": 17,
   "metadata": {
    "ExecuteTime": {
     "end_time": "2024-01-26T09:28:03.761070500Z",
     "start_time": "2024-01-26T09:28:03.718072300Z"
    }
   },
   "outputs": [
    {
     "name": "stdout",
     "output_type": "stream",
     "text": [
      "Recommended Movies For UserID = 1 : [274, 257, 278, 291, 110, 289, 293, 298]\n"
     ]
    }
   ],
   "source": [
    "print(f\"Recommended Movies For UserID = {desired_user_id} : {top_10_movie_ids}\")"
   ]
  },
  {
   "cell_type": "code",
   "execution_count": 17,
   "metadata": {
    "ExecuteTime": {
     "end_time": "2024-01-26T09:28:03.763066200Z",
     "start_time": "2024-01-26T09:28:03.735078700Z"
    }
   },
   "outputs": [],
   "source": []
  }
 ],
 "metadata": {
  "colab": {
   "provenance": []
  },
  "kernelspec": {
   "display_name": "Python 3 (ipykernel)",
   "language": "python",
   "name": "python3"
  },
  "language_info": {
   "codemirror_mode": {
    "name": "ipython",
    "version": 3
   },
   "file_extension": ".py",
   "mimetype": "text/x-python",
   "name": "python",
   "nbconvert_exporter": "python",
   "pygments_lexer": "ipython3",
   "version": "3.9.12"
  }
 },
 "nbformat": 4,
 "nbformat_minor": 1
}
