{
 "cells": [
  {
   "cell_type": "markdown",
   "id": "b041ff8c",
   "metadata": {},
   "source": [
    "# Kasra Samadi 993623030"
   ]
  },
  {
   "cell_type": "code",
   "execution_count": 1,
   "id": "4b64cb5a",
   "metadata": {},
   "outputs": [],
   "source": [
    "import numpy as np\n",
    "import pandas as pd\n",
    "import matplotlib.pyplot as plt\n",
    "import seaborn as sns\n",
    "from sklearn.metrics import mean_squared_error\n",
    "%matplotlib inline"
   ]
  },
  {
   "cell_type": "markdown",
   "id": "5f878216",
   "metadata": {},
   "source": [
    "### reading Housing_Train and Housing_Test from csv"
   ]
  },
  {
   "cell_type": "code",
   "execution_count": 2,
   "id": "e5518b83",
   "metadata": {},
   "outputs": [],
   "source": [
    "df = pd.read_csv(\"Datasets\\Housingdata\\Housing_Train.csv\")\n",
    "df = pd.DataFrame(df)\n",
    "df_test = pd.read_csv(\"Datasets\\Housingdata\\Housing_Test.csv\")\n",
    "df_test = pd.DataFrame(df_test)"
   ]
  },
  {
   "cell_type": "markdown",
   "id": "1bb8e338",
   "metadata": {},
   "source": [
    "### drop null values from train and test data frames and replacing with mean or median"
   ]
  },
  {
   "cell_type": "code",
   "execution_count": 3,
   "id": "e21400aa",
   "metadata": {},
   "outputs": [],
   "source": [
    "# train df replacing null values\n",
    "temp_CRIM = df[\"CRIM\"]\n",
    "dropna_CRIM = temp_CRIM.dropna()\n",
    "median_CRIM = dropna_CRIM.median()\n",
    "df[\"CRIM\"].fillna(median_CRIM, inplace=True)\n",
    "# test df replacing null values\n",
    "temp_CRIM_test = df_test[\"CRIM\"]\n",
    "dropna_CRIM_test = temp_CRIM_test.dropna()\n",
    "median_CRIM_test = dropna_CRIM_test.median()\n",
    "df_test[\"CRIM\"].fillna(median_CRIM_test, inplace=True)"
   ]
  },
  {
   "cell_type": "code",
   "execution_count": 4,
   "id": "2e75f0da",
   "metadata": {},
   "outputs": [],
   "source": [
    "# train df replacing null values\n",
    "temp_ZN = df[\"ZN\"]\n",
    "dropna_ZN = temp_ZN.dropna()\n",
    "median_ZN = dropna_ZN.median()\n",
    "df[\"ZN\"].fillna(median_ZN, inplace=True)\n",
    "# test df replacing null values\n",
    "temp_ZN_test = df_test[\"ZN\"]\n",
    "dropna_ZN_test = temp_ZN_test.dropna()\n",
    "median_ZN_test = dropna_ZN_test.median()\n",
    "df_test[\"ZN\"].fillna(median_ZN_test, inplace=True)"
   ]
  },
  {
   "cell_type": "code",
   "execution_count": 5,
   "id": "a9d28751",
   "metadata": {},
   "outputs": [],
   "source": [
    "# train df replacing null values\n",
    "temp_INDUS = df[\"INDUS\"]\n",
    "dropna_INDUS = temp_INDUS.dropna()\n",
    "mean_INDUS = dropna_INDUS.mean()\n",
    "df[\"INDUS\"].fillna(mean_INDUS, inplace=True)\n",
    "# test df replacing null values\n",
    "temp_INDUS_test = df_test[\"INDUS\"]\n",
    "dropna_INDUS_test = temp_INDUS_test.dropna()\n",
    "mean_INDUS_test = dropna_INDUS_test.mean()\n",
    "df_test[\"INDUS\"].fillna(mean_INDUS_test, inplace=True)"
   ]
  },
  {
   "cell_type": "code",
   "execution_count": 6,
   "id": "7cbfbb73",
   "metadata": {},
   "outputs": [],
   "source": [
    "# train df replacing null values\n",
    "temp_CHAS = df[\"CHAS\"]\n",
    "dropna_CHAS = temp_CHAS.dropna()\n",
    "median_CHAS = dropna_CHAS.median()\n",
    "df[\"CHAS\"].fillna(median_CHAS, inplace=True)\n",
    "# test df replacing null values\n",
    "temp_CHAS_test = df_test[\"CHAS\"]\n",
    "dropna_CHAS_test = temp_CHAS_test.dropna()\n",
    "median_CHAS_test = dropna_CHAS_test.median()\n",
    "df_test[\"CHAS\"].fillna(median_CHAS_test, inplace=True)"
   ]
  },
  {
   "cell_type": "code",
   "execution_count": 7,
   "id": "1ba560f8",
   "metadata": {},
   "outputs": [],
   "source": [
    "# train df replacing null values\n",
    "temp_NOX = df[\"NOX\"]\n",
    "dropna_NOX = temp_NOX.dropna()\n",
    "mean_NOX = dropna_NOX.mean()\n",
    "df[\"NOX\"].fillna(mean_NOX, inplace=True)\n",
    "# test df replacing null values\n",
    "temp_NOX_test = df_test[\"NOX\"]\n",
    "dropna_NOX_test = temp_NOX_test.dropna()\n",
    "mean_NOX_test = dropna_NOX_test.mean()\n",
    "df_test[\"NOX\"].fillna(mean_NOX_test, inplace=True)"
   ]
  },
  {
   "cell_type": "code",
   "execution_count": 8,
   "id": "b85f0c9b",
   "metadata": {},
   "outputs": [],
   "source": [
    "# train df replacing null values\n",
    "temp_RM = df[\"RM\"]\n",
    "dropna_RM = temp_RM.dropna()\n",
    "mean_RM = dropna_RM.mean()\n",
    "df[\"RM\"].fillna(mean_RM, inplace=True)\n",
    "# test df replacing null values\n",
    "temp_RM_test = df_test[\"RM\"]\n",
    "dropna_RM_test = temp_RM_test.dropna()\n",
    "mean_RM_test = dropna_RM_test.mean()\n",
    "df_test[\"RM\"].fillna(mean_RM_test, inplace=True)"
   ]
  },
  {
   "cell_type": "code",
   "execution_count": 9,
   "id": "383d0963",
   "metadata": {},
   "outputs": [],
   "source": [
    "# train df replacing null values\n",
    "temp_AGE = df[\"AGE\"]\n",
    "dropna_AGE = temp_AGE.dropna()\n",
    "mean_AGE = dropna_AGE.mean()\n",
    "df[\"AGE\"].fillna(mean_AGE, inplace=True)\n",
    "# test df replacing null values\n",
    "temp_AGE_test = df_test[\"AGE\"]\n",
    "dropna_AGE_test = temp_AGE_test.dropna()\n",
    "mean_AGE_test = dropna_AGE_test.mean()\n",
    "df_test[\"AGE\"].fillna(mean_AGE_test, inplace=True)"
   ]
  },
  {
   "cell_type": "code",
   "execution_count": 10,
   "id": "672439a1",
   "metadata": {},
   "outputs": [],
   "source": [
    "# train df replacing null values\n",
    "temp_DIS = df[\"DIS\"]\n",
    "dropna_DIS = temp_DIS.dropna()\n",
    "mean_DIS = dropna_DIS.mean()\n",
    "df[\"DIS\"].fillna(mean_DIS, inplace=True)\n",
    "# test df replacing null values\n",
    "temp_DIS_test = df_test[\"DIS\"]\n",
    "dropna_DIS_test = temp_DIS_test.dropna()\n",
    "mean_DIS_test = dropna_DIS_test.mean()\n",
    "df_test[\"DIS\"].fillna(mean_DIS_test, inplace=True)"
   ]
  },
  {
   "cell_type": "code",
   "execution_count": 11,
   "id": "cb0a019f",
   "metadata": {},
   "outputs": [],
   "source": [
    "# train df replacing null values\n",
    "temp_RAD = df[\"RAD\"]\n",
    "dropna_RAD = temp_RAD.dropna()\n",
    "median_RAD = dropna_RAD.median()\n",
    "df[\"RAD\"].fillna(median_RAD, inplace=True)\n",
    "# test df replacing null values\n",
    "temp_RAD_test = df_test[\"RAD\"]\n",
    "dropna_RAD_test = temp_RAD_test.dropna()\n",
    "median_RAD_test = dropna_RAD_test.median()\n",
    "df_test[\"RAD\"].fillna(median_RAD_test, inplace=True)"
   ]
  },
  {
   "cell_type": "code",
   "execution_count": 12,
   "id": "09019166",
   "metadata": {},
   "outputs": [],
   "source": [
    "# train df replacing null values\n",
    "temp_TAX = df[\"TAX\"]\n",
    "dropna_TAX = temp_TAX.dropna()\n",
    "median_TAX = dropna_TAX.median()\n",
    "df[\"TAX\"].fillna(median_TAX, inplace=True)\n",
    "# test df replacing null values\n",
    "temp_TAX_test = df_test[\"TAX\"]\n",
    "dropna_TAX_test = temp_TAX_test.dropna()\n",
    "median_TAX_test = dropna_TAX_test.median()\n",
    "df_test[\"TAX\"].fillna(median_TAX_test, inplace=True)"
   ]
  },
  {
   "cell_type": "code",
   "execution_count": 13,
   "id": "367ed6a8",
   "metadata": {},
   "outputs": [],
   "source": [
    "# train df replacing null values\n",
    "temp_PTRATIO = df[\"PTRATIO\"]\n",
    "dropna_PTRATIO = temp_PTRATIO.dropna()\n",
    "mean_PTRATIO = dropna_PTRATIO.mean()\n",
    "df[\"PTRATIO\"].fillna(mean_PTRATIO, inplace=True)\n",
    "# test df replacing null values\n",
    "temp_PTRATIO_test = df_test[\"PTRATIO\"]\n",
    "dropna_PTRATIO_test = temp_PTRATIO_test.dropna()\n",
    "mean_PTRATIO_test = dropna_PTRATIO_test.mean()\n",
    "df_test[\"PTRATIO\"].fillna(mean_PTRATIO_test, inplace=True)"
   ]
  },
  {
   "cell_type": "code",
   "execution_count": 14,
   "id": "c9849a6d",
   "metadata": {},
   "outputs": [],
   "source": [
    "# train df replacing null values\n",
    "temp_B = df[\"B\"]\n",
    "dropna_B = temp_B.dropna()\n",
    "mean_B = dropna_B.mean()\n",
    "df[\"B\"].fillna(mean_B, inplace=True)\n",
    "# test df replacing null values\n",
    "temp_B_test = df_test[\"B\"]\n",
    "dropna_B_test = temp_B_test.dropna()\n",
    "mean_B_test = dropna_B_test.mean()\n",
    "df_test[\"B\"].fillna(mean_B_test, inplace=True)"
   ]
  },
  {
   "cell_type": "code",
   "execution_count": 15,
   "id": "df5f2d92",
   "metadata": {},
   "outputs": [],
   "source": [
    "# train df replacing null values\n",
    "temp_LSTAT = df[\"LSTAT\"]\n",
    "dropna_LSTAT = temp_LSTAT.dropna()\n",
    "mean_LSTAT = dropna_LSTAT.mean()\n",
    "df[\"LSTAT\"].fillna(mean_LSTAT, inplace=True)\n",
    "# test df replacing null values\n",
    "temp_LSTAT_test = df_test[\"LSTAT\"]\n",
    "dropna_LSTAT_test = temp_LSTAT_test.dropna()\n",
    "mean_LSTAT_test = dropna_LSTAT_test.mean()\n",
    "df_test[\"LSTAT\"].fillna(mean_LSTAT_test, inplace=True)"
   ]
  },
  {
   "cell_type": "markdown",
   "id": "23dbaaa4",
   "metadata": {},
   "source": [
    "### heap map"
   ]
  },
  {
   "cell_type": "code",
   "execution_count": 16,
   "id": "8bb42079",
   "metadata": {},
   "outputs": [
    {
     "data": {
      "image/png": "[encoded data removed]",
      "text/plain": [
       "<Figure size 1080x1080 with 1 Axes>"
      ]
     },
     "metadata": {
      "needs_background": "light"
     },
     "output_type": "display_data"
    }
   ],
   "source": [
    "corr = df.corr()\n",
    "fig, ax = plt.subplots(figsize=(15, 15))\n",
    "sns.heatmap(corr,annot=True,cbar=0, linewidths=1,vmax=1, square=True, ax=ax)\n",
    "plt.show()"
   ]
  },
  {
   "cell_type": "markdown",
   "id": "2dbb0573",
   "metadata": {},
   "source": [
    "### df normalizing "
   ]
  },
  {
   "cell_type": "code",
   "execution_count": 17,
   "id": "a29a2b54",
   "metadata": {},
   "outputs": [],
   "source": [
    "from sklearn.preprocessing import StandardScaler, MinMaxScaler\n",
    "\n",
    "X_drop = df.drop(\"MEDV\", axis=1)\n",
    "y = df[\"MEDV\"]\n",
    "\n",
    "# X_drop normalizing\n",
    "x_train_values = X_drop.values #returns a numpy array\n",
    "min_max_scaler = StandardScaler()\n",
    "x_scaled_train = min_max_scaler.fit_transform(x_train_values)\n",
    "X_drop = pd.DataFrame(x_scaled_train,columns = X_drop.columns)\n",
    "\n",
    "#df_test normalizing\n",
    "x_test_values = df_test.values #returns a numpy array\n",
    "min_max_scaler = StandardScaler()\n",
    "x_scaled_test = min_max_scaler.fit_transform(x_test_values)\n",
    "df_test = pd.DataFrame(x_scaled_test,columns = df_test.columns)\n",
    "\n",
    "\n",
    "#Add a column of ones for the intercept for x train\n",
    "X_drop = pd.concat([pd.Series(1, index=X_drop.index, name=\"Intercept\"), X_drop], axis=1)\n",
    "\n",
    "# Add a column of ones for the intercept for x test\n",
    "x_test_intecept = pd.concat([pd.Series(1, index=df_test.index, name=\"Intercept\"), df_test], axis=1)\n",
    "\n"
   ]
  },
  {
   "cell_type": "code",
   "execution_count": 18,
   "id": "d07f36ca",
   "metadata": {},
   "outputs": [
    {
     "data": {
      "text/html": [
       "<div>\n",
       "<style scoped>\n",
       "    .dataframe tbody tr th:only-of-type {\n",
       "        vertical-align: middle;\n",
       "    }\n",
       "\n",
       "    .dataframe tbody tr th {\n",
       "        vertical-align: top;\n",
       "    }\n",
       "\n",
       "    .dataframe thead th {\n",
       "        text-align: right;\n",
       "    }\n",
       "</style>\n",
       "<table border=\"1\" class=\"dataframe\">\n",
       "  <thead>\n",
       "    <tr style=\"text-align: right;\">\n",
       "      <th></th>\n",
       "      <th>Intercept</th>\n",
       "      <th>CRIM</th>\n",
       "      <th>ZN</th>\n",
       "      <th>INDUS</th>\n",
       "      <th>CHAS</th>\n",
       "      <th>NOX</th>\n",
       "      <th>RM</th>\n",
       "      <th>AGE</th>\n",
       "      <th>DIS</th>\n",
       "      <th>RAD</th>\n",
       "      <th>TAX</th>\n",
       "      <th>PTRATIO</th>\n",
       "      <th>B</th>\n",
       "      <th>LSTAT</th>\n",
       "    </tr>\n",
       "  </thead>\n",
       "  <tbody>\n",
       "    <tr>\n",
       "      <th>0</th>\n",
       "      <td>1</td>\n",
       "      <td>-0.370445</td>\n",
       "      <td>-0.458594</td>\n",
       "      <td>-0.103557</td>\n",
       "      <td>-0.267261</td>\n",
       "      <td>-0.589166</td>\n",
       "      <td>-0.696477</td>\n",
       "      <td>0.140104</td>\n",
       "      <td>0.290040</td>\n",
       "      <td>-0.661477</td>\n",
       "      <td>-0.794024</td>\n",
       "      <td>0.033139</td>\n",
       "      <td>0.362138</td>\n",
       "      <td>1.252878e-15</td>\n",
       "    </tr>\n",
       "    <tr>\n",
       "      <th>1</th>\n",
       "      <td>1</td>\n",
       "      <td>-0.328068</td>\n",
       "      <td>-0.458594</td>\n",
       "      <td>-0.470374</td>\n",
       "      <td>-0.267261</td>\n",
       "      <td>-0.162933</td>\n",
       "      <td>-0.461482</td>\n",
       "      <td>-0.258038</td>\n",
       "      <td>0.461769</td>\n",
       "      <td>-0.661477</td>\n",
       "      <td>-0.616881</td>\n",
       "      <td>1.147718</td>\n",
       "      <td>0.444455</td>\n",
       "      <td>-6.716608e-01</td>\n",
       "    </tr>\n",
       "    <tr>\n",
       "      <th>2</th>\n",
       "      <td>1</td>\n",
       "      <td>-0.260457</td>\n",
       "      <td>-0.458594</td>\n",
       "      <td>-0.470374</td>\n",
       "      <td>-0.267261</td>\n",
       "      <td>-0.162933</td>\n",
       "      <td>-0.188265</td>\n",
       "      <td>0.834113</td>\n",
       "      <td>0.105941</td>\n",
       "      <td>-0.661477</td>\n",
       "      <td>-0.616881</td>\n",
       "      <td>1.147718</td>\n",
       "      <td>0.444455</td>\n",
       "      <td>8.038432e-01</td>\n",
       "    </tr>\n",
       "    <tr>\n",
       "      <th>3</th>\n",
       "      <td>1</td>\n",
       "      <td>-0.366229</td>\n",
       "      <td>-0.458594</td>\n",
       "      <td>1.020850</td>\n",
       "      <td>3.741657</td>\n",
       "      <td>0.646041</td>\n",
       "      <td>0.577592</td>\n",
       "      <td>1.020399</td>\n",
       "      <td>-1.170187</td>\n",
       "      <td>1.636106</td>\n",
       "      <td>1.502932</td>\n",
       "      <td>0.776192</td>\n",
       "      <td>0.206761</td>\n",
       "      <td>-1.310670e+00</td>\n",
       "    </tr>\n",
       "    <tr>\n",
       "      <th>4</th>\n",
       "      <td>1</td>\n",
       "      <td>1.037421</td>\n",
       "      <td>-0.458594</td>\n",
       "      <td>1.020850</td>\n",
       "      <td>-0.267261</td>\n",
       "      <td>1.594192</td>\n",
       "      <td>-0.595967</td>\n",
       "      <td>1.013094</td>\n",
       "      <td>-0.907724</td>\n",
       "      <td>1.636106</td>\n",
       "      <td>1.502932</td>\n",
       "      <td>0.776192</td>\n",
       "      <td>-1.278797</td>\n",
       "      <td>1.519025e+00</td>\n",
       "    </tr>\n",
       "    <tr>\n",
       "      <th>...</th>\n",
       "      <td>...</td>\n",
       "      <td>...</td>\n",
       "      <td>...</td>\n",
       "      <td>...</td>\n",
       "      <td>...</td>\n",
       "      <td>...</td>\n",
       "      <td>...</td>\n",
       "      <td>...</td>\n",
       "      <td>...</td>\n",
       "      <td>...</td>\n",
       "      <td>...</td>\n",
       "      <td>...</td>\n",
       "      <td>...</td>\n",
       "      <td>...</td>\n",
       "    </tr>\n",
       "    <tr>\n",
       "      <th>400</th>\n",
       "      <td>1</td>\n",
       "      <td>-0.286260</td>\n",
       "      <td>-0.458594</td>\n",
       "      <td>-0.470374</td>\n",
       "      <td>-0.267261</td>\n",
       "      <td>-0.162933</td>\n",
       "      <td>0.564852</td>\n",
       "      <td>0.673395</td>\n",
       "      <td>0.233593</td>\n",
       "      <td>-0.661477</td>\n",
       "      <td>-0.616881</td>\n",
       "      <td>1.147718</td>\n",
       "      <td>0.260757</td>\n",
       "      <td>-1.469118e-01</td>\n",
       "    </tr>\n",
       "    <tr>\n",
       "      <th>401</th>\n",
       "      <td>1</td>\n",
       "      <td>-0.395301</td>\n",
       "      <td>-0.458594</td>\n",
       "      <td>-0.912052</td>\n",
       "      <td>-0.267261</td>\n",
       "      <td>-0.363002</td>\n",
       "      <td>-0.537927</td>\n",
       "      <td>-0.338397</td>\n",
       "      <td>0.903753</td>\n",
       "      <td>-0.546598</td>\n",
       "      <td>-1.106977</td>\n",
       "      <td>0.776192</td>\n",
       "      <td>0.421424</td>\n",
       "      <td>-3.472192e-01</td>\n",
       "    </tr>\n",
       "    <tr>\n",
       "      <th>402</th>\n",
       "      <td>1</td>\n",
       "      <td>-0.082553</td>\n",
       "      <td>-0.458594</td>\n",
       "      <td>1.020850</td>\n",
       "      <td>-0.267261</td>\n",
       "      <td>-0.215125</td>\n",
       "      <td>-0.726206</td>\n",
       "      <td>-1.043364</td>\n",
       "      <td>0.165067</td>\n",
       "      <td>1.636106</td>\n",
       "      <td>1.502932</td>\n",
       "      <td>0.776192</td>\n",
       "      <td>0.400596</td>\n",
       "      <td>-3.669678e-01</td>\n",
       "    </tr>\n",
       "    <tr>\n",
       "      <th>403</th>\n",
       "      <td>1</td>\n",
       "      <td>-0.348467</td>\n",
       "      <td>-0.458594</td>\n",
       "      <td>-0.760833</td>\n",
       "      <td>3.741657</td>\n",
       "      <td>-0.432591</td>\n",
       "      <td>0.638464</td>\n",
       "      <td>-0.086362</td>\n",
       "      <td>-0.052345</td>\n",
       "      <td>-0.201960</td>\n",
       "      <td>-0.616881</td>\n",
       "      <td>-0.524150</td>\n",
       "      <td>0.040034</td>\n",
       "      <td>-7.012838e-01</td>\n",
       "    </tr>\n",
       "    <tr>\n",
       "      <th>404</th>\n",
       "      <td>1</td>\n",
       "      <td>-0.358543</td>\n",
       "      <td>-0.458594</td>\n",
       "      <td>-0.760833</td>\n",
       "      <td>3.741657</td>\n",
       "      <td>-0.432591</td>\n",
       "      <td>0.956982</td>\n",
       "      <td>0.717227</td>\n",
       "      <td>-0.437200</td>\n",
       "      <td>-0.201960</td>\n",
       "      <td>-0.616881</td>\n",
       "      <td>-0.524150</td>\n",
       "      <td>0.387153</td>\n",
       "      <td>-4.671216e-01</td>\n",
       "    </tr>\n",
       "  </tbody>\n",
       "</table>\n",
       "<p>405 rows × 14 columns</p>\n",
       "</div>"
      ],
      "text/plain": [
       "     Intercept      CRIM        ZN     INDUS      CHAS       NOX        RM  \\\n",
       "0            1 -0.370445 -0.458594 -0.103557 -0.267261 -0.589166 -0.696477   \n",
       "1            1 -0.328068 -0.458594 -0.470374 -0.267261 -0.162933 -0.461482   \n",
       "2            1 -0.260457 -0.458594 -0.470374 -0.267261 -0.162933 -0.188265   \n",
       "3            1 -0.366229 -0.458594  1.020850  3.741657  0.646041  0.577592   \n",
       "4            1  1.037421 -0.458594  1.020850 -0.267261  1.594192 -0.595967   \n",
       "..         ...       ...       ...       ...       ...       ...       ...   \n",
       "400          1 -0.286260 -0.458594 -0.470374 -0.267261 -0.162933  0.564852   \n",
       "401          1 -0.395301 -0.458594 -0.912052 -0.267261 -0.363002 -0.537927   \n",
       "402          1 -0.082553 -0.458594  1.020850 -0.267261 -0.215125 -0.726206   \n",
       "403          1 -0.348467 -0.458594 -0.760833  3.741657 -0.432591  0.638464   \n",
       "404          1 -0.358543 -0.458594 -0.760833  3.741657 -0.432591  0.956982   \n",
       "\n",
       "          AGE       DIS       RAD       TAX   PTRATIO         B         LSTAT  \n",
       "0    0.140104  0.290040 -0.661477 -0.794024  0.033139  0.362138  1.252878e-15  \n",
       "1   -0.258038  0.461769 -0.661477 -0.616881  1.147718  0.444455 -6.716608e-01  \n",
       "2    0.834113  0.105941 -0.661477 -0.616881  1.147718  0.444455  8.038432e-01  \n",
       "3    1.020399 -1.170187  1.636106  1.502932  0.776192  0.206761 -1.310670e+00  \n",
       "4    1.013094 -0.907724  1.636106  1.502932  0.776192 -1.278797  1.519025e+00  \n",
       "..        ...       ...       ...       ...       ...       ...           ...  \n",
       "400  0.673395  0.233593 -0.661477 -0.616881  1.147718  0.260757 -1.469118e-01  \n",
       "401 -0.338397  0.903753 -0.546598 -1.106977  0.776192  0.421424 -3.472192e-01  \n",
       "402 -1.043364  0.165067  1.636106  1.502932  0.776192  0.400596 -3.669678e-01  \n",
       "403 -0.086362 -0.052345 -0.201960 -0.616881 -0.524150  0.040034 -7.012838e-01  \n",
       "404  0.717227 -0.437200 -0.201960 -0.616881 -0.524150  0.387153 -4.671216e-01  \n",
       "\n",
       "[405 rows x 14 columns]"
      ]
     },
     "execution_count": 18,
     "metadata": {},
     "output_type": "execute_result"
    }
   ],
   "source": [
    "X_drop"
   ]
  },
  {
   "cell_type": "markdown",
   "id": "0f6d8909",
   "metadata": {},
   "source": [
    "### define X_train ,y_train  and X_test"
   ]
  },
  {
   "cell_type": "code",
   "execution_count": 19,
   "id": "8bd3dd4a",
   "metadata": {
    "scrolled": false
   },
   "outputs": [],
   "source": [
    "X_train = X_drop\n",
    "y_train = y\n",
    "X_test = x_test_intecept\n"
   ]
  },
  {
   "cell_type": "markdown",
   "id": "ce8dd47a",
   "metadata": {},
   "source": [
    "### linear Regression"
   ]
  },
  {
   "cell_type": "code",
   "execution_count": 20,
   "id": "da404738",
   "metadata": {},
   "outputs": [],
   "source": [
    "def cost_function(X, y, theta):\n",
    "    m = len(y)\n",
    "    y_pred = X.dot(theta)\n",
    "    error = (y_pred - y) ** 2\n",
    "    cost = (1 / (2 * m)) * np.sum(error)\n",
    "    return np.sqrt(cost)\n"
   ]
  },
  {
   "cell_type": "code",
   "execution_count": 21,
   "id": "b9f8e548",
   "metadata": {},
   "outputs": [],
   "source": [
    "def gradient_descent(X, y, theta, alpha, iterations):\n",
    "    m = len(y)\n",
    "    cost_history = np.zeros(iterations)\n",
    "    for i in range(iterations):\n",
    "        y_pred = X.dot(theta)\n",
    "        gradients = (1 / m) * X.T.dot(y_pred - y)\n",
    "        theta = theta - alpha * gradients\n",
    "        cost = cost_function(X, y, theta)\n",
    "        cost_history[i] = cost\n",
    "    return theta, cost_history"
   ]
  },
  {
   "cell_type": "markdown",
   "id": "02f48878",
   "metadata": {},
   "source": [
    "### Calculate theta and cost_history"
   ]
  },
  {
   "cell_type": "code",
   "execution_count": 22,
   "id": "475852ec",
   "metadata": {},
   "outputs": [
    {
     "data": {
      "text/plain": [
       "Intercept    22.261486\n",
       "CRIM         -0.965103\n",
       "ZN            0.701142\n",
       "INDUS        -0.148775\n",
       "CHAS          0.688855\n",
       "NOX          -1.304353\n",
       "RM            3.235063\n",
       "AGE          -0.499196\n",
       "DIS          -2.565351\n",
       "RAD           1.502301\n",
       "TAX          -1.305745\n",
       "PTRATIO      -1.890508\n",
       "B             0.917689\n",
       "LSTAT        -3.186290\n",
       "dtype: float64"
      ]
     },
     "execution_count": 22,
     "metadata": {},
     "output_type": "execute_result"
    }
   ],
   "source": [
    "from sklearn.metrics import mean_squared_error\n",
    "\n",
    "alpha = 0.01  # learning rate\n",
    "iterations = 1000  # number of iterations\n",
    "theta = np.random.randn(X_train.shape[1])  # initial parameters\n",
    "theta, cost_history = gradient_descent(X_train, y_train, theta, alpha, iterations)\n",
    "theta"
   ]
  },
  {
   "cell_type": "markdown",
   "id": "d5a56f44",
   "metadata": {},
   "source": [
    "### predict y_pred"
   ]
  },
  {
   "cell_type": "code",
   "execution_count": 23,
   "id": "244d1e7e",
   "metadata": {
    "scrolled": true
   },
   "outputs": [
    {
     "data": {
      "text/html": [
       "<div>\n",
       "<style scoped>\n",
       "    .dataframe tbody tr th:only-of-type {\n",
       "        vertical-align: middle;\n",
       "    }\n",
       "\n",
       "    .dataframe tbody tr th {\n",
       "        vertical-align: top;\n",
       "    }\n",
       "\n",
       "    .dataframe thead th {\n",
       "        text-align: right;\n",
       "    }\n",
       "</style>\n",
       "<table border=\"1\" class=\"dataframe\">\n",
       "  <thead>\n",
       "    <tr style=\"text-align: right;\">\n",
       "      <th></th>\n",
       "      <th>MEDV</th>\n",
       "    </tr>\n",
       "  </thead>\n",
       "  <tbody>\n",
       "    <tr>\n",
       "      <th>0</th>\n",
       "      <td>29.512695</td>\n",
       "    </tr>\n",
       "    <tr>\n",
       "      <th>1</th>\n",
       "      <td>24.097024</td>\n",
       "    </tr>\n",
       "    <tr>\n",
       "      <th>2</th>\n",
       "      <td>28.990870</td>\n",
       "    </tr>\n",
       "    <tr>\n",
       "      <th>3</th>\n",
       "      <td>22.048936</td>\n",
       "    </tr>\n",
       "    <tr>\n",
       "      <th>4</th>\n",
       "      <td>18.560069</td>\n",
       "    </tr>\n",
       "    <tr>\n",
       "      <th>...</th>\n",
       "      <td>...</td>\n",
       "    </tr>\n",
       "    <tr>\n",
       "      <th>96</th>\n",
       "      <td>20.057190</td>\n",
       "    </tr>\n",
       "    <tr>\n",
       "      <th>97</th>\n",
       "      <td>18.103181</td>\n",
       "    </tr>\n",
       "    <tr>\n",
       "      <th>98</th>\n",
       "      <td>21.286061</td>\n",
       "    </tr>\n",
       "    <tr>\n",
       "      <th>99</th>\n",
       "      <td>26.896587</td>\n",
       "    </tr>\n",
       "    <tr>\n",
       "      <th>100</th>\n",
       "      <td>21.374980</td>\n",
       "    </tr>\n",
       "  </tbody>\n",
       "</table>\n",
       "<p>101 rows × 1 columns</p>\n",
       "</div>"
      ],
      "text/plain": [
       "          MEDV\n",
       "0    29.512695\n",
       "1    24.097024\n",
       "2    28.990870\n",
       "3    22.048936\n",
       "4    18.560069\n",
       "..         ...\n",
       "96   20.057190\n",
       "97   18.103181\n",
       "98   21.286061\n",
       "99   26.896587\n",
       "100  21.374980\n",
       "\n",
       "[101 rows x 1 columns]"
      ]
     },
     "execution_count": 23,
     "metadata": {},
     "output_type": "execute_result"
    }
   ],
   "source": [
    "y_pred = X_test.dot(theta)\n",
    "y_pred = pd.DataFrame(y_pred,columns=['MEDV'])\n",
    "y_pred"
   ]
  },
  {
   "cell_type": "markdown",
   "id": "ce23080e",
   "metadata": {},
   "source": [
    "### save to csv"
   ]
  },
  {
   "cell_type": "code",
   "execution_count": 24,
   "id": "c6b05266",
   "metadata": {
    "scrolled": true
   },
   "outputs": [],
   "source": [
    "y_pred.to_csv(\"house_pred.csv\",index=False)"
   ]
  },
  {
   "cell_type": "code",
   "execution_count": 25,
   "id": "3ab76760",
   "metadata": {},
   "outputs": [],
   "source": [
    "# rmse=cost_function(X_train,y_train,theta)\n",
    "# rmse"
   ]
  },
  {
   "cell_type": "code",
   "execution_count": null,
   "id": "d10f397d",
   "metadata": {},
   "outputs": [],
   "source": []
  }
 ],
 "metadata": {
  "kernelspec": {
   "display_name": "Python 3 (ipykernel)",
   "language": "python",
   "name": "python3"
  },
  "language_info": {
   "codemirror_mode": {
    "name": "ipython",
    "version": 3
   },
   "file_extension": ".py",
   "mimetype": "text/x-python",
   "name": "python",
   "nbconvert_exporter": "python",
   "pygments_lexer": "ipython3",
   "version": "3.9.12"
  }
 },
 "nbformat": 4,
 "nbformat_minor": 5
}
